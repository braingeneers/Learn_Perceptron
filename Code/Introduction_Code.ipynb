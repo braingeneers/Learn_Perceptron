{
 "cells": [
  {
   "cell_type": "markdown",
   "id": "6fe5a1b4",
   "metadata": {},
   "source": [
    "<font size=7 face=\"Courier\"> Source Code for Introductory Notebook"
   ]
  },
  {
   "cell_type": "markdown",
   "id": "9285888a",
   "metadata": {},
   "source": [
    "This is the source code used to create the [Introductory Perceptron Notebook](../Introduction.ipynb)"
   ]
  },
  {
   "cell_type": "markdown",
   "id": "eb53db65",
   "metadata": {},
   "source": [
    "<font color=\"red\">\n",
    "\n",
    "**Haussler Questions**\n",
    "* Is $u$ stationary?"
   ]
  },
  {
   "cell_type": "markdown",
   "id": "cb3682c0",
   "metadata": {},
   "source": [
    "**Code References**\n",
    "* [jupyter widgets](https://ipywidgets.readthedocs.io/en/latest/examples/Widget%20List.html)\n",
    "* [arrow documentaiton](https://matplotlib.org/stable/api/_as_gen/matplotlib.pyplot.arrow.html) and [arrow tutorial](https://www.geeksforgeeks.org/matplotlib-pyplot-arrow-in-python/)\n",
    "* [legend tutorial](https://matplotlib.org/3.5.0/tutorials/intermediate/legend_guide.html)\n"
   ]
  },
  {
   "cell_type": "markdown",
   "id": "313ab546",
   "metadata": {},
   "source": [
    "# <font color=\"gray\">Set Up Notebook"
   ]
  },
  {
   "cell_type": "markdown",
   "id": "4664b0b3",
   "metadata": {},
   "source": [
    "Basic packages for plotting and data science"
   ]
  },
  {
   "cell_type": "code",
   "execution_count": 1,
   "id": "3432dc3a",
   "metadata": {},
   "outputs": [],
   "source": [
    "from math import cos, sin, pi\n",
    "from sklearn.datasets import load_iris   # Package to laod data\n",
    "from matplotlib import pyplot as plt     # Common plotting package\n",
    "from matplotlib.patches import Patch, Circle     # Package to add colors in legend\n",
    "import numpy as np                       # Common package for working wit data\n",
    "import random"
   ]
  },
  {
   "cell_type": "markdown",
   "id": "7d9a062c",
   "metadata": {},
   "source": [
    "Jupyter Widgets"
   ]
  },
  {
   "cell_type": "code",
   "execution_count": 2,
   "id": "a70e9865",
   "metadata": {},
   "outputs": [],
   "source": [
    "from ipywidgets import interact          # Package for building GUI\n",
    "import ipywidgets as ipw\n",
    "from IPython.display import HTML, display, Javascript, clear_output"
   ]
  },
  {
   "cell_type": "markdown",
   "id": "43b350a9",
   "metadata": {},
   "source": [
    "Create an object called `gui` to hold all code to create gui interfaces"
   ]
  },
  {
   "cell_type": "code",
   "execution_count": 26,
   "id": "7967c61e",
   "metadata": {},
   "outputs": [],
   "source": [
    "gui = type('gui', (object,), {})()"
   ]
  },
  {
   "cell_type": "markdown",
   "id": "276ee372",
   "metadata": {},
   "source": [
    "# <font color=\"magenta\">Perceptron Classes"
   ]
  },
  {
   "cell_type": "markdown",
   "id": "136fbc49",
   "metadata": {},
   "source": [
    "## <font color=\"gray\"> Too Simple Class"
   ]
  },
  {
   "cell_type": "markdown",
   "id": "fc489023",
   "metadata": {},
   "source": [
    "The code is so simple we don't use it"
   ]
  },
  {
   "cell_type": "markdown",
   "id": "6c56585f",
   "metadata": {},
   "source": [
    "``` python\n",
    "class Perceptron:\n",
    "    \n",
    "    def __init__(self, w ):\n",
    "        self.w = w\n",
    "\n",
    "    def update( self, x, y):                   \n",
    "        y_pred = -1. if np.dot(self.w, x)<0 else 1.              # Get models prediction for y        \n",
    "        self.w = self.w + (y!=y_pred) * float(y)*np.array(x)     # Update weights based on x,y,y_pred\n",
    "```"
   ]
  },
  {
   "cell_type": "markdown",
   "id": "ea277b18",
   "metadata": {},
   "source": [
    "## <font color=\"magenta\">Simple Perceptron"
   ]
  },
  {
   "cell_type": "markdown",
   "id": "70a31e94",
   "metadata": {},
   "source": [
    "This is the simplest example of the perceptron algorithm. It uses"
   ]
  },
  {
   "cell_type": "code",
   "execution_count": 32,
   "id": "e9d14516",
   "metadata": {},
   "outputs": [],
   "source": [
    "class PerceptronSimple:\n",
    "    \"\"\"\n",
    "    This code implements the perceptron algorithim for a single perceptron.... EXPLAINE MORE \n",
    "    Notes:\n",
    "    * THe input,x, is a vector whose first value should always be 1\n",
    "    * w*x can either be compared against a true output, y, or against the true weights, u\n",
    "    \"\"\"\n",
    "    \n",
    "    def __init__(self, w ):\n",
    "        \"\"\"\n",
    "        We initialize weights and create arrays to hold previous data values for future analysis\n",
    "        We initializing the class the user must decide whether to compare x against true output, y, or true weights, u\n",
    "        \"\"\"\n",
    "        self.w = w\n",
    "        self.data = type('data', (object,), {})()\n",
    "        self.data.w      =  np.empty((0,len(w)))             # Create arrays to hold history parameter values\n",
    "        self.data.x      =  np.empty((0,len(w)))\n",
    "        self.data.y      =  np.empty((0))\n",
    "        self.data.y_pred =  np.empty((0))\n",
    "        \n",
    "    def predict(self, x ):\n",
    "        \"Gives a prediction for y, using x and the weights 'w' inside the perceptron\"\n",
    "        return -1. if np.dot(self.w, x)<0 else 1.\n",
    "    \n",
    "    def update( self, x, y):     \n",
    "        \"Updates the weights 'w' based on the correctness of the perceptron's prediction. Logs previous values to history\"\n",
    "        self.data.w = np.append( self.data.w, [self.w], 0 )      # Save old values fror w, x, and y\n",
    "        self.data.x = np.append( self.data.x, [x], 0 )\n",
    "        self.data.y = np.append( self.data.y, y )                \n",
    "        y_pred = self.predict(x)                                 # Get models prediction for y\n",
    "        self.data.y_pred = np.append( self.data.y_pred, y_pred ) # Save models prediction for y \n",
    "        \n",
    "        self.w = self.w + (y!=y_pred) * float(y)*np.array(x)     # Update weights based on x,y,y_pred\n",
    "        \n",
    "        \n",
    "    def getHistory(self):\n",
    "        \"Returns history of all previous x,y,y_pred,w values from previous time steps\"\n",
    "        return vars(self.data)\n",
    "                                  \n",
    "    def getW(self):\n",
    "        \"Returns the valeu of the current weights 'w' . Weights can also be received by running 'object_name.w' \"\n",
    "        return self.w\n"
   ]
  },
  {
   "cell_type": "markdown",
   "id": "ffdd2994",
   "metadata": {
    "heading_collapsed": true
   },
   "source": [
    "## <font color=\"magenta\">Perceptron $u$"
   ]
  },
  {
   "cell_type": "code",
   "execution_count": 4,
   "id": "18fc5536",
   "metadata": {
    "hidden": true
   },
   "outputs": [],
   "source": [
    "class PerceptronU:\n",
    "    \"\"\"\n",
    "    This code implements the perceptron algorithim for a single perceptron\n",
    "    Instead using a target output, y, it does updates using a \"ideal\" weight matrix u\n",
    "    \"\"\"\n",
    "    def __init__(self, w ):\n",
    "        \"\"\"\n",
    "        We initialize weights and create arrays to hold previous data values for future analysis\n",
    "        \"\"\"\n",
    "        self.w = w\n",
    "        self.data = type('data', (object,), {})()\n",
    "        self.data.u = np.empty((0,len(w)))\n",
    "        self.data.w      =  np.empty((0,len(w)))                 # Create arrays to hold history parameter values\n",
    "        self.data.x      =  np.empty((0,len(w)))\n",
    "        self.data.y      =  np.empty((0))\n",
    "        self.data.y_pred =  np.empty((0))\n",
    "        \n",
    "    def predict(self, x ):\n",
    "        return -1. if np.dot(self.w, x)<0 else 1.\n",
    "    \n",
    "    def update(self, x, u ):          \n",
    "        self.data.w = np.append( self.data.w, [self.w], 0 )      # Save old values w,x, and u\n",
    "        self.data.x = np.append( self.data.x, [x], 0 )\n",
    "        self.data.u = np.append( self.data.u, [u], 0 )      \n",
    "        y_pred = self.predict(x)                                 # Get models prediction for y\n",
    "        self.data.y_pred = np.append( self.data.y_pred, y_pred ) # Save models prediction for y \n",
    "        y = -1. if np.dot(u_or_y, x)<0 else 1.                   # calculate y from u\n",
    "        self.data.y = np.append( self.data.y, y )                # save y to data history\n",
    "        \n",
    "        self.w = self.w + (y!=y_pred) * y*np.array(x)            # Update weights based on x,y,y_pred\n",
    "        \n",
    "    def getHistory(self):\n",
    "        return vars(self.data)\n",
    "                                  \n",
    "    def getW(self):\n",
    "        return self.w\n",
    "                         "
   ]
  },
  {
   "cell_type": "markdown",
   "id": "bf51e858",
   "metadata": {
    "heading_collapsed": true
   },
   "source": [
    "## <font color=\"magenta\">Perceptron -- $u$ and $y$"
   ]
  },
  {
   "cell_type": "code",
   "execution_count": 5,
   "id": "7b223fa1",
   "metadata": {
    "hidden": true
   },
   "outputs": [],
   "source": [
    "class PerceptronUY:\n",
    "    \"\"\"\n",
    "    This code implements the perceptron algorithim for a single perceptron.... \n",
    "    Notes:\n",
    "    * w*x can either be compared against a true output, y, or against the true weights, u\n",
    "    \"\"\"\n",
    "    def __init__(self, w, compare_uw=False ):\n",
    "        \"\"\"\n",
    "        We initialize weights and create arrays to hold previous data values for future analysis\n",
    "        We initializing the class the user must decide whether to compare x against true output, y, or true weights, u\n",
    "        \"\"\"\n",
    "        self.w = w\n",
    "        self.data = type('data', (object,), {})()\n",
    "        self.compare_uw = compare_uw                         # if user compares x to u, create an additional log for this history\n",
    "        if compare_uw:\n",
    "            self.data.u = np.empty((0,len(w)))\n",
    "        \n",
    "        self.data.w      =  np.empty((0,len(w)))             # Create arrays to hold history parameter values\n",
    "        self.data.x      =  np.empty((0,len(w)))\n",
    "        self.data.y      =  np.empty((0))\n",
    "        self.data.y_pred =  np.empty((0))\n",
    "        \n",
    "        \n",
    "    def predict(self, x ):\n",
    "        return -1. if np.dot(self.w, x)<0 else 1.\n",
    "    \n",
    "    \n",
    "    def update( self, x, u_or_y ):          \n",
    "        self.data.w = np.append( self.data.w, [self.w], 0 )      # Save old values w and x\n",
    "        self.data.x = np.append( self.data.x, [x], 0 )\n",
    "        y_pred = self.predict(x)                                 # Get models prediction for y\n",
    "        self.data.y_pred = np.append( self.data.y_pred, y_pred ) # Save models prediction for y \n",
    "                          \n",
    "        if self.compare_uw:                                      # If we're using u,\n",
    "            self.data.u = np.append( self.data.u, [u_or_y], 0 )  # save u to the history\n",
    "            y = -1. if np.dot(u_or_y, x)<0 else 1.               # and calculate y from u\n",
    "        else:                                                    # otherwise just use the y that's given\n",
    "            y = float(u_or_y)                                    # make sure it's a float\n",
    "        self.data.y = np.append( self.data.y, y )                # save y to data history\n",
    "        \n",
    "        self.w = self.w + (y!=y_pred) * y*np.array(x)            # Update weights based on x,y,y_pred\n",
    "        \n",
    "        \n",
    "    def getHistory(self):\n",
    "        return vars(self.data)\n",
    "                                  \n",
    "    def getW(self):\n",
    "        return self.w\n",
    "                         "
   ]
  },
  {
   "cell_type": "markdown",
   "id": "4167eb2d",
   "metadata": {
    "heading_collapsed": true
   },
   "source": [
    "## <font color=\"brown\"> Old -- Simple Perceptron Classes"
   ]
  },
  {
   "cell_type": "markdown",
   "id": "01b98f83",
   "metadata": {
    "hidden": true
   },
   "source": [
    "``` python\n",
    "class Perceptron:\n",
    "    \"\"\"\n",
    "    This code implements the perceptron algorithim for a single perceptron.... write more\n",
    "    Notes:\n",
    "    * THe input, is a vector whose first value should always be 1\n",
    "    * x can either be compared against a true output, y, or against the true weights, u\n",
    "    \"\"\"\n",
    "    \n",
    "    def __init__(self, x_len, w_var=0.1, learn_rate=0.1, use_u=False ):\n",
    "        \"\"\"\n",
    "        We initialize weights and create arrays to hold previous data values for future analysis\n",
    "        We initializing the class the user must decide whether to compare x against true output, y, or true weights, u\n",
    "        \"\"\"\n",
    "        self.w = np.random.normal(loc=0.0, scale=w_var, size=x_len)     # Set weights\n",
    "        self.r = learn_rate\n",
    "        \n",
    "        self.old_w =  np.empty((0,x_len))                  # Create arrays to hold history parameter values\n",
    "        self.old_x =  np.empty((0,x_len))\n",
    "        self.old_y =  np.empty((0))\n",
    "        self.old_y_pred =  np.empty((0))\n",
    "        \n",
    "        self.use_u = use_u                                 # if user compares x to u, create an additional log for this history\n",
    "        if use_u:\n",
    "            self.old_u = np.empty((0,x_len))\n",
    "        \n",
    "    \n",
    "    def predict( self, x ):\n",
    "        return float( np.dot( x, self.w) > 0 )\n",
    "    \n",
    "    def update( self, x, u_or_y ):          \n",
    "        y_pred = self.predict(x)                              # Get models prediction for output\n",
    "\n",
    "        self.old_w = np.append( self.old_w, [self.w], 0 )     # Save old values for future analysis\n",
    "        self.old_x = np.append( self.old_x, [x], 0 )\n",
    "        self.old_y_pred = np.append( self.old_y_pred, y_pred )  \n",
    "                          \n",
    "        if self.use_u:\n",
    "            self.old_u = np.append( self.old_u, [u_or_y], 0 )  \n",
    "            y = float( np.dot( x, u_or_y ) > 0 )             \n",
    "        else:\n",
    "            y = float(u_or_y)\n",
    "        self.old_y = np.append( self.old_y, y )  \n",
    "        \n",
    "        self.w = self.w = self.w + self.r*(y - y_pred) * np.array(x)     # Update weights based on x,y,y_pred\n",
    "        \n",
    "    def getHistory(self):\n",
    "        if self.use_u:\n",
    "            return {\"W\":self.old_w, \"X\":self.old_x, \"U\":self.old_u, \"Y\":self.old_y, \"Y_pred\":self.old_y_pred}\n",
    "        else:                           \n",
    "            return {\"W\":self.old_w, \"X\":self.old_x, \"Y\":self.old_y, \"Y_pred\":self.old_y_pred}\n",
    "                                  \n",
    "    def getW(self):\n",
    "        return self.w\n",
    "```                          "
   ]
  },
  {
   "cell_type": "markdown",
   "id": "c1030728",
   "metadata": {
    "heading_collapsed": true
   },
   "source": [
    "## <font color=\"brown\"> Testing Perceptron"
   ]
  },
  {
   "cell_type": "markdown",
   "id": "9d4bf34b",
   "metadata": {
    "heading_collapsed": true,
    "hidden": true
   },
   "source": [
    "### <font color=\"brown\">check with $y$"
   ]
  },
  {
   "cell_type": "raw",
   "id": "57ff6626",
   "metadata": {
    "hidden": true
   },
   "source": [
    "x=[1,1,1]\n",
    "y=1"
   ]
  },
  {
   "cell_type": "raw",
   "id": "5feb4cd7",
   "metadata": {
    "hidden": true
   },
   "source": [
    "w = [0,-1,0]"
   ]
  },
  {
   "cell_type": "raw",
   "id": "b9d06082",
   "metadata": {
    "hidden": true
   },
   "source": [
    "learner = Perceptron(w)"
   ]
  },
  {
   "cell_type": "raw",
   "id": "e730195b",
   "metadata": {
    "hidden": true
   },
   "source": [
    "v = learner.getHistory()"
   ]
  },
  {
   "cell_type": "raw",
   "id": "fb4b542f",
   "metadata": {
    "hidden": true
   },
   "source": [
    "v"
   ]
  },
  {
   "cell_type": "raw",
   "id": "8d1fdd74",
   "metadata": {
    "hidden": true
   },
   "source": [
    "x=[1,1,1]\n",
    "y=1"
   ]
  },
  {
   "cell_type": "markdown",
   "id": "709c6c56",
   "metadata": {
    "hidden": true
   },
   "source": [
    "learner.predict(x)"
   ]
  },
  {
   "cell_type": "raw",
   "id": "c2146ee4",
   "metadata": {
    "hidden": true
   },
   "source": [
    "learner.update(x,y)"
   ]
  },
  {
   "cell_type": "markdown",
   "id": "d67b2040",
   "metadata": {
    "hidden": true
   },
   "source": [
    "Check if learner udpated"
   ]
  },
  {
   "cell_type": "raw",
   "id": "3bfeae65",
   "metadata": {
    "hidden": true
   },
   "source": [
    "learner.getHistory()"
   ]
  },
  {
   "cell_type": "raw",
   "id": "96ac5bbc",
   "metadata": {
    "hidden": true
   },
   "source": [
    "learner.w"
   ]
  },
  {
   "cell_type": "raw",
   "id": "9277db2b",
   "metadata": {
    "hidden": true
   },
   "source": [
    "learner.w"
   ]
  },
  {
   "cell_type": "raw",
   "id": "5a3dd834",
   "metadata": {
    "hidden": true
   },
   "source": [
    "learner.predict(x)"
   ]
  },
  {
   "cell_type": "markdown",
   "id": "6bbdee9e",
   "metadata": {
    "heading_collapsed": true,
    "hidden": true
   },
   "source": [
    "### <font color=\"brown\">check with $u$"
   ]
  },
  {
   "cell_type": "raw",
   "id": "3715e9dc",
   "metadata": {
    "hidden": true
   },
   "source": [
    "w = [0,-1,0]\n",
    "u=[0,1,1]\n",
    "learner = Perceptron(w, compare_uw=True)"
   ]
  },
  {
   "cell_type": "raw",
   "id": "0468cfa1",
   "metadata": {
    "hidden": true
   },
   "source": [
    "v = learner.getHistory()\n",
    "v"
   ]
  },
  {
   "cell_type": "raw",
   "id": "11c8ff56",
   "metadata": {
    "hidden": true
   },
   "source": [
    "x=[1,1,1]\n",
    "learner.predict(x)"
   ]
  },
  {
   "cell_type": "raw",
   "id": "2faaa3ef",
   "metadata": {
    "hidden": true
   },
   "source": [
    "learner.update(x, u)"
   ]
  },
  {
   "cell_type": "markdown",
   "id": "d82fa7bb",
   "metadata": {
    "hidden": true
   },
   "source": [
    "Check if learner udpated"
   ]
  },
  {
   "cell_type": "raw",
   "id": "3a220c1f",
   "metadata": {
    "hidden": true
   },
   "source": [
    "learner.getHistory()"
   ]
  },
  {
   "cell_type": "raw",
   "id": "f651e763",
   "metadata": {
    "hidden": true
   },
   "source": [
    "learner.getW()"
   ]
  },
  {
   "cell_type": "raw",
   "id": "4f19f4f3",
   "metadata": {
    "hidden": true
   },
   "source": [
    "#-1. if np.dot(x, u)<0 else 1.   # y calculation\n",
    "#-1. if np.dot(x, w)<0 else 1.    # y_pred"
   ]
  },
  {
   "cell_type": "code",
   "execution_count": null,
   "id": "a10cd1d9",
   "metadata": {
    "hidden": true
   },
   "outputs": [],
   "source": []
  },
  {
   "cell_type": "markdown",
   "id": "0459b8a0",
   "metadata": {},
   "source": [
    "# <font color=\"blue\"> GUI's"
   ]
  },
  {
   "cell_type": "markdown",
   "id": "b86a2ab1",
   "metadata": {},
   "source": [
    "## <font color=\"blue\">guiLinearClassifier Example"
   ]
  },
  {
   "cell_type": "markdown",
   "id": "6148fd3a",
   "metadata": {},
   "source": [
    "This function is used to so that students can try drawing a boundary between a set of datapoints."
   ]
  },
  {
   "cell_type": "code",
   "execution_count": 33,
   "id": "d7680168",
   "metadata": {},
   "outputs": [],
   "source": [
    "def guiLinearClassifier():\n",
    "    @interact( slope=(-2.0, 2.0, .5), bias=(-2, 3, 0.5) )  # Creates an interactive GUI\n",
    "    def f(slope, bias):  \n",
    "        x = np.linspace(0, 5, num=1000)       # Create dummy points for interactive line\n",
    "        plt.rcParams[\"figure.figsize\"]=8,5              # Set size of plot\n",
    "        plt.ylim(-.2, 1.9)                    # Set Y-Axis\n",
    "        print(f\"Petal_Width = {slope} Petal_Length + {bias}\")\n",
    "        plt.plot(x, slope * x + bias, c=\"g\")         # Plot interactive line\n",
    "\n",
    "        iris = load_iris()                    # Load iris data\n",
    "        x = iris.data[ iris.target <2, 2: ]   # Set Inputs data, X, to petal width and petal length\n",
    "        y = iris.target[ iris.target < 2 ]    # Get outputs for tw ospecies of flowers\n",
    "\n",
    "        plt.scatter( x[:,0], x[:,1], c=y, cmap=\"bwr\")         # Create scatter plot of data\n",
    "        plt.xlabel(iris.feature_names[2])                     # Add x and y axis labels\n",
    "        plt.ylabel(iris.feature_names[3]) \n",
    "        legend_elements = [Patch(\"r\",\"r\"), Patch(\"b\",\"b\") ]   # Create colors in legend\n",
    "        plt.legend(legend_elements, [\"Tulips\",\"Roses\"])       # Add legend\n",
    "        plt.show()                                            # Show plot"
   ]
  },
  {
   "cell_type": "code",
   "execution_count": 11,
   "id": "117ba483",
   "metadata": {},
   "outputs": [],
   "source": [
    "#guiLinearClassifier()"
   ]
  },
  {
   "cell_type": "markdown",
   "id": "81a3ff42",
   "metadata": {},
   "source": [
    "## <font color=\"blue\">Perceptron example"
   ]
  },
  {
   "cell_type": "markdown",
   "id": "e47cfa36",
   "metadata": {},
   "source": [
    "Here we show a visualization of the perceptron happening"
   ]
  },
  {
   "cell_type": "code",
   "execution_count": 8,
   "id": "224b5d39",
   "metadata": {},
   "outputs": [],
   "source": [
    "def guiPerceptron():\n",
    "    # Create Dataset\n",
    "    x = np.array([[-.7,.2],[.5,.5],[.7,.3],[-.3,.6],[0,.7],[-.5,-.5],[.8,-.2],[.1,-.8],[-.7,-.3],[-.3,-.4]])  \n",
    "    y = np.array([-1,-1,-1,-1,-1,1,1,1,1,1])     #y = np.array([1,1,1,1,1,-1,-1,-1,-1,-1]) # alternate example\n",
    "    np.random.seed(1)\n",
    "    ites= np.random.choice(10,10,replace=False)\n",
    "    x,y = x[ites]*5, y[ites]\n",
    "    \n",
    "    @interact( updates=(0, 10, 1) )  # Creates an interactive GUI\n",
    "    def f(updates):  \n",
    "        # Scatterplot of datapoints\n",
    "        plt.rcParams[\"figure.figsize\"]=8,8              # Set size of plot\n",
    "        plt.axhline(0, color=\"gray\", linewidth=.5)\n",
    "        plt.axvline(0, color='gray', linewidth=.5)\n",
    "        plt.scatter( x[:,0], x[:,1], c=y, cmap=\"bwr\")         # Create scatter plot of data\n",
    "        plt.legend( [Patch(\"b\",\"b\"),Patch(\"r\",\"r\")], [\"$-1$\",\"$1$\"], loc=\"lower right\")       # Add legend\n",
    "        plt.axis([-5, 5, -5, 5])                             # Set x and y axis\n",
    "\n",
    "        # set up perceptron  and do updates\n",
    "        w = [-1,-1]\n",
    "        learner= PerceptronSimple(w)\n",
    "        for i in range(updates):\n",
    "            learner.update(x[i],y[i])       # Draw weights vector and correpsonding Linear Classifier\n",
    "\n",
    "        # Show the last point that was updated\n",
    "        if updates>0 and y[i]==learner.predict(x[i]):                                 \n",
    "            plt.scatter( x[i,0], x[i,1], c=\"g\", linewidth=7 )\n",
    "        if updates>0 and y[i]>learner.data.y_pred[i]:\n",
    "            plt.scatter( x[i,0], x[i,1], c=\"r\", linewidth=7 )\n",
    "            plt.arrow( 0,0, x[i,0],x[i,1], facecolor=\"r\",alpha=.5, width = 0.05, length_includes_head=True, edgecolor=\"None\")\n",
    "            plt.arrow(0, 0, learner.data.w[-1,0],learner.data.w[-1,1], facecolor=\"g\",alpha=.5, width = 0.05, length_includes_head=True, edgecolor=\"None\")  \n",
    "            plt.arrow( learner.data.w[-1,0],learner.data.w[-1,1], x[i,0],x[i,1], facecolor=\"r\",alpha=.5, width = 0.05, length_includes_head=True, edgecolor=\"None\")  \n",
    "        if updates>0 and y[i]<learner.data.y_pred[i]:\n",
    "            plt.scatter( x[i,0], x[i,1], c=\"r\", linewidth=7 )\n",
    "            plt.arrow( 0,0, x[i,0],x[i,1], facecolor=\"r\",alpha=.5, width = 0.05, length_includes_head=True, edgecolor=\"None\")\n",
    "            plt.arrow(0, 0, learner.data.w[-1,0],learner.data.w[-1,1], facecolor=\"g\",alpha=.5, width = 0.05, length_includes_head=True, edgecolor=\"None\")  \n",
    "            plt.arrow( learner.data.w[-1,0],learner.data.w[-1,1], -x[i,0],-x[i,1], facecolor=\"r\",alpha=.5, width = 0.05, length_includes_head=True, edgecolor=\"None\")     \n",
    "\n",
    "        # check which are classified positive\n",
    "        for i in range(len(x)):\n",
    "            if learner.predict(x[i]) != y[i]:\n",
    "                plt.scatter( x[i,0], x[i,1],  s=220 ,facecolors=\"none\", edgecolors=\"r\", linewidth=.2 ) \n",
    "        plt.arrow(0,0, learner.w[0],learner.w[1], facecolor=\"green\", width=0.1, length_includes_head=True, edgecolor=\"None\") \n",
    "        plt.plot( [-10,10], -learner.w[0]/learner.w[1] * np.array([-10,10]), c=\"black\", linewidth=1)    # Linear classifier line\n",
    "\n"
   ]
  },
  {
   "cell_type": "code",
   "execution_count": 12,
   "id": "63fb3b85",
   "metadata": {},
   "outputs": [],
   "source": [
    "#guiPerceptron()"
   ]
  },
  {
   "cell_type": "markdown",
   "id": "3eb10630",
   "metadata": {},
   "source": [
    "### <font color=\"gray\">Helper: Getting x and y"
   ]
  },
  {
   "cell_type": "markdown",
   "id": "4b36b6f1",
   "metadata": {},
   "source": [
    "We run the code below to get to find the x and y used in the introduction notebook."
   ]
  },
  {
   "cell_type": "raw",
   "id": "ac392971",
   "metadata": {},
   "source": [
    "# Create Dataset\n",
    "x = np.array([[-.7,.2],[.5,.5],[.7,.3],[-.3,.6],[0,.7],[-.5,-.5],[.8,-.2],[.1,-.8],[-.7,-.3],[-.3,-.4]])  \n",
    "y = np.array([-1,-1,-1,-1,-1,1,1,1,1,1])     #y = np.array([1,1,1,1,1,-1,-1,-1,-1,-1]) # alternate example\n",
    "np.random.seed(1)\n",
    "ites= np.random.choice(10,10,replace=False)\n",
    "x,y = x[ites]*5, y[ites]\n",
    "\n",
    "print(x)\n",
    "print(y)"
   ]
  },
  {
   "cell_type": "markdown",
   "id": "86040d5e",
   "metadata": {},
   "source": [
    "This is the code used in the introduction"
   ]
  },
  {
   "cell_type": "raw",
   "id": "b1ad0c7c",
   "metadata": {},
   "source": [
    "x=np.array([[3.5,1.5],[-1.5,-2],[4,-1],[0,3.5],[-3.5,1],[-1.5,3],[2.5,2.5],[0.5,-4],[-3.5,-1.5],[-2.5,-2.5]])\n",
    "y=np.array([-1,1,1,-1,-1,-1,-1,1,1,1])"
   ]
  },
  {
   "cell_type": "code",
   "execution_count": null,
   "id": "97e913cc",
   "metadata": {},
   "outputs": [],
   "source": []
  },
  {
   "cell_type": "code",
   "execution_count": null,
   "id": "fb7dd88b",
   "metadata": {},
   "outputs": [],
   "source": []
  },
  {
   "cell_type": "markdown",
   "id": "b2d57918",
   "metadata": {
    "heading_collapsed": true
   },
   "source": [
    "## <font color=\"brown\"> OLD-guiPerceptronDynamics"
   ]
  },
  {
   "cell_type": "raw",
   "id": "1510b9c9",
   "metadata": {
    "hidden": true
   },
   "source": [
    "def graphArrows(w_cords, u_cords):\n",
    "    \n",
    "    # Set up plot's size, axis, title, and grid lines\n",
    "    plt.rcParams[\"figure.figsize\"]=8,8              # Set size of plot\n",
    "    plt.axis([-1, 1, -1, 1])                        # Set position of X and Y axis\n",
    "    plt.title(\"Comparison of $U$ and $W$\", fontsize=20) # Create title for graph\n",
    "    plt.grid(color = 'gray', linestyle = '-.', linewidth = 0.2)\n",
    "    plt.xticks(np.arange(-1,1, .5))                 # Add dashed lines every 0.5 steps\n",
    "    plt.yticks(np.arange(-1,1, .5))\n",
    "    plt.axhline(0, color='black')                   # Add origin lines\n",
    "    plt.axvline(0, color='black')\n",
    "\n",
    "    # Plot u and w\n",
    "    w_arrow = plt.arrow(0, 0, w_cords[0], w_cords[1], facecolor=\"red\", width = 0.025, length_includes_head=True, edgecolor=\"None\")\n",
    "    u_arrow = plt.arrow(0, 0, u_cords[0], u_cords[1], facecolor=\"green\", width = 0.025, length_includes_head=True, edgecolor=\"None\", )\n",
    "    plt.legend([u_arrow,w_arrow], [\"u\",\"w\"])     # add legend\n",
    "    plt.show"
   ]
  },
  {
   "cell_type": "code",
   "execution_count": 10,
   "id": "a122d299",
   "metadata": {
    "hidden": true
   },
   "outputs": [],
   "source": [
    "#graphArrows([1,1],[-1,1])"
   ]
  }
 ],
 "metadata": {
  "hide_input": false,
  "kernelspec": {
   "display_name": "Python 3 (ipykernel)",
   "language": "python",
   "name": "python3"
  },
  "language_info": {
   "codemirror_mode": {
    "name": "ipython",
    "version": 3
   },
   "file_extension": ".py",
   "mimetype": "text/x-python",
   "name": "python",
   "nbconvert_exporter": "python",
   "pygments_lexer": "ipython3",
   "version": "3.9.7"
  },
  "toc": {
   "base_numbering": 1,
   "nav_menu": {},
   "number_sections": false,
   "sideBar": true,
   "skip_h1_title": false,
   "title_cell": "Table of Contents",
   "title_sidebar": "Contents",
   "toc_cell": false,
   "toc_position": {},
   "toc_section_display": true,
   "toc_window_display": false
  }
 },
 "nbformat": 4,
 "nbformat_minor": 5
}
