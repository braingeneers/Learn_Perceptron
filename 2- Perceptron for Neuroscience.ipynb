{
 "cells": [
  {
   "cell_type": "markdown",
   "id": "c794d837",
   "metadata": {},
   "source": [
    "<font size=7>Perceptron for Neuroscience"
   ]
  },
  {
   "cell_type": "markdown",
   "id": "d49a18fe",
   "metadata": {},
   "source": [
    "<font color=\"red\">\n",
    "\n",
    "**Haussler Questions**\n",
    "* is $u$ stationary?"
   ]
  },
  {
   "cell_type": "code",
   "execution_count": null,
   "id": "46f58048",
   "metadata": {},
   "outputs": [],
   "source": []
  },
  {
   "cell_type": "markdown",
   "id": "f95e51a8",
   "metadata": {},
   "source": [
    "# (Briefly) How Neurons work <font color=\"red\">- Not Done"
   ]
  },
  {
   "cell_type": "code",
   "execution_count": null,
   "id": "30724b72",
   "metadata": {},
   "outputs": [],
   "source": []
  },
  {
   "cell_type": "code",
   "execution_count": null,
   "id": "4ffd5a2c",
   "metadata": {},
   "outputs": [],
   "source": []
  },
  {
   "cell_type": "markdown",
   "id": "65c82b67",
   "metadata": {},
   "source": [
    "# <font color=\"blue\">Update 1 - Excitatory & Inhibitory Neurons <font color=\"red\">- Not Done"
   ]
  },
  {
   "cell_type": "markdown",
   "id": "c34f635d",
   "metadata": {},
   "source": [
    "<font color=\"red\">Use z in earlier part instead of x (haussler notes)."
   ]
  },
  {
   "cell_type": "code",
   "execution_count": null,
   "id": "ca3b9311",
   "metadata": {},
   "outputs": [],
   "source": []
  },
  {
   "cell_type": "markdown",
   "id": "4f380160",
   "metadata": {},
   "source": [
    "# <font color=\"blue\">Update 2 - Update only when Confident <font color=\"red\">- Not Done"
   ]
  },
  {
   "cell_type": "code",
   "execution_count": null,
   "id": "14992e44",
   "metadata": {},
   "outputs": [],
   "source": []
  },
  {
   "cell_type": "code",
   "execution_count": null,
   "id": "6235a25e",
   "metadata": {},
   "outputs": [],
   "source": []
  },
  {
   "cell_type": "markdown",
   "id": "59db1b62",
   "metadata": {},
   "source": [
    "# <font color=\"blue\">Update 3 - Notion of Time <font color=\"red\">- Not Done"
   ]
  },
  {
   "cell_type": "code",
   "execution_count": null,
   "id": "1dfd9488",
   "metadata": {},
   "outputs": [],
   "source": []
  }
 ],
 "metadata": {
  "hide_input": false,
  "kernelspec": {
   "display_name": "Python 3 (ipykernel)",
   "language": "python",
   "name": "python3"
  },
  "language_info": {
   "codemirror_mode": {
    "name": "ipython",
    "version": 3
   },
   "file_extension": ".py",
   "mimetype": "text/x-python",
   "name": "python",
   "nbconvert_exporter": "python",
   "pygments_lexer": "ipython3",
   "version": "3.9.7"
  },
  "toc": {
   "base_numbering": 1,
   "nav_menu": {},
   "number_sections": true,
   "sideBar": true,
   "skip_h1_title": false,
   "title_cell": "Table of Contents",
   "title_sidebar": "Contents",
   "toc_cell": false,
   "toc_position": {},
   "toc_section_display": true,
   "toc_window_display": false
  }
 },
 "nbformat": 4,
 "nbformat_minor": 5
}
