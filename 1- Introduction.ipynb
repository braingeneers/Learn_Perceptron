{
 "cells": [
  {
   "cell_type": "markdown",
   "id": "ea2861ac",
   "metadata": {},
   "source": [
    "<font size=7>Introduction to Perceptron"
   ]
  },
  {
   "cell_type": "markdown",
   "id": "7ed1f498",
   "metadata": {},
   "source": [
    "**To DO**\n",
    "* Explain why linear classifier is perpendicular to weights vector\n",
    "* Finish understnad bias  section\n",
    "* Finish perceptron example section\n"
   ]
  },
  {
   "cell_type": "markdown",
   "id": "329f199b",
   "metadata": {},
   "source": [
    "<font color=\"red\">   \n",
    "    \n",
    "**Haussler Questions**\n",
    "* Summing positive negative weights?"
   ]
  },
  {
   "cell_type": "markdown",
   "id": "7549c9bf",
   "metadata": {},
   "source": [
    "The perceptron is a machine learning algorithm that is used to make classifications between two different binary outcomes, $\\{-1,1\\}$. It has a rich history in neuroscience and AI. Here's a [video clip](https://www.youtube.com/watch?v=cNxadbrN_aI) of it from the 1950's! Here we provide an introduction to the perceptron algorithm. Later will be adapt the perceptron so that it closely resembles neurons in the brain."
   ]
  },
  {
   "cell_type": "code",
   "execution_count": null,
   "id": "f159a0bf",
   "metadata": {},
   "outputs": [],
   "source": [
    "%run ./Code/Introduction_Code.ipynb     # Load the code used in this notebook"
   ]
  },
  {
   "cell_type": "markdown",
   "id": "2f8facc9",
   "metadata": {},
   "source": [
    "# <font color=\"gray\">Learn from Reading Material"
   ]
  },
  {
   "cell_type": "markdown",
   "id": "8b0828ea",
   "metadata": {},
   "source": [
    "Though we describe the perceptron algorithm here, you should teach it to yourself using the reading material. Read the [wiki article](https://en.wikipedia.org/wiki/Perceptron) and chapter 5 of [Hertz's book](./Reading_Material/Hertz_Book_Chapter_5.pdf) on the perceptron. Also read the \"mathematical interlude\" in the Chapter 1 of [Susskind's book](./Reading_Material/Quantum_Chapter_1.pdf). The additional material below  provides a more in depth walkthrough of the perceptron algorithm."
   ]
  },
  {
   "cell_type": "markdown",
   "id": "7860fe3a",
   "metadata": {},
   "source": [
    "**Required Reading Material**\n",
    "1. [Preceptron Wikipedia](https://en.wikipedia.org/wiki/Perceptron) - A good introduction\n",
    "2. [This video](https://www.youtube.com/watch?v=NogzKXE74AA) is a nice perceptorn overview. [This video](https://www.youtube.com/watch?v=4Gac5I64LM4) does basic perceptron exampls. Feel free to suggest other videos!\n",
    "4. [Theory of Neural Computation, Chapter 5 (Hertz)](./Reading_Material/Hertz_Book_Chapter_5.pdf) - Deep dive into perceptron. Also describes perceptron confidence threshold.\n",
    "3. [Pattern Recognition and Machine Learning, Chapter 3 (Bishop)](./Reading_Material/Bishop_Book_Chapter_3.pdf) - The perceptron is deeply described here. There's also a more general description of binary learning.\n",
    "4. [Quantum Mechanics, Chapter 1 (Susskind)](./Reading_Material/Quantum_Chapter_1.pdf) - Read the \"mathematical interlude\" section to learn abour bra-ket notation."
   ]
  },
  {
   "cell_type": "markdown",
   "id": "3e67ba2a",
   "metadata": {},
   "source": [
    "**Advanced Material**\n",
    "\n",
    "1. [Perceptron Learning with Sign-Constrained Weights (Amit)](./Reading_Material/Signed_Perceptron_Paper_1.pdf)- Introduces framework for biorealistic perceptrons\n",
    "2. [Space of Interactions in Neural Network Models (Gardener)](./Reading_Material/Perceptron_Storage_Capacity.pdf)- Discusses the information storage capacity of perceptrons\n",
    "3. [Information Capacity of Perceptron vs Purkinje Cell (Brunel)](./Reading_Material/Perceptron_vs_Purkinje.pdf)- Compares properties of Perceptrons to the Purkinje Cells from which they were derived"
   ]
  },
  {
   "cell_type": "markdown",
   "id": "d1da780b",
   "metadata": {},
   "source": [
    "# What is the Perceptron?"
   ]
  },
  {
   "cell_type": "markdown",
   "id": "7e4bf8e5",
   "metadata": {},
   "source": [
    "## Linear Classifiers"
   ]
  },
  {
   "cell_type": "markdown",
   "id": "2edb1f83",
   "metadata": {
    "cell_style": "center"
   },
   "source": [
    "Suppose you are given a a bucket of tulips and roses and are told to build a learning algorithm to classify the flowers' species based on their petals. For each flower you pluck a petal and measure it's width and length. You then plot the results. Run the code below to see the plot. What rule would you use to classify the flowers? An intuitive way to solve this problem is to draw a line on the plot that seperates tulips from roses. This is called a linear classifier. Use the interactive widgets below to fit a linear classifier to the data."
   ]
  },
  {
   "cell_type": "code",
   "execution_count": null,
   "id": "962df24f",
   "metadata": {
    "cell_style": "center"
   },
   "outputs": [],
   "source": [
    "%matplotlib inline\n",
    "guiLinearClassifier()"
   ]
  },
  {
   "cell_type": "markdown",
   "id": "e05680fb",
   "metadata": {},
   "source": [
    "Let's formalize what we've just done. For $n$ samples, define the\n",
    "petal measurements you took to be the inputs $\\mathbf{x}_{1},\\mathbf{x}_{2},...,\\mathbf{x}_{n}$\n",
    "and the flower species to be the target output $y_{1},y_{2},...,y_{n}$\n",
    ". In this example, there's two measurements so $\\vec{\\mathbf{x}}_{i}\\in\\mathbb{R}^{2}$\n",
    ". For binary classifiers we'll always have $y_{i}\\in\\{-1,1\\}$. We\n",
    "can define a linear classifier as the function"
   ]
  },
  {
   "cell_type": "markdown",
   "id": "46317099",
   "metadata": {},
   "source": [
    "$$\n",
    "f(\\mathbf{w},\\mathbf{x})=\\begin{cases}\n",
    "+1 & \\text{if }\\mathbf{w}\\cdot\\mathbf{x}-b>0\\\\\n",
    "-1 & \\text{otherwise}\n",
    "\\end{cases}\n",
    "$$"
   ]
  },
  {
   "cell_type": "markdown",
   "id": "a0a9c65c",
   "metadata": {},
   "source": [
    "The weights $\\vec{\\mathbf{w}}\\in\\mathbf{\\mathbb{R}}^{2}$ are parameters\n",
    "that determines the \"slope\" of the linear classifier. The bias,\n",
    "$b\\in\\mathbb{R}$, determines the intercept. To make $f(\\mathbf{w},\\mathbf{x})$\n",
    "look simpler, we can \"hide the bias\" in $\\mathbf{w}$ . Currently\n",
    "we have $\\mathbf{x}_{i}=[\\text{width},\\text{length}]$ , but instead\n",
    "let's write $\\mathbf{x}_{i}^{*}=[\\text{width},\\text{length},-1]$\n",
    ". For $\\mathbf{w}^{*}\\cdot\\mathbf{x}^{*}$ to still work we must then\n",
    "add an additional parameter to $\\mathbf{w}$, so $\\mathbf{w}^{*}=[w_{1},w_{2},w_{b}]\\in\\mathbf{\\mathbb{R}}^{3}$\n",
    ". If we set $b=w_{b}$ we have $\\mathbf{w}^{*}\\cdot\\mathbf{x}^{*}=\\mathbf{w}\\cdot\\mathbf{x}-b$\n",
    ". From now on we will always assume the bias is written into $\\mathbf{w},\\mathbf{x}$\n",
    "and disregard the notation $\\mathbf{w}^{*},\\mathbf{x}^{*}$. Thus\n",
    "we have"
   ]
  },
  {
   "cell_type": "markdown",
   "id": "2cba9370",
   "metadata": {},
   "source": [
    "$$\n",
    "f(\\mathbf{w},\\mathbf{x})=\\begin{cases}\n",
    "+1 & \\text{if }\\mathbf{w}\\cdot\\mathbf{x}>0\\\\\n",
    "-1 & \\text{otherwise}\n",
    "\\end{cases}\n",
    "$$"
   ]
  },
  {
   "cell_type": "markdown",
   "id": "0c7f5860",
   "metadata": {},
   "source": [
    "## Unerstanding Bias <font color=\"red\"> Not Done"
   ]
  },
  {
   "cell_type": "markdown",
   "id": "87bf1f3a",
   "metadata": {
    "slideshow": {
     "slide_type": "slide"
    }
   },
   "source": [
    "<font color=\"red\">I want to first briefly explain why the linear seperator is perpendicular to $w$ then I will explain the bias."
   ]
  },
  {
   "cell_type": "markdown",
   "id": "3e136335",
   "metadata": {},
   "source": [
    "Example of dataset that is not linearly separable unless we include the bias."
   ]
  },
  {
   "cell_type": "code",
   "execution_count": null,
   "id": "f1b65091",
   "metadata": {},
   "outputs": [],
   "source": [
    "%matplotlib inline\n",
    "guiBias2D()"
   ]
  },
  {
   "cell_type": "markdown",
   "id": "ac66de64",
   "metadata": {},
   "source": [
    "3D graph of what the bias looks like. This creates a 3d interactive graph wher we see how the bias create a plane that is able to seperate the data"
   ]
  },
  {
   "cell_type": "markdown",
   "id": "7be31126",
   "metadata": {},
   "source": [
    "<font color=\"orange\">Note: to see the 3D graph, you may have to run the code cell again"
   ]
  },
  {
   "cell_type": "code",
   "execution_count": null,
   "id": "5681bef7",
   "metadata": {},
   "outputs": [],
   "source": [
    "%matplotlib notebook\n",
    "guiBias3D()"
   ]
  },
  {
   "cell_type": "markdown",
   "id": "ab9d0560",
   "metadata": {},
   "source": [
    "## The Perceptron"
   ]
  },
  {
   "cell_type": "markdown",
   "id": "bab1a598",
   "metadata": {},
   "source": [
    "How do we determine the values of $\\mathbf{w}$ that correctly classify\n",
    "the data? We use the perceptron algorithm! The perceptron algorithm\n",
    "works like this: Randomly select some initial weights, $\\mathbf{w}_{0}$\n",
    ", usually $||\\mathbf{w}_{0}||=1$ . One by one, cycle through each\n",
    "of the input/output pairs $\\mathbf{x}_{i},y_{i}$ . If the perceptron\n",
    "correctly classifies $y_{i}$ , which means $f(\\mathbf{w},\\mathbf{x}_{i})=y_{i}$\n",
    ", then do nothing. If it misclassifies $y_{i}$ , then update the\n",
    "weights according to the rule $\\mathbf{w}_{t+1}=\\mathbf{w}_{t}+y_{i}\\mathbf{x}_{i}$\n",
    ". Notice that after $\\mathbf{w}$ changes, the value of $f(\\mathbf{w},\\mathbf{x}_{i})$\n",
    "may also change. The algorithm keeps cycling through data until everything\n",
    "is classified correctly. Because it's important, let's state the perceptorn\n",
    "update rule again"
   ]
  },
  {
   "cell_type": "markdown",
   "id": "bbca924e",
   "metadata": {},
   "source": [
    "$$\n",
    "\\mathbf{w}_{t+1}=\\begin{cases}\n",
    "\\mathbf{w}_{t}+y\\mathbf{x} & \\text{if }f(\\mathbf{w},\\mathbf{x})\\neq y\\\\\n",
    "\\mathbf{w}_{t} & \\text{otherwise}\n",
    "\\end{cases}\n",
    "$$"
   ]
  },
  {
   "cell_type": "markdown",
   "id": "fb007571",
   "metadata": {},
   "source": [
    "Let's restate the entire algorithm again using pseudocode. Let's call\n",
    "our data, $\\mathscr{D}=\\begin{bmatrix}(\\mathbf{x}_{1},y_{1}),(\\mathbf{x}_{2},y_{2}),...,(\\mathbf{x}_{n},y_{n})\\end{bmatrix}$"
   ]
  },
  {
   "cell_type": "markdown",
   "id": "8147efd4",
   "metadata": {},
   "source": [
    "**<font size=4>Perceptron$(\\mathscr{D})$**"
   ]
  },
  {
   "cell_type": "markdown",
   "id": "4578f5d2",
   "metadata": {},
   "source": [
    "$\\mathbf{w}=$ Random values\n",
    "\n",
    "**WHILE:** $\\exists\\:f(\\mathbf{w},\\mathbf{x}_{i})\\neq y_{i}$ in $\\mathscr{D}$\n",
    "\n",
    "$\\quad$**FOR:** each $(\\mathbf{x}_{i},y_{i})\\in\\mathscr{D}$\n",
    "\n",
    "$\\quad$$\\quad$**IF:** $f(\\mathbf{w},\\mathbf{x}_{i})\\neq y_{i}$\n",
    "\n",
    "$\\quad$$\\quad$$\\quad$$\\mathbf{w}:=\\mathbf{w}+y\\mathbf{x}$\n",
    "\n",
    "**RETURN:** $\\mathbf{w}$"
   ]
  },
  {
   "cell_type": "markdown",
   "id": "9e264f10",
   "metadata": {},
   "source": [
    "# Perceptron Example"
   ]
  },
  {
   "cell_type": "markdown",
   "id": "00b5d8d9",
   "metadata": {},
   "source": [
    "## Visualization "
   ]
  },
  {
   "cell_type": "markdown",
   "id": "918c9b70",
   "metadata": {},
   "source": [
    "Let's see the perceptron in action! The interactive graph steps through every datapoint using the perceptron algorithm. Notice that by the end, the algorithm is able to correctly classify every point.\n",
    "\n",
    "\n",
    "<font color=\"gray\">Note: To make this easy to visualize, we removed the bias."
   ]
  },
  {
   "cell_type": "code",
   "execution_count": null,
   "id": "f6189942",
   "metadata": {},
   "outputs": [],
   "source": [
    "%matplotlib inline\n",
    "guiPerceptron()"
   ]
  },
  {
   "cell_type": "markdown",
   "id": "faa2fd4e",
   "metadata": {},
   "source": [
    "## Perceptron Code"
   ]
  },
  {
   "cell_type": "markdown",
   "id": "05f64193",
   "metadata": {},
   "source": [
    "This class is is over simplifid percetron code to get an idea of how it works..."
   ]
  },
  {
   "cell_type": "code",
   "execution_count": null,
   "id": "9133884f",
   "metadata": {},
   "outputs": [],
   "source": [
    "import numpy as np\n",
    "class Perceptron:\n",
    "    \n",
    "    def __init__(self, w ):\n",
    "        self.w = w                                               # Set initial weights when creating object\n",
    "\n",
    "    def update( self, x, y):                   \n",
    "        y_pred = -1. if np.dot(self.w, x)<0 else 1.              # Get models prediction for y        \n",
    "        self.w = self.w + (y!=y_pred) * float(y)*np.array(x)     # Update weights based on x,y,y_pred"
   ]
  },
  {
   "cell_type": "markdown",
   "id": "0d14f391",
   "metadata": {},
   "source": [
    "Here is the data we used in the above example"
   ]
  },
  {
   "cell_type": "code",
   "execution_count": null,
   "id": "e478ef53",
   "metadata": {},
   "outputs": [],
   "source": [
    "x=np.array([ [3.5,1.5], [-1.5,-2], [4,-1], [0,3.5], [-3.5,1], [-1.5,3], [2.5,2.5], [0.5,-4], [-3.5,-1.5], [-2.5,-2.5] ])\n",
    "y=np.array([-1,1,1,-1,-1,-1,-1,1,1,1])"
   ]
  },
  {
   "cell_type": "markdown",
   "id": "58abb1f7",
   "metadata": {},
   "source": [
    "Notice that as we udpate the data, we get the exact same weights as show in the visualization"
   ]
  },
  {
   "cell_type": "code",
   "execution_count": null,
   "id": "e39c1f1d",
   "metadata": {},
   "outputs": [],
   "source": [
    "learner = Perceptron([-1,-1])                  # Initial weights are w=[-1,-1]\n",
    "for i in range(len(y)):                        # Cycle through each datapoint\n",
    "    learner.update( x[i], y[i])                # Update the perceptron using x and y\n",
    "    print(f\"Update {i+1}:\\tw={learner.w}\")     # Print w for each update"
   ]
  },
  {
   "cell_type": "markdown",
   "id": "6df34bb6",
   "metadata": {},
   "source": [
    "# What is Dirac Notation?"
   ]
  },
  {
   "cell_type": "markdown",
   "id": "7a58552c",
   "metadata": {},
   "source": [
    "$\\quad$In this course we will use [Dirac notation](https://en.wikipedia.org/wiki/Bra\\%E2\\%80\\%93ket\\_notation)\n",
    "(or Bra-Ket notation) created by the great physicist, Paul Dirac,\n",
    "to denote quantum states. Here we give a brief description. Read the\n",
    "\"mathematical interlude\" in chapter 1 of [Quantum Mechanics:\n",
    "The Theoretical Minimum](./Reading\\_Material/Quantum\\_Chapter\\_1.pdf)\n",
    "to learn more. This course requires learning many topics from quantum\n",
    "theory. Let's consider complex vectors that are written in a funny\n",
    "looking way $|\\mathbf{a}\\rangle,|\\mathbf{b}\\rangle\\in\\mathbb{C}^{2}$"
   ]
  },
  {
   "cell_type": "markdown",
   "id": "b5444ae4",
   "metadata": {},
   "source": [
    "$$\n",
    "\\begin{array}{ccc}\n",
    "|\\mathbf{a}\\rangle=\\begin{bmatrix}1\\\\\n",
    "i\n",
    "\\end{bmatrix} &  & |\\mathbf{b}\\rangle=\\begin{bmatrix}-1\\\\\n",
    "1+i\n",
    "\\end{bmatrix}\\end{array}\n",
    "$$"
   ]
  },
  {
   "cell_type": "markdown",
   "id": "885a6fe4",
   "metadata": {},
   "source": [
    "In Bra-Ket notation these vectors are called Ket vectors. The Ket\n",
    "vectors have corresponding Bra vectors, $\\langle\\mathbf{a}|=\\begin{bmatrix}1,-i\\end{bmatrix}$\n",
    "and $\\langle\\mathbf{b}|=\\begin{bmatrix}-1,1-i\\end{bmatrix}$ . In\n",
    "general, a Bra is the complex conjugate transpose of some Ket"
   ]
  },
  {
   "cell_type": "markdown",
   "id": "d60567ac",
   "metadata": {},
   "source": [
    "$$\n",
    "\\langle\\mathbf{a}|=|\\mathbf{a}\\rangle^{\\dagger}=\\overline{|\\mathbf{a}\\rangle}^{T}\n",
    "$$"
   ]
  },
  {
   "cell_type": "markdown",
   "id": "b7a62b72",
   "metadata": {},
   "source": [
    "We call the conjugate transpose the hermitian and symbolize it using\n",
    "$\\dagger$ . Let's now pretend $|\\mathbf{a}\\rangle$ , $|\\mathbf{b}\\rangle$\n",
    "only contain real numbers, then "
   ]
  },
  {
   "cell_type": "markdown",
   "id": "c842fb36",
   "metadata": {},
   "source": [
    "$$\n",
    "\\langle\\mathbf{a}|\\mathbf{b}\\rangle:=\\langle\\mathbf{a}||\\mathbf{b}\\rangle=|\\mathbf{a}\\rangle^{\\dagger}|\\mathbf{b}\\rangle\\equiv\\mathbf{a}{}^{T}\\mathbf{b}=\\mathbf{a}\\cdot\\mathbf{b}\\quad\\text{if }\\mathbf{a},\\mathbf{b}\\in\\mathbb{R}^{*}\n",
    "$$"
   ]
  },
  {
   "cell_type": "markdown",
   "id": "c7eb82cb",
   "metadata": {},
   "source": [
    " is the dot product after we switch back to traditional notation.\n",
    "Matrices and scalars can be squeezed in between Bra's and Ket's. $\\langle\\mathbf{a}|\\mathbf{C}y|\\mathbf{b}\\rangle\\equiv\\mathbf{a}^{\\dagger}\\mathbf{C}y\\mathbf{b}$\n",
    ". To give another example, when $\\mathbf{a}$ is real $\\langle\\mathbf{a}|\\mathbf{a}\\rangle\\equiv\\mathbf{a}\\cdot\\mathbf{a}=||\\mathbf{a}||^{2}$\n",
    ". We call $\\langle\\mathbf{a}|\\mathbf{a}\\rangle$ the inner product\n",
    "of $\\mathbf{a}$. Intuitively, the inner product is kind\n",
    "of like the magnitude. To give a Bra-Ket example with the Perceptron,\n",
    "we can rewrite the the linear classifier $f(\\mathbf{w},\\mathbf{x})$\n",
    "as"
   ]
  },
  {
   "cell_type": "markdown",
   "id": "93bc5aa1",
   "metadata": {},
   "source": [
    "$$\n",
    "f(\\mathbf{w},\\mathbf{x})=\\begin{cases}\n",
    "+1 & \\text{if }\\langle\\mathbf{w}|\\mathbf{x}\\rangle>0\\\\\n",
    "-1 & \\text{otherwise}\n",
    "\\end{cases}\n",
    "$$"
   ]
  },
  {
   "cell_type": "markdown",
   "id": "8bb239fa",
   "metadata": {},
   "source": [
    "# Perceptron Convergence Theorem"
   ]
  },
  {
   "cell_type": "markdown",
   "id": "8a967e8f",
   "metadata": {},
   "source": [
    "Any time a linear classifier can correclty classify all the data,\n",
    "we can show that the perceptron algorithm will find such a solution.\n",
    "Let's prove it! This proof works by considering how $\\mathbf{w}$\n",
    "changes as the number of updates to the algorithm $\\tau$ increases.\n",
    "Specifically, we will put upper and lower bounds on $\\langle\\mathbf{w}|\\mathbf{w}\\rangle$\n",
    "and $\\langle\\hat{\\mathbf{w}}|\\mathbf{w}\\rangle$ in terms of $\\tau$.\n",
    "We rely on the fact that the perceptron only stops when everything\n",
    "has been classified and then use the [Cauchy-Schwarz Inequality](https://en.wikipedia.org/wiki/Cauchy%E2%80%93Schwarz_inequality)\n",
    "to show it must stop. Bishop's book, Chapter 3, contains a proof without\n",
    "Bra-Ket notation."
   ]
  },
  {
   "cell_type": "markdown",
   "id": "1d2bc553",
   "metadata": {},
   "source": [
    "## Bound on $\\langle\\hat{\\mathbf{w}}|\\mathbf{w}\\rangle$"
   ]
  },
  {
   "cell_type": "markdown",
   "id": "43a21cf2",
   "metadata": {},
   "source": [
    "Let start by finding a lower bound for $\\langle\\hat{\\mathbf{w}}|\\mathbf{w}\\rangle$.\n",
    "For a linear classifier to correctly classify all data, there must\n",
    "exist some weights $\\hat{\\mathbf{w}}$ for which $y_{i}=f(\\hat{\\mathbf{w}},\\mathbf{x}_{i})\\:\\forall i$\n",
    ". We start the perceptron algorithm with some weights $\\mathbf{w}_{0}$\n",
    "which, without loss of generality, are all zero. At each step of the\n",
    "algorithm, we change $\\mathbf{w}$ using the update rule "
   ]
  },
  {
   "cell_type": "markdown",
   "id": "482ae642",
   "metadata": {},
   "source": [
    "$$\n",
    "|\\mathbf{w}_{t+1}\\rangle=|\\mathbf{w}_{t}\\rangle+y_{i}|\\mathbf{x}_{i}\\rangle\\quad(1)\n",
    "$$"
   ]
  },
  {
   "cell_type": "markdown",
   "id": "91c9cb6a",
   "metadata": {
    "cell_style": "center"
   },
   "source": [
    " where $|\\mathbf{x}_{i}\\rangle$ is a vector that is misclassified.\n",
    "After running the algorithm for a while, suppose that the number of\n",
    "times that each vector $|\\mathbf{x}_{i}\\rangle$ has been misclassified\n",
    "and updated is $\\tau_{i}\\in\\mathbb{N}$. Then the weights at this\n",
    "point are given by\n"
   ]
  },
  {
   "cell_type": "markdown",
   "id": "246490ad",
   "metadata": {},
   "source": [
    "\\begin{array}{ccc}\n",
    "|\\mathbf{w}\\rangle=\\mathbf{w}_{0}+\\sum_{n}\\tau_{i}y_{i}|\\mathbf{x}_{i}\\rangle= & \\sum_{n}\\tau_{i}y_{i}|\\mathbf{x}_{i}\\rangle\\end{array}"
   ]
  },
  {
   "cell_type": "markdown",
   "id": "318a93a2",
   "metadata": {},
   "source": [
    "We now take the inner product of the above equation with \\hat{\\mathbf{w}} to find our first bound"
   ]
  },
  {
   "cell_type": "markdown",
   "id": "3dd902b7",
   "metadata": {},
   "source": [
    "$$\n",
    "\\begin{array}{cl}\n",
    "\\langle\\hat{\\mathbf{w}}|\\mathbf{w}\\rangle & =\\sum_{n}\\langle\\hat{\\mathbf{w}}|\\tau_{i}y_{i}|\\mathbf{x}_{i}\\rangle\\\\\n",
    " & =\\sum_{n}\\tau_{i}y_{i}\\langle\\hat{\\mathbf{w}}|\\mathbf{x}_{i}\\rangle\\\\\n",
    " & \\geq\\tau\\min_{n}y_{i}\\langle\\hat{\\mathbf{w}}|\\mathbf{x}_{i}\\rangle\n",
    "\\end{array}\n",
    "$$"
   ]
  },
  {
   "cell_type": "markdown",
   "id": "d030e33e",
   "metadata": {},
   "source": [
    "Where $\\tau=\\sum_{n}\\tau_{i}$ is the total number of weight updates\n",
    "and the inequality results from replacing each update vector by the\n",
    "smallest possible update. We see that $\\langle\\hat{\\mathbf{w}}|\\mathbf{w}\\rangle$\n",
    "is bounded below by a function of $\\tau$ ."
   ]
  },
  {
   "cell_type": "markdown",
   "id": "646d71fb",
   "metadata": {},
   "source": [
    "## Bound on $\\langle\\mathbf{w}|\\mathbf{w}\\rangle$"
   ]
  },
  {
   "cell_type": "markdown",
   "id": "286d0c02",
   "metadata": {},
   "source": [
    "Lets now find an upper bound for $\\langle\\mathbf{w}|\\mathbf{w}\\rangle$.\n",
    "If we take the inner product of the update rule $(1)$ we have"
   ]
  },
  {
   "cell_type": "markdown",
   "id": "cb526ef6",
   "metadata": {},
   "source": [
    "$$\n",
    "\\begin{array}{clc}\n",
    "\\langle\\mathbf{w}_{t+1}|\\mathbf{w}_{t+1}\\rangle & =\\langle\\mathbf{w}_{t}|\\mathbf{w}_{t}\\rangle+\\langle\\mathbf{x}_{i}|y_{i}^{2}|\\mathbf{x}_{i}\\rangle+2y_{i}\\langle\\mathbf{w}_{t}|\\mathbf{x}_{i}\\rangle\\\\\n",
    " & \\leq\\langle\\mathbf{w}_{t}|\\mathbf{w}_{t}\\rangle+\\langle\\mathbf{x}_{i}|y_{i}^{2}|\\mathbf{x}_{i}\\rangle\\\\\n",
    " & \\leq\\langle\\mathbf{w}_{t}|\\mathbf{w}_{t}\\rangle+\\langle\\mathbf{x}_{i}|\\mathbf{x}_{i}\\rangle & \\leftarrow\\text{since }y_{i}^{2}=1\\\\\n",
    " & \\leq\\langle\\mathbf{w}_{t}|\\mathbf{w}_{t}\\rangle+\\langle\\mathbf{x}|\\mathbf{x}\\rangle_{\\max}\n",
    "\\end{array}\n",
    "$$"
   ]
  },
  {
   "cell_type": "markdown",
   "id": "4d3c7bf4",
   "metadata": {},
   "source": [
    "where the first inequality follows from the fact that $|\\mathbf{x}_{i}\\rangle$\n",
    "was missclassified, look inside the equation $f(\\hat{\\mathbf{w}},\\mathbf{x})$\n",
    "to notice that this means $y_{i}\\langle\\mathbf{w}_{t}|\\mathbf{x}_{i}\\rangle<0$\n",
    ". We also define $\\langle\\mathbf{x}|\\mathbf{x}\\rangle_{\\max}$ as\n",
    "the inner product of the largest input so that $\\langle\\mathbf{x}_{i}|\\mathbf{x}_{i}\\rangle\\leq\\langle\\mathbf{x}|\\mathbf{x}\\rangle_{\\max}$\n",
    ". If we now consider the change $\\Delta$ in the value of $\\langle\\mathbf{w}|\\mathbf{w}\\rangle$\n",
    "we have"
   ]
  },
  {
   "cell_type": "markdown",
   "id": "244d3ef2",
   "metadata": {},
   "source": [
    "$$\n",
    "\\Delta\\langle\\mathbf{w}|\\mathbf{w}\\rangle\\equiv\\langle\\mathbf{w}_{t+1}|\\mathbf{w}_{t+1}\\rangle-\\langle\\mathbf{w}_{t}|\\mathbf{w}_{t}\\rangle\\leq\\langle\\mathbf{x}|\\mathbf{x}\\rangle_{\\max}\n",
    "$$"
   ]
  },
  {
   "cell_type": "markdown",
   "id": "c4a5f266",
   "metadata": {},
   "source": [
    "and so after $\\tau$ updates we have the following upper bound on\n",
    "$\\langle\\mathbf{w}|\\mathbf{w}\\rangle$"
   ]
  },
  {
   "cell_type": "markdown",
   "id": "d63ad291",
   "metadata": {},
   "source": [
    "$$\n",
    "\\langle\\mathbf{w}|\\mathbf{w}\\rangle\\leq\\tau\\langle\\mathbf{x}|\\mathbf{x}\\rangle_{\\max}\n",
    "$$"
   ]
  },
  {
   "cell_type": "markdown",
   "id": "349ee31f",
   "metadata": {},
   "source": [
    "## Cauchy-Schwarz Inequality"
   ]
  },
  {
   "cell_type": "markdown",
   "id": "e943b923",
   "metadata": {},
   "source": [
    "The famous Cauchy-Schwarz Inequality states that"
   ]
  },
  {
   "cell_type": "markdown",
   "id": "bb14b4b7",
   "metadata": {},
   "source": [
    "$$\n",
    "\\dfrac{|\\langle\\hat{\\mathbf{w}}|\\mathbf{w}\\rangle|^{2}}{\\langle\\mathbf{w}|\\mathbf{w}\\rangle\\langle\\hat{\\mathbf{w}}|\\hat{\\mathbf{w}}\\rangle}\\leq1\n",
    "$$"
   ]
  },
  {
   "cell_type": "markdown",
   "id": "ebdb3644",
   "metadata": {},
   "source": [
    "We now show that as $\\tau$ grows large, the Cauchy Schwaurtz Inequality\n",
    "fails. Lets start by attempting to make the inequality work by plugging\n",
    "in the smallest posssible value of $\\langle\\hat{\\mathbf{w}}|\\mathbf{w}\\rangle$\n",
    "and the largest possible value of $\\langle\\mathbf{w}|\\mathbf{w}\\rangle$\n",
    "into the left side of the equation."
   ]
  },
  {
   "cell_type": "markdown",
   "id": "e5ea56a9",
   "metadata": {},
   "source": [
    "\\begin{array}{clc}\n",
    "\\dfrac{\\begin{pmatrix}\\tau\\min_{n}y_{i}\\langle\\hat{\\mathbf{w}}|\\mathbf{x}_{i}\\rangle\\end{pmatrix}^{2}}{\\tau\\langle\\mathbf{x}|\\mathbf{x}\\rangle_{\\max}\\langle\\hat{\\mathbf{w}}|\\hat{\\mathbf{w}}\\rangle} & =\\dfrac{\\tau^{2}\\begin{pmatrix}\\min_{n}y_{i}\\langle\\hat{\\mathbf{w}}|\\mathbf{x}_{i}\\rangle\\end{pmatrix}^{2}}{\\tau\\langle\\mathbf{x}|\\mathbf{x}\\rangle_{\\max}\\langle\\hat{\\mathbf{w}}|\\hat{\\mathbf{w}}\\rangle}\\\\\n",
    "\\\\\n",
    " & =\\tau\\dfrac{\\begin{pmatrix}\\min_{n}y_{i}\\langle\\hat{\\mathbf{w}}|\\mathbf{x}_{i}\\rangle\\end{pmatrix}^{2}}{\\langle\\mathbf{x}|\\mathbf{x}\\rangle_{\\max}\\langle\\hat{\\mathbf{w}}|\\hat{\\mathbf{w}}\\rangle}\\\\\n",
    "\\\\\n",
    " & =\\tau c & \\leftarrow c\\text{ is an abitrary positive number }\n",
    "\\end{array}"
   ]
  },
  {
   "cell_type": "markdown",
   "id": "401180fb",
   "metadata": {},
   "source": [
    "After we pull $\\tau$ out of the fraction the only important thing\n",
    "to know about the other values is that they're positive and not infinite\n",
    "(we start with finite data). As we run our algorithm, the number of\n",
    "steps $\\tau$ grows. We cannot run our algorithm forever, because\n",
    "then $\\tau c=\\infty>1$ breaking Cauchy-Schwartz's Inequality. The\n",
    "perceptron algorithm must eventually stop, which only occures when\n",
    "all the data is is correctly classified. Thus we have proven the perceptron\n",
    "convergence theorem."
   ]
  }
 ],
 "metadata": {
  "hide_input": false,
  "kernelspec": {
   "display_name": "Python 3 (ipykernel)",
   "language": "python",
   "name": "python3"
  },
  "language_info": {
   "codemirror_mode": {
    "name": "ipython",
    "version": 3
   },
   "file_extension": ".py",
   "mimetype": "text/x-python",
   "name": "python",
   "nbconvert_exporter": "python",
   "pygments_lexer": "ipython3",
   "version": "3.9.7"
  },
  "toc": {
   "base_numbering": 1,
   "nav_menu": {},
   "number_sections": true,
   "sideBar": true,
   "skip_h1_title": false,
   "title_cell": "Table of Contents",
   "title_sidebar": "Contents",
   "toc_cell": false,
   "toc_position": {},
   "toc_section_display": true,
   "toc_window_display": false
  },
  "widgets": {
   "application/vnd.jupyter.widget-state+json": {
    "state": {
     "0928970eb8444393ba11c72bb9671db3": {
      "model_module": "@jupyter-widgets/base",
      "model_module_version": "1.2.0",
      "model_name": "LayoutModel",
      "state": {}
     },
     "0b3a35d5e946482d8703910ea8f116f9": {
      "model_module": "@jupyter-widgets/base",
      "model_module_version": "1.2.0",
      "model_name": "LayoutModel",
      "state": {}
     },
     "0bcebd562b3d4a82bfca0ae55ffe2f14": {
      "model_module": "@jupyter-widgets/base",
      "model_module_version": "1.2.0",
      "model_name": "LayoutModel",
      "state": {}
     },
     "0d1888a210054dbd891fd9c1e5d159b7": {
      "model_module": "@jupyter-widgets/base",
      "model_module_version": "1.2.0",
      "model_name": "LayoutModel",
      "state": {}
     },
     "0e797141d9a1402fb127904b8f5bfb33": {
      "model_module": "@jupyter-widgets/controls",
      "model_module_version": "1.5.0",
      "model_name": "FloatSliderModel",
      "state": {
       "description": "bias",
       "layout": "IPY_MODEL_f009bef75f1940258ddd84fa35670e43",
       "max": 3,
       "min": -2,
       "step": 0.5,
       "style": "IPY_MODEL_1d6cd3bc095e43d19bb3a124910d0431"
      }
     },
     "105c7a59228447da98af3188928171c1": {
      "model_module": "@jupyter-widgets/controls",
      "model_module_version": "1.5.0",
      "model_name": "IntSliderModel",
      "state": {
       "description": "updates",
       "layout": "IPY_MODEL_81e060ba18d14b8a9b5d4d197e88ddd5",
       "max": 10,
       "style": "IPY_MODEL_139a3b68cc5448a38ad54ab05b5fdcff",
       "value": 5
      }
     },
     "10abece6d3664696b25e6758e9fc9887": {
      "model_module": "@jupyter-widgets/base",
      "model_module_version": "1.2.0",
      "model_name": "LayoutModel",
      "state": {}
     },
     "10cb38ec81a64d94bf33c72750a8bc8e": {
      "model_module": "@jupyter-widgets/base",
      "model_module_version": "1.2.0",
      "model_name": "LayoutModel",
      "state": {}
     },
     "113377a4c98a4e998e21e165825a4a40": {
      "model_module": "@jupyter-widgets/controls",
      "model_module_version": "1.5.0",
      "model_name": "FloatSliderModel",
      "state": {
       "description": "slope",
       "layout": "IPY_MODEL_92990a848991425ab9a91b66c865be77",
       "max": 2,
       "min": -2,
       "step": 0.5,
       "style": "IPY_MODEL_b1a06341c8544ab7a3c23344b3595b4c"
      }
     },
     "12350271694845b8a1f9ed0e26887e76": {
      "model_module": "@jupyter-widgets/base",
      "model_module_version": "1.2.0",
      "model_name": "LayoutModel",
      "state": {}
     },
     "139a3b68cc5448a38ad54ab05b5fdcff": {
      "model_module": "@jupyter-widgets/controls",
      "model_module_version": "1.5.0",
      "model_name": "SliderStyleModel",
      "state": {
       "description_width": ""
      }
     },
     "1537466fbd474cda9fdbd72479016fc4": {
      "model_module": "@jupyter-widgets/controls",
      "model_module_version": "1.5.0",
      "model_name": "VBoxModel",
      "state": {
       "_dom_classes": [
        "widget-interact"
       ],
       "children": [
        "IPY_MODEL_bb0212da7a994f0caef44f1207811f10",
        "IPY_MODEL_6e621b2e1a894c7fad0ff5a0107b4ab0"
       ],
       "layout": "IPY_MODEL_ad024c9769d84c3692a6f33e9813b3dc"
      }
     },
     "15710775cc7c4c0e9ed013abe2c0eaa8": {
      "model_module": "@jupyter-widgets/base",
      "model_module_version": "1.2.0",
      "model_name": "LayoutModel",
      "state": {}
     },
     "1579938c5cfe45258674fac92b003a2a": {
      "model_module": "@jupyter-widgets/controls",
      "model_module_version": "1.5.0",
      "model_name": "HTMLMathModel",
      "state": {
       "layout": "IPY_MODEL_2d1e242fc7764d2dab058278ffae4f8e",
       "style": "IPY_MODEL_811019e29d2a4fb6982b3c19751260d8",
       "value": "<h4>The selected point $x=[-1.5,3.0]$ was <span class='text-success'>correctly classified</span>. No update occures.</h4>"
      }
     },
     "15bcbf762a374bff85eb62c1119075a0": {
      "model_module": "@jupyter-widgets/base",
      "model_module_version": "1.2.0",
      "model_name": "LayoutModel",
      "state": {}
     },
     "162a1e6bfde348eca9ee429b6c6bd968": {
      "model_module": "@jupyter-widgets/controls",
      "model_module_version": "1.5.0",
      "model_name": "DescriptionStyleModel",
      "state": {
       "description_width": ""
      }
     },
     "173ee6a42fcc4f64a3210da82e020848": {
      "model_module": "@jupyter-widgets/base",
      "model_module_version": "1.2.0",
      "model_name": "LayoutModel",
      "state": {}
     },
     "176260b1618e41aa97a8cc476cc8da42": {
      "model_module": "@jupyter-widgets/controls",
      "model_module_version": "1.5.0",
      "model_name": "SliderStyleModel",
      "state": {
       "description_width": ""
      }
     },
     "17dfa1710eed417b89e72ccc04cf6a12": {
      "model_module": "@jupyter-widgets/controls",
      "model_module_version": "1.5.0",
      "model_name": "SliderStyleModel",
      "state": {
       "description_width": ""
      }
     },
     "1898454e89a649ba9c49ce03a480b3ff": {
      "model_module": "@jupyter-widgets/controls",
      "model_module_version": "1.5.0",
      "model_name": "HTMLMathModel",
      "state": {
       "layout": "IPY_MODEL_356f527c22d0477b88d8319e14ff4ce1",
       "style": "IPY_MODEL_eb53fc194fbf43ad8c3fb01508a8e951",
       "value": "<h4>The selected point $x=[-1.5,-2.0]$ was <span class='text-success'>correctly classified</span>. No update occures.</h4>"
      }
     },
     "19944753565b4708bdbc42409dd6f94e": {
      "model_module": "@jupyter-widgets/controls",
      "model_module_version": "1.5.0",
      "model_name": "SliderStyleModel",
      "state": {
       "description_width": ""
      }
     },
     "1a02b2c99e5b48be98e4613f1424cec8": {
      "model_module": "@jupyter-widgets/controls",
      "model_module_version": "1.5.0",
      "model_name": "DescriptionStyleModel",
      "state": {
       "description_width": ""
      }
     },
     "1d6cd3bc095e43d19bb3a124910d0431": {
      "model_module": "@jupyter-widgets/controls",
      "model_module_version": "1.5.0",
      "model_name": "SliderStyleModel",
      "state": {
       "description_width": ""
      }
     },
     "1e6767cc099e49898c87b56d354ca295": {
      "model_module": "@jupyter-widgets/controls",
      "model_module_version": "1.5.0",
      "model_name": "SliderStyleModel",
      "state": {
       "description_width": ""
      }
     },
     "1eb14ed99bc041609c8ba35fb26ebd34": {
      "model_module": "@jupyter-widgets/base",
      "model_module_version": "1.2.0",
      "model_name": "LayoutModel",
      "state": {}
     },
     "1ee1c441642147a488faf5b906c426c9": {
      "model_module": "@jupyter-widgets/base",
      "model_module_version": "1.2.0",
      "model_name": "LayoutModel",
      "state": {}
     },
     "219633e1b4a64abcb59fd9afae5d1ed1": {
      "model_module": "@jupyter-widgets/base",
      "model_module_version": "1.2.0",
      "model_name": "LayoutModel",
      "state": {}
     },
     "21a812f2c9e646598d5e8f2e11c86407": {
      "model_module": "@jupyter-widgets/controls",
      "model_module_version": "1.5.0",
      "model_name": "DescriptionStyleModel",
      "state": {
       "description_width": ""
      }
     },
     "24fa37d224444225af274ef9afcf317a": {
      "model_module": "@jupyter-widgets/controls",
      "model_module_version": "1.5.0",
      "model_name": "HTMLMathModel",
      "state": {
       "layout": "IPY_MODEL_dc92ac9c65b3409aac2118d12b97325e",
       "style": "IPY_MODEL_a12a77e1eec9480f9bb874456dbc1365",
       "value": "<h4>The selected point $x=[4.0,-1.0]$ was <span class='text-danger'>incorrecttly classified</span>. Since $y=$<font color='orange'>$1$</font>, we have $w_t=w_{t-1}+x$</h4>"
      }
     },
     "2ab3f8f6dc2b4309bcb3cdb9ff661bcf": {
      "model_module": "@jupyter-widgets/controls",
      "model_module_version": "1.5.0",
      "model_name": "HTMLMathModel",
      "state": {
       "layout": "IPY_MODEL_5ccbb4fab1174895aceab3d7a375de81",
       "style": "IPY_MODEL_fbc0d8e24c244f5ca78d3f403459d7cd",
       "value": "<h4>The selected point $x=[-1.5,-2.0]$ was <span class='text-success'>correctly classified</span>. No update occures.</h4>"
      }
     },
     "2b696dba017f42c483cf89b9e4eb1c63": {
      "model_module": "@jupyter-widgets/controls",
      "model_module_version": "1.5.0",
      "model_name": "DescriptionStyleModel",
      "state": {
       "description_width": ""
      }
     },
     "2d1e242fc7764d2dab058278ffae4f8e": {
      "model_module": "@jupyter-widgets/base",
      "model_module_version": "1.2.0",
      "model_name": "LayoutModel",
      "state": {}
     },
     "2e07c9e689b74e7299f407db72792bc0": {
      "model_module": "@jupyter-widgets/controls",
      "model_module_version": "1.5.0",
      "model_name": "DescriptionStyleModel",
      "state": {
       "description_width": ""
      }
     },
     "2f7ff1a2b4d54b9ab397d8c76bd4d7ee": {
      "model_module": "@jupyter-widgets/controls",
      "model_module_version": "1.5.0",
      "model_name": "HTMLMathModel",
      "state": {
       "layout": "IPY_MODEL_ee191df75c654ae5bb837f3b67845923",
       "style": "IPY_MODEL_2f916fe0b08746b28771873b875006f4",
       "value": "<h4>The selected point $x=[-1.5,-2.0]$ was <span class='text-success'>correctly classified</span>. No update occures.</h4>"
      }
     },
     "2f916fe0b08746b28771873b875006f4": {
      "model_module": "@jupyter-widgets/controls",
      "model_module_version": "1.5.0",
      "model_name": "DescriptionStyleModel",
      "state": {
       "description_width": ""
      }
     },
     "2ff75aef61174c01b4a8ac5f4da9176b": {
      "model_module": "@jupyter-widgets/controls",
      "model_module_version": "1.5.0",
      "model_name": "SliderStyleModel",
      "state": {
       "description_width": ""
      }
     },
     "304004fa01e04fed92f7891ea29c2cca": {
      "model_module": "@jupyter-widgets/base",
      "model_module_version": "1.2.0",
      "model_name": "LayoutModel",
      "state": {}
     },
     "3123f1ae155a44c488d42cab949d7346": {
      "model_module": "@jupyter-widgets/controls",
      "model_module_version": "1.5.0",
      "model_name": "FloatSliderModel",
      "state": {
       "description": "slope",
       "layout": "IPY_MODEL_0bcebd562b3d4a82bfca0ae55ffe2f14",
       "max": 2,
       "min": -2,
       "step": 0.5,
       "style": "IPY_MODEL_cb1e83e222f24268aa76699ee753a6c4"
      }
     },
     "33edfa0ed2c247148cb7e8076848354f": {
      "model_module": "@jupyter-widgets/base",
      "model_module_version": "1.2.0",
      "model_name": "LayoutModel",
      "state": {}
     },
     "34fd28bb5b174bc0a83b21b72b3de21e": {
      "model_module": "@jupyter-widgets/controls",
      "model_module_version": "1.5.0",
      "model_name": "DescriptionStyleModel",
      "state": {
       "description_width": ""
      }
     },
     "356f527c22d0477b88d8319e14ff4ce1": {
      "model_module": "@jupyter-widgets/base",
      "model_module_version": "1.2.0",
      "model_name": "LayoutModel",
      "state": {}
     },
     "37dabac4bb764613bf7ac6d9a9a2054f": {
      "model_module": "@jupyter-widgets/base",
      "model_module_version": "1.2.0",
      "model_name": "LayoutModel",
      "state": {}
     },
     "388cd5876922457881f5ebfb3603c37b": {
      "model_module": "@jupyter-widgets/controls",
      "model_module_version": "1.5.0",
      "model_name": "IntSliderModel",
      "state": {
       "description": "step",
       "layout": "IPY_MODEL_c61a84122f5a41d395af9e2e8b81360e",
       "max": 10,
       "style": "IPY_MODEL_aec751d7d60f4ae58617467424b8446e",
       "value": 5
      }
     },
     "3b70fcc23735400c858988a2a47f615e": {
      "model_module": "@jupyter-widgets/base",
      "model_module_version": "1.2.0",
      "model_name": "LayoutModel",
      "state": {}
     },
     "3f1ba82074d24ef39165e8f0cfd3d2a0": {
      "model_module": "@jupyter-widgets/base",
      "model_module_version": "1.2.0",
      "model_name": "LayoutModel",
      "state": {}
     },
     "400a88320b434c51a5c6127d0fdb34b4": {
      "model_module": "@jupyter-widgets/controls",
      "model_module_version": "1.5.0",
      "model_name": "HTMLMathModel",
      "state": {
       "layout": "IPY_MODEL_4ae7e35fbf104fe2998c3ce925df9b3d",
       "style": "IPY_MODEL_744c10ef09094e919204fdb4f94c4ca5",
       "value": "<h4>The selected point $x=[-3.5,-1.5]$ was <span class='text-success'>correctly classified</span>. No update occures.</h4>"
      }
     },
     "45d903a961784dab8178e1178f06a36e": {
      "model_module": "@jupyter-widgets/base",
      "model_module_version": "1.2.0",
      "model_name": "LayoutModel",
      "state": {}
     },
     "468db9d6736a4c0abcb1a89fdfcb3884": {
      "model_module": "@jupyter-widgets/base",
      "model_module_version": "1.2.0",
      "model_name": "LayoutModel",
      "state": {}
     },
     "48a67267263344038bb417f0273d3bc3": {
      "model_module": "@jupyter-widgets/base",
      "model_module_version": "1.2.0",
      "model_name": "LayoutModel",
      "state": {}
     },
     "48fd73bf6498428facf3add1376cdf14": {
      "model_module": "@jupyter-widgets/base",
      "model_module_version": "1.2.0",
      "model_name": "LayoutModel",
      "state": {}
     },
     "49e466926ab643658a4c61b486f8af84": {
      "model_module": "@jupyter-widgets/output",
      "model_module_version": "1.0.0",
      "model_name": "OutputModel",
      "state": {
       "layout": "IPY_MODEL_aff9a636f0ac427ca2ef77acab05b2aa",
       "outputs": [
        {
         "name": "stdout",
         "output_type": "stream",
         "text": "Petal_Width = 0.0 Petal_Length + 0.0\n"
        },
        {
         "data": {
          "image/png": "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\n",
          "text/plain": "<Figure size 576x360 with 1 Axes>"
         },
         "metadata": {
          "needs_background": "light"
         },
         "output_type": "display_data"
        }
       ]
      }
     },
     "4ae7e35fbf104fe2998c3ce925df9b3d": {
      "model_module": "@jupyter-widgets/base",
      "model_module_version": "1.2.0",
      "model_name": "LayoutModel",
      "state": {}
     },
     "4da93086c6ad4464aa35f07fb725332e": {
      "model_module": "@jupyter-widgets/base",
      "model_module_version": "1.2.0",
      "model_name": "LayoutModel",
      "state": {}
     },
     "4fc531ccc7254beb8407ba2615b2c1b8": {
      "model_module": "@jupyter-widgets/controls",
      "model_module_version": "1.5.0",
      "model_name": "FloatSliderModel",
      "state": {
       "description": "bias",
       "layout": "IPY_MODEL_5022157184d5488782b3a7ee4d241fb0",
       "max": 3,
       "min": -2,
       "step": 0.5,
       "style": "IPY_MODEL_e91c8e52fc044bc1a43ad6ca8acfd30c"
      }
     },
     "5022157184d5488782b3a7ee4d241fb0": {
      "model_module": "@jupyter-widgets/base",
      "model_module_version": "1.2.0",
      "model_name": "LayoutModel",
      "state": {}
     },
     "50b0e76c674441f88da2e2dc72894c2e": {
      "model_module": "@jupyter-widgets/base",
      "model_module_version": "1.2.0",
      "model_name": "LayoutModel",
      "state": {}
     },
     "52f9ddea55c34075be354a594a859abc": {
      "model_module": "@jupyter-widgets/base",
      "model_module_version": "1.2.0",
      "model_name": "LayoutModel",
      "state": {}
     },
     "53990941b004465b88091860889ee344": {
      "model_module": "@jupyter-widgets/output",
      "model_module_version": "1.0.0",
      "model_name": "OutputModel",
      "state": {
       "layout": "IPY_MODEL_54d6dc7f36814718a119196af61649db",
       "outputs": [
        {
         "data": {
          "image/png": "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\n",
          "text/plain": "<Figure size 576x576 with 1 Axes>"
         },
         "metadata": {
          "needs_background": "light"
         },
         "output_type": "display_data"
        }
       ]
      }
     },
     "5466a92f9d09410f918f0ab7631b29c1": {
      "model_module": "@jupyter-widgets/base",
      "model_module_version": "1.2.0",
      "model_name": "LayoutModel",
      "state": {}
     },
     "549bc561b8144d70bd53a3204eefa747": {
      "model_module": "@jupyter-widgets/controls",
      "model_module_version": "1.5.0",
      "model_name": "DescriptionStyleModel",
      "state": {
       "description_width": ""
      }
     },
     "54d6dc7f36814718a119196af61649db": {
      "model_module": "@jupyter-widgets/base",
      "model_module_version": "1.2.0",
      "model_name": "LayoutModel",
      "state": {}
     },
     "55a595eccd264477800c2bb25924317f": {
      "model_module": "@jupyter-widgets/output",
      "model_module_version": "1.0.0",
      "model_name": "OutputModel",
      "state": {
       "layout": "IPY_MODEL_10cb38ec81a64d94bf33c72750a8bc8e",
       "outputs": [
        {
         "data": {
          "application/vnd.jupyter.widget-view+json": {
           "model_id": "db92ad76e3a24b1b9103029d72348af8",
           "version_major": 2,
           "version_minor": 0
          },
          "text/plain": "HTMLMath(value=\"<h4>The selected point $x=[-3.5,1.0]$ was <span class='text-success'>correctly classified</spa…"
         },
         "metadata": {},
         "output_type": "display_data"
        },
        {
         "data": {
          "image/png": "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\n",
          "text/plain": "<Figure size 576x576 with 1 Axes>"
         },
         "metadata": {
          "needs_background": "light"
         },
         "output_type": "display_data"
        }
       ]
      }
     },
     "56362251867d4d10a703f57804fdb9a6": {
      "model_module": "@jupyter-widgets/base",
      "model_module_version": "1.2.0",
      "model_name": "LayoutModel",
      "state": {}
     },
     "57d4a81a89e84cbc8454d39b984beaa9": {
      "model_module": "@jupyter-widgets/output",
      "model_module_version": "1.0.0",
      "model_name": "OutputModel",
      "state": {
       "layout": "IPY_MODEL_e4d5d1f2a42f4f6daa1e53e75a9a4992",
       "outputs": [
        {
         "ename": "ValueError",
         "evalue": "s must be a scalar, or float array-like with the same size as x and y",
         "output_type": "error",
         "traceback": [
          "\u001b[0;31m---------------------------------------------------------------------------\u001b[0m",
          "\u001b[0;31mValueError\u001b[0m                                Traceback (most recent call last)",
          "File \u001b[0;32m/opt/conda/lib/python3.9/site-packages/ipywidgets/widgets/interaction.py:257\u001b[0m, in \u001b[0;36minteractive.update\u001b[0;34m(self, *args)\u001b[0m\n\u001b[1;32m    255\u001b[0m     value \u001b[38;5;241m=\u001b[39m widget\u001b[38;5;241m.\u001b[39mget_interact_value()\n\u001b[1;32m    256\u001b[0m     \u001b[38;5;28mself\u001b[39m\u001b[38;5;241m.\u001b[39mkwargs[widget\u001b[38;5;241m.\u001b[39m_kwarg] \u001b[38;5;241m=\u001b[39m value\n\u001b[0;32m--> 257\u001b[0m \u001b[38;5;28mself\u001b[39m\u001b[38;5;241m.\u001b[39mresult \u001b[38;5;241m=\u001b[39m \u001b[38;5;28;43mself\u001b[39;49m\u001b[38;5;241;43m.\u001b[39;49m\u001b[43mf\u001b[49m\u001b[43m(\u001b[49m\u001b[38;5;241;43m*\u001b[39;49m\u001b[38;5;241;43m*\u001b[39;49m\u001b[38;5;28;43mself\u001b[39;49m\u001b[38;5;241;43m.\u001b[39;49m\u001b[43mkwargs\u001b[49m\u001b[43m)\u001b[49m\n\u001b[1;32m    258\u001b[0m show_inline_matplotlib_plots()\n\u001b[1;32m    259\u001b[0m \u001b[38;5;28;01mif\u001b[39;00m \u001b[38;5;28mself\u001b[39m\u001b[38;5;241m.\u001b[39mauto_display \u001b[38;5;129;01mand\u001b[39;00m \u001b[38;5;28mself\u001b[39m\u001b[38;5;241m.\u001b[39mresult \u001b[38;5;129;01mis\u001b[39;00m \u001b[38;5;129;01mnot\u001b[39;00m \u001b[38;5;28;01mNone\u001b[39;00m:\n",
          "File \u001b[0;32m/tmp/ipykernel_40/2827455564.py:15\u001b[0m, in \u001b[0;36mguiPerceptron.<locals>.f\u001b[0;34m(updates)\u001b[0m\n\u001b[1;32m     13\u001b[0m plt\u001b[38;5;241m.\u001b[39maxhline(\u001b[38;5;241m0\u001b[39m, color\u001b[38;5;241m=\u001b[39m\u001b[38;5;124m\"\u001b[39m\u001b[38;5;124mgray\u001b[39m\u001b[38;5;124m\"\u001b[39m, linewidth\u001b[38;5;241m=\u001b[39m\u001b[38;5;241m.5\u001b[39m)\n\u001b[1;32m     14\u001b[0m plt\u001b[38;5;241m.\u001b[39maxvline(\u001b[38;5;241m0\u001b[39m, color\u001b[38;5;241m=\u001b[39m\u001b[38;5;124m'\u001b[39m\u001b[38;5;124mgray\u001b[39m\u001b[38;5;124m'\u001b[39m, linewidth\u001b[38;5;241m=\u001b[39m\u001b[38;5;241m.5\u001b[39m)\n\u001b[0;32m---> 15\u001b[0m \u001b[43mplt\u001b[49m\u001b[38;5;241;43m.\u001b[39;49m\u001b[43mscatter\u001b[49m\u001b[43m(\u001b[49m\u001b[43m \u001b[49m\u001b[43mx\u001b[49m\u001b[43m[\u001b[49m\u001b[43m:\u001b[49m\u001b[43m,\u001b[49m\u001b[38;5;241;43m0\u001b[39;49m\u001b[43m]\u001b[49m\u001b[43m,\u001b[49m\u001b[43m \u001b[49m\u001b[43mx\u001b[49m\u001b[43m[\u001b[49m\u001b[43m:\u001b[49m\u001b[43m,\u001b[49m\u001b[38;5;241;43m1\u001b[39;49m\u001b[43m]\u001b[49m\u001b[43m,\u001b[49m\u001b[43m \u001b[49m\u001b[43mc\u001b[49m\u001b[38;5;241;43m=\u001b[39;49m\u001b[43my\u001b[49m\u001b[43m,\u001b[49m\u001b[43m \u001b[49m\u001b[43mcmap\u001b[49m\u001b[38;5;241;43m=\u001b[39;49m\u001b[38;5;124;43m\"\u001b[39;49m\u001b[38;5;124;43mbwr\u001b[39;49m\u001b[38;5;124;43m\"\u001b[39;49m\u001b[43m)\u001b[49m         \u001b[38;5;66;03m# Create scatter plot of data\u001b[39;00m\n\u001b[1;32m     16\u001b[0m plt\u001b[38;5;241m.\u001b[39mlegend( [Patch(\u001b[38;5;124m\"\u001b[39m\u001b[38;5;124mb\u001b[39m\u001b[38;5;124m\"\u001b[39m,\u001b[38;5;124m\"\u001b[39m\u001b[38;5;124mb\u001b[39m\u001b[38;5;124m\"\u001b[39m),Patch(\u001b[38;5;124m\"\u001b[39m\u001b[38;5;124mr\u001b[39m\u001b[38;5;124m\"\u001b[39m,\u001b[38;5;124m\"\u001b[39m\u001b[38;5;124mr\u001b[39m\u001b[38;5;124m\"\u001b[39m)], [\u001b[38;5;124m\"\u001b[39m\u001b[38;5;124m$-1$\u001b[39m\u001b[38;5;124m\"\u001b[39m,\u001b[38;5;124m\"\u001b[39m\u001b[38;5;124m$1$\u001b[39m\u001b[38;5;124m\"\u001b[39m], loc\u001b[38;5;241m=\u001b[39m\u001b[38;5;124m\"\u001b[39m\u001b[38;5;124mlower right\u001b[39m\u001b[38;5;124m\"\u001b[39m)       \u001b[38;5;66;03m# Add legend\u001b[39;00m\n\u001b[1;32m     17\u001b[0m plt\u001b[38;5;241m.\u001b[39maxis([\u001b[38;5;241m-\u001b[39m\u001b[38;5;241m5\u001b[39m, \u001b[38;5;241m5\u001b[39m, \u001b[38;5;241m-\u001b[39m\u001b[38;5;241m5\u001b[39m, \u001b[38;5;241m5\u001b[39m])                             \u001b[38;5;66;03m# Set x and y axis\u001b[39;00m\n",
          "File \u001b[0;32m/opt/conda/lib/python3.9/site-packages/matplotlib/pyplot.py:2807\u001b[0m, in \u001b[0;36mscatter\u001b[0;34m(x, y, s, c, marker, cmap, norm, vmin, vmax, alpha, linewidths, edgecolors, plotnonfinite, data, **kwargs)\u001b[0m\n\u001b[1;32m   2802\u001b[0m \u001b[38;5;129m@_copy_docstring_and_deprecators\u001b[39m(Axes\u001b[38;5;241m.\u001b[39mscatter)\n\u001b[1;32m   2803\u001b[0m \u001b[38;5;28;01mdef\u001b[39;00m \u001b[38;5;21mscatter\u001b[39m(\n\u001b[1;32m   2804\u001b[0m         x, y, s\u001b[38;5;241m=\u001b[39m\u001b[38;5;28;01mNone\u001b[39;00m, c\u001b[38;5;241m=\u001b[39m\u001b[38;5;28;01mNone\u001b[39;00m, marker\u001b[38;5;241m=\u001b[39m\u001b[38;5;28;01mNone\u001b[39;00m, cmap\u001b[38;5;241m=\u001b[39m\u001b[38;5;28;01mNone\u001b[39;00m, norm\u001b[38;5;241m=\u001b[39m\u001b[38;5;28;01mNone\u001b[39;00m,\n\u001b[1;32m   2805\u001b[0m         vmin\u001b[38;5;241m=\u001b[39m\u001b[38;5;28;01mNone\u001b[39;00m, vmax\u001b[38;5;241m=\u001b[39m\u001b[38;5;28;01mNone\u001b[39;00m, alpha\u001b[38;5;241m=\u001b[39m\u001b[38;5;28;01mNone\u001b[39;00m, linewidths\u001b[38;5;241m=\u001b[39m\u001b[38;5;28;01mNone\u001b[39;00m, \u001b[38;5;241m*\u001b[39m,\n\u001b[1;32m   2806\u001b[0m         edgecolors\u001b[38;5;241m=\u001b[39m\u001b[38;5;28;01mNone\u001b[39;00m, plotnonfinite\u001b[38;5;241m=\u001b[39m\u001b[38;5;28;01mFalse\u001b[39;00m, data\u001b[38;5;241m=\u001b[39m\u001b[38;5;28;01mNone\u001b[39;00m, \u001b[38;5;241m*\u001b[39m\u001b[38;5;241m*\u001b[39mkwargs):\n\u001b[0;32m-> 2807\u001b[0m     __ret \u001b[38;5;241m=\u001b[39m \u001b[43mgca\u001b[49m\u001b[43m(\u001b[49m\u001b[43m)\u001b[49m\u001b[38;5;241;43m.\u001b[39;49m\u001b[43mscatter\u001b[49m\u001b[43m(\u001b[49m\n\u001b[1;32m   2808\u001b[0m \u001b[43m        \u001b[49m\u001b[43mx\u001b[49m\u001b[43m,\u001b[49m\u001b[43m \u001b[49m\u001b[43my\u001b[49m\u001b[43m,\u001b[49m\u001b[43m \u001b[49m\u001b[43ms\u001b[49m\u001b[38;5;241;43m=\u001b[39;49m\u001b[43ms\u001b[49m\u001b[43m,\u001b[49m\u001b[43m \u001b[49m\u001b[43mc\u001b[49m\u001b[38;5;241;43m=\u001b[39;49m\u001b[43mc\u001b[49m\u001b[43m,\u001b[49m\u001b[43m \u001b[49m\u001b[43mmarker\u001b[49m\u001b[38;5;241;43m=\u001b[39;49m\u001b[43mmarker\u001b[49m\u001b[43m,\u001b[49m\u001b[43m \u001b[49m\u001b[43mcmap\u001b[49m\u001b[38;5;241;43m=\u001b[39;49m\u001b[43mcmap\u001b[49m\u001b[43m,\u001b[49m\u001b[43m \u001b[49m\u001b[43mnorm\u001b[49m\u001b[38;5;241;43m=\u001b[39;49m\u001b[43mnorm\u001b[49m\u001b[43m,\u001b[49m\n\u001b[1;32m   2809\u001b[0m \u001b[43m        \u001b[49m\u001b[43mvmin\u001b[49m\u001b[38;5;241;43m=\u001b[39;49m\u001b[43mvmin\u001b[49m\u001b[43m,\u001b[49m\u001b[43m \u001b[49m\u001b[43mvmax\u001b[49m\u001b[38;5;241;43m=\u001b[39;49m\u001b[43mvmax\u001b[49m\u001b[43m,\u001b[49m\u001b[43m \u001b[49m\u001b[43malpha\u001b[49m\u001b[38;5;241;43m=\u001b[39;49m\u001b[43malpha\u001b[49m\u001b[43m,\u001b[49m\u001b[43m \u001b[49m\u001b[43mlinewidths\u001b[49m\u001b[38;5;241;43m=\u001b[39;49m\u001b[43mlinewidths\u001b[49m\u001b[43m,\u001b[49m\n\u001b[1;32m   2810\u001b[0m \u001b[43m        \u001b[49m\u001b[43medgecolors\u001b[49m\u001b[38;5;241;43m=\u001b[39;49m\u001b[43medgecolors\u001b[49m\u001b[43m,\u001b[49m\u001b[43m \u001b[49m\u001b[43mplotnonfinite\u001b[49m\u001b[38;5;241;43m=\u001b[39;49m\u001b[43mplotnonfinite\u001b[49m\u001b[43m,\u001b[49m\n\u001b[1;32m   2811\u001b[0m \u001b[43m        \u001b[49m\u001b[38;5;241;43m*\u001b[39;49m\u001b[38;5;241;43m*\u001b[39;49m\u001b[43m(\u001b[49m\u001b[43m{\u001b[49m\u001b[38;5;124;43m\"\u001b[39;49m\u001b[38;5;124;43mdata\u001b[39;49m\u001b[38;5;124;43m\"\u001b[39;49m\u001b[43m:\u001b[49m\u001b[43m \u001b[49m\u001b[43mdata\u001b[49m\u001b[43m}\u001b[49m\u001b[43m \u001b[49m\u001b[38;5;28;43;01mif\u001b[39;49;00m\u001b[43m \u001b[49m\u001b[43mdata\u001b[49m\u001b[43m \u001b[49m\u001b[38;5;129;43;01mis\u001b[39;49;00m\u001b[43m \u001b[49m\u001b[38;5;129;43;01mnot\u001b[39;49;00m\u001b[43m \u001b[49m\u001b[38;5;28;43;01mNone\u001b[39;49;00m\u001b[43m \u001b[49m\u001b[38;5;28;43;01melse\u001b[39;49;00m\u001b[43m \u001b[49m\u001b[43m{\u001b[49m\u001b[43m}\u001b[49m\u001b[43m)\u001b[49m\u001b[43m,\u001b[49m\u001b[43m \u001b[49m\u001b[38;5;241;43m*\u001b[39;49m\u001b[38;5;241;43m*\u001b[39;49m\u001b[43mkwargs\u001b[49m\u001b[43m)\u001b[49m\n\u001b[1;32m   2812\u001b[0m     sci(__ret)\n\u001b[1;32m   2813\u001b[0m     \u001b[38;5;28;01mreturn\u001b[39;00m __ret\n",
          "File \u001b[0;32m/opt/conda/lib/python3.9/site-packages/matplotlib/__init__.py:1412\u001b[0m, in \u001b[0;36m_preprocess_data.<locals>.inner\u001b[0;34m(ax, data, *args, **kwargs)\u001b[0m\n\u001b[1;32m   1409\u001b[0m \u001b[38;5;129m@functools\u001b[39m\u001b[38;5;241m.\u001b[39mwraps(func)\n\u001b[1;32m   1410\u001b[0m \u001b[38;5;28;01mdef\u001b[39;00m \u001b[38;5;21minner\u001b[39m(ax, \u001b[38;5;241m*\u001b[39margs, data\u001b[38;5;241m=\u001b[39m\u001b[38;5;28;01mNone\u001b[39;00m, \u001b[38;5;241m*\u001b[39m\u001b[38;5;241m*\u001b[39mkwargs):\n\u001b[1;32m   1411\u001b[0m     \u001b[38;5;28;01mif\u001b[39;00m data \u001b[38;5;129;01mis\u001b[39;00m \u001b[38;5;28;01mNone\u001b[39;00m:\n\u001b[0;32m-> 1412\u001b[0m         \u001b[38;5;28;01mreturn\u001b[39;00m \u001b[43mfunc\u001b[49m\u001b[43m(\u001b[49m\u001b[43max\u001b[49m\u001b[43m,\u001b[49m\u001b[43m \u001b[49m\u001b[38;5;241;43m*\u001b[39;49m\u001b[38;5;28;43mmap\u001b[39;49m\u001b[43m(\u001b[49m\u001b[43msanitize_sequence\u001b[49m\u001b[43m,\u001b[49m\u001b[43m \u001b[49m\u001b[43margs\u001b[49m\u001b[43m)\u001b[49m\u001b[43m,\u001b[49m\u001b[43m \u001b[49m\u001b[38;5;241;43m*\u001b[39;49m\u001b[38;5;241;43m*\u001b[39;49m\u001b[43mkwargs\u001b[49m\u001b[43m)\u001b[49m\n\u001b[1;32m   1414\u001b[0m     bound \u001b[38;5;241m=\u001b[39m new_sig\u001b[38;5;241m.\u001b[39mbind(ax, \u001b[38;5;241m*\u001b[39margs, \u001b[38;5;241m*\u001b[39m\u001b[38;5;241m*\u001b[39mkwargs)\n\u001b[1;32m   1415\u001b[0m     auto_label \u001b[38;5;241m=\u001b[39m (bound\u001b[38;5;241m.\u001b[39marguments\u001b[38;5;241m.\u001b[39mget(label_namer)\n\u001b[1;32m   1416\u001b[0m                   \u001b[38;5;129;01mor\u001b[39;00m bound\u001b[38;5;241m.\u001b[39mkwargs\u001b[38;5;241m.\u001b[39mget(label_namer))\n",
          "File \u001b[0;32m/opt/conda/lib/python3.9/site-packages/mpl_toolkits/mplot3d/axes3d.py:2389\u001b[0m, in \u001b[0;36mAxes3D.scatter\u001b[0;34m(self, xs, ys, zs, zdir, s, c, depthshade, *args, **kwargs)\u001b[0m\n\u001b[1;32m   2386\u001b[0m \u001b[38;5;28;01mif\u001b[39;00m np\u001b[38;5;241m.\u001b[39mmay_share_memory(zs_orig, zs):  \u001b[38;5;66;03m# Avoid unnecessary copies.\u001b[39;00m\n\u001b[1;32m   2387\u001b[0m     zs \u001b[38;5;241m=\u001b[39m zs\u001b[38;5;241m.\u001b[39mcopy()\n\u001b[0;32m-> 2389\u001b[0m patches \u001b[38;5;241m=\u001b[39m \u001b[38;5;28;43msuper\u001b[39;49m\u001b[43m(\u001b[49m\u001b[43m)\u001b[49m\u001b[38;5;241;43m.\u001b[39;49m\u001b[43mscatter\u001b[49m\u001b[43m(\u001b[49m\u001b[43mxs\u001b[49m\u001b[43m,\u001b[49m\u001b[43m \u001b[49m\u001b[43mys\u001b[49m\u001b[43m,\u001b[49m\u001b[43m \u001b[49m\u001b[43ms\u001b[49m\u001b[38;5;241;43m=\u001b[39;49m\u001b[43ms\u001b[49m\u001b[43m,\u001b[49m\u001b[43m \u001b[49m\u001b[43mc\u001b[49m\u001b[38;5;241;43m=\u001b[39;49m\u001b[43mc\u001b[49m\u001b[43m,\u001b[49m\u001b[43m \u001b[49m\u001b[38;5;241;43m*\u001b[39;49m\u001b[43margs\u001b[49m\u001b[43m,\u001b[49m\u001b[43m \u001b[49m\u001b[38;5;241;43m*\u001b[39;49m\u001b[38;5;241;43m*\u001b[39;49m\u001b[43mkwargs\u001b[49m\u001b[43m)\u001b[49m\n\u001b[1;32m   2390\u001b[0m art3d\u001b[38;5;241m.\u001b[39mpatch_collection_2d_to_3d(patches, zs\u001b[38;5;241m=\u001b[39mzs, zdir\u001b[38;5;241m=\u001b[39mzdir,\n\u001b[1;32m   2391\u001b[0m                                 depthshade\u001b[38;5;241m=\u001b[39mdepthshade)\n\u001b[1;32m   2393\u001b[0m \u001b[38;5;28;01mif\u001b[39;00m \u001b[38;5;28mself\u001b[39m\u001b[38;5;241m.\u001b[39m_zmargin \u001b[38;5;241m<\u001b[39m \u001b[38;5;241m0.05\u001b[39m \u001b[38;5;129;01mand\u001b[39;00m xs\u001b[38;5;241m.\u001b[39msize \u001b[38;5;241m>\u001b[39m \u001b[38;5;241m0\u001b[39m:\n",
          "File \u001b[0;32m/opt/conda/lib/python3.9/site-packages/matplotlib/__init__.py:1412\u001b[0m, in \u001b[0;36m_preprocess_data.<locals>.inner\u001b[0;34m(ax, data, *args, **kwargs)\u001b[0m\n\u001b[1;32m   1409\u001b[0m \u001b[38;5;129m@functools\u001b[39m\u001b[38;5;241m.\u001b[39mwraps(func)\n\u001b[1;32m   1410\u001b[0m \u001b[38;5;28;01mdef\u001b[39;00m \u001b[38;5;21minner\u001b[39m(ax, \u001b[38;5;241m*\u001b[39margs, data\u001b[38;5;241m=\u001b[39m\u001b[38;5;28;01mNone\u001b[39;00m, \u001b[38;5;241m*\u001b[39m\u001b[38;5;241m*\u001b[39mkwargs):\n\u001b[1;32m   1411\u001b[0m     \u001b[38;5;28;01mif\u001b[39;00m data \u001b[38;5;129;01mis\u001b[39;00m \u001b[38;5;28;01mNone\u001b[39;00m:\n\u001b[0;32m-> 1412\u001b[0m         \u001b[38;5;28;01mreturn\u001b[39;00m \u001b[43mfunc\u001b[49m\u001b[43m(\u001b[49m\u001b[43max\u001b[49m\u001b[43m,\u001b[49m\u001b[43m \u001b[49m\u001b[38;5;241;43m*\u001b[39;49m\u001b[38;5;28;43mmap\u001b[39;49m\u001b[43m(\u001b[49m\u001b[43msanitize_sequence\u001b[49m\u001b[43m,\u001b[49m\u001b[43m \u001b[49m\u001b[43margs\u001b[49m\u001b[43m)\u001b[49m\u001b[43m,\u001b[49m\u001b[43m \u001b[49m\u001b[38;5;241;43m*\u001b[39;49m\u001b[38;5;241;43m*\u001b[39;49m\u001b[43mkwargs\u001b[49m\u001b[43m)\u001b[49m\n\u001b[1;32m   1414\u001b[0m     bound \u001b[38;5;241m=\u001b[39m new_sig\u001b[38;5;241m.\u001b[39mbind(ax, \u001b[38;5;241m*\u001b[39margs, \u001b[38;5;241m*\u001b[39m\u001b[38;5;241m*\u001b[39mkwargs)\n\u001b[1;32m   1415\u001b[0m     auto_label \u001b[38;5;241m=\u001b[39m (bound\u001b[38;5;241m.\u001b[39marguments\u001b[38;5;241m.\u001b[39mget(label_namer)\n\u001b[1;32m   1416\u001b[0m                   \u001b[38;5;129;01mor\u001b[39;00m bound\u001b[38;5;241m.\u001b[39mkwargs\u001b[38;5;241m.\u001b[39mget(label_namer))\n",
          "File \u001b[0;32m/opt/conda/lib/python3.9/site-packages/matplotlib/axes/_axes.py:4378\u001b[0m, in \u001b[0;36mAxes.scatter\u001b[0;34m(self, x, y, s, c, marker, cmap, norm, vmin, vmax, alpha, linewidths, edgecolors, plotnonfinite, **kwargs)\u001b[0m\n\u001b[1;32m   4374\u001b[0m s \u001b[38;5;241m=\u001b[39m np\u001b[38;5;241m.\u001b[39mma\u001b[38;5;241m.\u001b[39mravel(s)\n\u001b[1;32m   4375\u001b[0m \u001b[38;5;28;01mif\u001b[39;00m (\u001b[38;5;28mlen\u001b[39m(s) \u001b[38;5;129;01mnot\u001b[39;00m \u001b[38;5;129;01min\u001b[39;00m (\u001b[38;5;241m1\u001b[39m, x\u001b[38;5;241m.\u001b[39msize) \u001b[38;5;129;01mor\u001b[39;00m\n\u001b[1;32m   4376\u001b[0m         (\u001b[38;5;129;01mnot\u001b[39;00m np\u001b[38;5;241m.\u001b[39missubdtype(s\u001b[38;5;241m.\u001b[39mdtype, np\u001b[38;5;241m.\u001b[39mfloating) \u001b[38;5;129;01mand\u001b[39;00m\n\u001b[1;32m   4377\u001b[0m          \u001b[38;5;129;01mnot\u001b[39;00m np\u001b[38;5;241m.\u001b[39missubdtype(s\u001b[38;5;241m.\u001b[39mdtype, np\u001b[38;5;241m.\u001b[39minteger))):\n\u001b[0;32m-> 4378\u001b[0m     \u001b[38;5;28;01mraise\u001b[39;00m \u001b[38;5;167;01mValueError\u001b[39;00m(\n\u001b[1;32m   4379\u001b[0m         \u001b[38;5;124m\"\u001b[39m\u001b[38;5;124ms must be a scalar, \u001b[39m\u001b[38;5;124m\"\u001b[39m\n\u001b[1;32m   4380\u001b[0m         \u001b[38;5;124m\"\u001b[39m\u001b[38;5;124mor float array-like with the same size as x and y\u001b[39m\u001b[38;5;124m\"\u001b[39m)\n\u001b[1;32m   4382\u001b[0m \u001b[38;5;66;03m# get the original edgecolor the user passed before we normalize\u001b[39;00m\n\u001b[1;32m   4383\u001b[0m orig_edgecolor \u001b[38;5;241m=\u001b[39m edgecolors\n",
          "\u001b[0;31mValueError\u001b[0m: s must be a scalar, or float array-like with the same size as x and y"
         ]
        }
       ]
      }
     },
     "580e0002c8604034827acb71997f9ace": {
      "model_module": "@jupyter-widgets/controls",
      "model_module_version": "1.5.0",
      "model_name": "IntSliderModel",
      "state": {
       "description": "updates",
       "layout": "IPY_MODEL_f6adf732bff748c787be519ca4eaccf3",
       "max": 10,
       "style": "IPY_MODEL_e5ce4c18f1eb4d0cb7a9ed599a4ca2fb",
       "value": 5
      }
     },
     "596bb76baf244a95832c44a0b8089ad4": {
      "model_module": "@jupyter-widgets/base",
      "model_module_version": "1.2.0",
      "model_name": "LayoutModel",
      "state": {}
     },
     "5a4c22e9b65647db89aec527ead2a61c": {
      "model_module": "@jupyter-widgets/controls",
      "model_module_version": "1.5.0",
      "model_name": "FloatSliderModel",
      "state": {
       "description": "bias",
       "layout": "IPY_MODEL_608e891845b343d893ff302c2f980116",
       "max": 3,
       "min": -2,
       "step": 0.5,
       "style": "IPY_MODEL_86423b5b097c439a9c29adccd7683c3b"
      }
     },
     "5bc75b87ea1544d4aa042913484f6805": {
      "model_module": "@jupyter-widgets/base",
      "model_module_version": "1.2.0",
      "model_name": "LayoutModel",
      "state": {}
     },
     "5ccbb4fab1174895aceab3d7a375de81": {
      "model_module": "@jupyter-widgets/base",
      "model_module_version": "1.2.0",
      "model_name": "LayoutModel",
      "state": {}
     },
     "6075387a31c744a685c1c7049ab6beb4": {
      "model_module": "@jupyter-widgets/controls",
      "model_module_version": "1.5.0",
      "model_name": "HTMLMathModel",
      "state": {
       "layout": "IPY_MODEL_e6713f66c2e040218d4fe4045f1da749",
       "style": "IPY_MODEL_2b696dba017f42c483cf89b9e4eb1c63",
       "value": "<h4>The selected point $x=[-3.5,1.0]$ was <span class='text-success'>correctly classified</span>. No update occures.</h4>"
      }
     },
     "608e891845b343d893ff302c2f980116": {
      "model_module": "@jupyter-widgets/base",
      "model_module_version": "1.2.0",
      "model_name": "LayoutModel",
      "state": {}
     },
     "6271fbc816444b8abc30f5e5170f7df9": {
      "model_module": "@jupyter-widgets/output",
      "model_module_version": "1.0.0",
      "model_name": "OutputModel",
      "state": {
       "layout": "IPY_MODEL_7a27e27cd3384a37935968a11ec943b8",
       "outputs": [
        {
         "data": {
          "application/javascript": "/* Put everything inside the global mpl namespace */\n/* global mpl */\nwindow.mpl = {};\n\nmpl.get_websocket_type = function () {\n    if (typeof WebSocket !== 'undefined') {\n        return WebSocket;\n    } else if (typeof MozWebSocket !== 'undefined') {\n        return MozWebSocket;\n    } else {\n        alert(\n            'Your browser does not have WebSocket support. ' +\n                'Please try Chrome, Safari or Firefox ≥ 6. ' +\n                'Firefox 4 and 5 are also supported but you ' +\n                'have to enable WebSockets in about:config.'\n        );\n    }\n};\n\nmpl.figure = function (figure_id, websocket, ondownload, parent_element) {\n    this.id = figure_id;\n\n    this.ws = websocket;\n\n    this.supports_binary = this.ws.binaryType !== undefined;\n\n    if (!this.supports_binary) {\n        var warnings = document.getElementById('mpl-warnings');\n        if (warnings) {\n            warnings.style.display = 'block';\n            warnings.textContent =\n                'This browser does not support binary websocket messages. ' +\n                'Performance may be slow.';\n        }\n    }\n\n    this.imageObj = new Image();\n\n    this.context = undefined;\n    this.message = undefined;\n    this.canvas = undefined;\n    this.rubberband_canvas = undefined;\n    this.rubberband_context = undefined;\n    this.format_dropdown = undefined;\n\n    this.image_mode = 'full';\n\n    this.root = document.createElement('div');\n    this.root.setAttribute('style', 'display: inline-block');\n    this._root_extra_style(this.root);\n\n    parent_element.appendChild(this.root);\n\n    this._init_header(this);\n    this._init_canvas(this);\n    this._init_toolbar(this);\n\n    var fig = this;\n\n    this.waiting = false;\n\n    this.ws.onopen = function () {\n        fig.send_message('supports_binary', { value: fig.supports_binary });\n        fig.send_message('send_image_mode', {});\n        if (fig.ratio !== 1) {\n            fig.send_message('set_device_pixel_ratio', {\n                device_pixel_ratio: fig.ratio,\n            });\n        }\n        fig.send_message('refresh', {});\n    };\n\n    this.imageObj.onload = function () {\n        if (fig.image_mode === 'full') {\n            // Full images could contain transparency (where diff images\n            // almost always do), so we need to clear the canvas so that\n            // there is no ghosting.\n            fig.context.clearRect(0, 0, fig.canvas.width, fig.canvas.height);\n        }\n        fig.context.drawImage(fig.imageObj, 0, 0);\n    };\n\n    this.imageObj.onunload = function () {\n        fig.ws.close();\n    };\n\n    this.ws.onmessage = this._make_on_message_function(this);\n\n    this.ondownload = ondownload;\n};\n\nmpl.figure.prototype._init_header = function () {\n    var titlebar = document.createElement('div');\n    titlebar.classList =\n        'ui-dialog-titlebar ui-widget-header ui-corner-all ui-helper-clearfix';\n    var titletext = document.createElement('div');\n    titletext.classList = 'ui-dialog-title';\n    titletext.setAttribute(\n        'style',\n        'width: 100%; text-align: center; padding: 3px;'\n    );\n    titlebar.appendChild(titletext);\n    this.root.appendChild(titlebar);\n    this.header = titletext;\n};\n\nmpl.figure.prototype._canvas_extra_style = function (_canvas_div) {};\n\nmpl.figure.prototype._root_extra_style = function (_canvas_div) {};\n\nmpl.figure.prototype._init_canvas = function () {\n    var fig = this;\n\n    var canvas_div = (this.canvas_div = document.createElement('div'));\n    canvas_div.setAttribute(\n        'style',\n        'border: 1px solid #ddd;' +\n            'box-sizing: content-box;' +\n            'clear: both;' +\n            'min-height: 1px;' +\n            'min-width: 1px;' +\n            'outline: 0;' +\n            'overflow: hidden;' +\n            'position: relative;' +\n            'resize: both;'\n    );\n\n    function on_keyboard_event_closure(name) {\n        return function (event) {\n            return fig.key_event(event, name);\n        };\n    }\n\n    canvas_div.addEventListener(\n        'keydown',\n        on_keyboard_event_closure('key_press')\n    );\n    canvas_div.addEventListener(\n        'keyup',\n        on_keyboard_event_closure('key_release')\n    );\n\n    this._canvas_extra_style(canvas_div);\n    this.root.appendChild(canvas_div);\n\n    var canvas = (this.canvas = document.createElement('canvas'));\n    canvas.classList.add('mpl-canvas');\n    canvas.setAttribute('style', 'box-sizing: content-box;');\n\n    this.context = canvas.getContext('2d');\n\n    var backingStore =\n        this.context.backingStorePixelRatio ||\n        this.context.webkitBackingStorePixelRatio ||\n        this.context.mozBackingStorePixelRatio ||\n        this.context.msBackingStorePixelRatio ||\n        this.context.oBackingStorePixelRatio ||\n        this.context.backingStorePixelRatio ||\n        1;\n\n    this.ratio = (window.devicePixelRatio || 1) / backingStore;\n\n    var rubberband_canvas = (this.rubberband_canvas = document.createElement(\n        'canvas'\n    ));\n    rubberband_canvas.setAttribute(\n        'style',\n        'box-sizing: content-box; position: absolute; left: 0; top: 0; z-index: 1;'\n    );\n\n    // Apply a ponyfill if ResizeObserver is not implemented by browser.\n    if (this.ResizeObserver === undefined) {\n        if (window.ResizeObserver !== undefined) {\n            this.ResizeObserver = window.ResizeObserver;\n        } else {\n            var obs = _JSXTOOLS_RESIZE_OBSERVER({});\n            this.ResizeObserver = obs.ResizeObserver;\n        }\n    }\n\n    this.resizeObserverInstance = new this.ResizeObserver(function (entries) {\n        var nentries = entries.length;\n        for (var i = 0; i < nentries; i++) {\n            var entry = entries[i];\n            var width, height;\n            if (entry.contentBoxSize) {\n                if (entry.contentBoxSize instanceof Array) {\n                    // Chrome 84 implements new version of spec.\n                    width = entry.contentBoxSize[0].inlineSize;\n                    height = entry.contentBoxSize[0].blockSize;\n                } else {\n                    // Firefox implements old version of spec.\n                    width = entry.contentBoxSize.inlineSize;\n                    height = entry.contentBoxSize.blockSize;\n                }\n            } else {\n                // Chrome <84 implements even older version of spec.\n                width = entry.contentRect.width;\n                height = entry.contentRect.height;\n            }\n\n            // Keep the size of the canvas and rubber band canvas in sync with\n            // the canvas container.\n            if (entry.devicePixelContentBoxSize) {\n                // Chrome 84 implements new version of spec.\n                canvas.setAttribute(\n                    'width',\n                    entry.devicePixelContentBoxSize[0].inlineSize\n                );\n                canvas.setAttribute(\n                    'height',\n                    entry.devicePixelContentBoxSize[0].blockSize\n                );\n            } else {\n                canvas.setAttribute('width', width * fig.ratio);\n                canvas.setAttribute('height', height * fig.ratio);\n            }\n            canvas.setAttribute(\n                'style',\n                'width: ' + width + 'px; height: ' + height + 'px;'\n            );\n\n            rubberband_canvas.setAttribute('width', width);\n            rubberband_canvas.setAttribute('height', height);\n\n            // And update the size in Python. We ignore the initial 0/0 size\n            // that occurs as the element is placed into the DOM, which should\n            // otherwise not happen due to the minimum size styling.\n            if (fig.ws.readyState == 1 && width != 0 && height != 0) {\n                fig.request_resize(width, height);\n            }\n        }\n    });\n    this.resizeObserverInstance.observe(canvas_div);\n\n    function on_mouse_event_closure(name) {\n        return function (event) {\n            return fig.mouse_event(event, name);\n        };\n    }\n\n    rubberband_canvas.addEventListener(\n        'mousedown',\n        on_mouse_event_closure('button_press')\n    );\n    rubberband_canvas.addEventListener(\n        'mouseup',\n        on_mouse_event_closure('button_release')\n    );\n    rubberband_canvas.addEventListener(\n        'dblclick',\n        on_mouse_event_closure('dblclick')\n    );\n    // Throttle sequential mouse events to 1 every 20ms.\n    rubberband_canvas.addEventListener(\n        'mousemove',\n        on_mouse_event_closure('motion_notify')\n    );\n\n    rubberband_canvas.addEventListener(\n        'mouseenter',\n        on_mouse_event_closure('figure_enter')\n    );\n    rubberband_canvas.addEventListener(\n        'mouseleave',\n        on_mouse_event_closure('figure_leave')\n    );\n\n    canvas_div.addEventListener('wheel', function (event) {\n        if (event.deltaY < 0) {\n            event.step = 1;\n        } else {\n            event.step = -1;\n        }\n        on_mouse_event_closure('scroll')(event);\n    });\n\n    canvas_div.appendChild(canvas);\n    canvas_div.appendChild(rubberband_canvas);\n\n    this.rubberband_context = rubberband_canvas.getContext('2d');\n    this.rubberband_context.strokeStyle = '#000000';\n\n    this._resize_canvas = function (width, height, forward) {\n        if (forward) {\n            canvas_div.style.width = width + 'px';\n            canvas_div.style.height = height + 'px';\n        }\n    };\n\n    // Disable right mouse context menu.\n    this.rubberband_canvas.addEventListener('contextmenu', function (_e) {\n        event.preventDefault();\n        return false;\n    });\n\n    function set_focus() {\n        canvas.focus();\n        canvas_div.focus();\n    }\n\n    window.setTimeout(set_focus, 100);\n};\n\nmpl.figure.prototype._init_toolbar = function () {\n    var fig = this;\n\n    var toolbar = document.createElement('div');\n    toolbar.classList = 'mpl-toolbar';\n    this.root.appendChild(toolbar);\n\n    function on_click_closure(name) {\n        return function (_event) {\n            return fig.toolbar_button_onclick(name);\n        };\n    }\n\n    function on_mouseover_closure(tooltip) {\n        return function (event) {\n            if (!event.currentTarget.disabled) {\n                return fig.toolbar_button_onmouseover(tooltip);\n            }\n        };\n    }\n\n    fig.buttons = {};\n    var buttonGroup = document.createElement('div');\n    buttonGroup.classList = 'mpl-button-group';\n    for (var toolbar_ind in mpl.toolbar_items) {\n        var name = mpl.toolbar_items[toolbar_ind][0];\n        var tooltip = mpl.toolbar_items[toolbar_ind][1];\n        var image = mpl.toolbar_items[toolbar_ind][2];\n        var method_name = mpl.toolbar_items[toolbar_ind][3];\n\n        if (!name) {\n            /* Instead of a spacer, we start a new button group. */\n            if (buttonGroup.hasChildNodes()) {\n                toolbar.appendChild(buttonGroup);\n            }\n            buttonGroup = document.createElement('div');\n            buttonGroup.classList = 'mpl-button-group';\n            continue;\n        }\n\n        var button = (fig.buttons[name] = document.createElement('button'));\n        button.classList = 'mpl-widget';\n        button.setAttribute('role', 'button');\n        button.setAttribute('aria-disabled', 'false');\n        button.addEventListener('click', on_click_closure(method_name));\n        button.addEventListener('mouseover', on_mouseover_closure(tooltip));\n\n        var icon_img = document.createElement('img');\n        icon_img.src = '_images/' + image + '.png';\n        icon_img.srcset = '_images/' + image + '_large.png 2x';\n        icon_img.alt = tooltip;\n        button.appendChild(icon_img);\n\n        buttonGroup.appendChild(button);\n    }\n\n    if (buttonGroup.hasChildNodes()) {\n        toolbar.appendChild(buttonGroup);\n    }\n\n    var fmt_picker = document.createElement('select');\n    fmt_picker.classList = 'mpl-widget';\n    toolbar.appendChild(fmt_picker);\n    this.format_dropdown = fmt_picker;\n\n    for (var ind in mpl.extensions) {\n        var fmt = mpl.extensions[ind];\n        var option = document.createElement('option');\n        option.selected = fmt === mpl.default_extension;\n        option.innerHTML = fmt;\n        fmt_picker.appendChild(option);\n    }\n\n    var status_bar = document.createElement('span');\n    status_bar.classList = 'mpl-message';\n    toolbar.appendChild(status_bar);\n    this.message = status_bar;\n};\n\nmpl.figure.prototype.request_resize = function (x_pixels, y_pixels) {\n    // Request matplotlib to resize the figure. Matplotlib will then trigger a resize in the client,\n    // which will in turn request a refresh of the image.\n    this.send_message('resize', { width: x_pixels, height: y_pixels });\n};\n\nmpl.figure.prototype.send_message = function (type, properties) {\n    properties['type'] = type;\n    properties['figure_id'] = this.id;\n    this.ws.send(JSON.stringify(properties));\n};\n\nmpl.figure.prototype.send_draw_message = function () {\n    if (!this.waiting) {\n        this.waiting = true;\n        this.ws.send(JSON.stringify({ type: 'draw', figure_id: this.id }));\n    }\n};\n\nmpl.figure.prototype.handle_save = function (fig, _msg) {\n    var format_dropdown = fig.format_dropdown;\n    var format = format_dropdown.options[format_dropdown.selectedIndex].value;\n    fig.ondownload(fig, format);\n};\n\nmpl.figure.prototype.handle_resize = function (fig, msg) {\n    var size = msg['size'];\n    if (size[0] !== fig.canvas.width || size[1] !== fig.canvas.height) {\n        fig._resize_canvas(size[0], size[1], msg['forward']);\n        fig.send_message('refresh', {});\n    }\n};\n\nmpl.figure.prototype.handle_rubberband = function (fig, msg) {\n    var x0 = msg['x0'] / fig.ratio;\n    var y0 = (fig.canvas.height - msg['y0']) / fig.ratio;\n    var x1 = msg['x1'] / fig.ratio;\n    var y1 = (fig.canvas.height - msg['y1']) / fig.ratio;\n    x0 = Math.floor(x0) + 0.5;\n    y0 = Math.floor(y0) + 0.5;\n    x1 = Math.floor(x1) + 0.5;\n    y1 = Math.floor(y1) + 0.5;\n    var min_x = Math.min(x0, x1);\n    var min_y = Math.min(y0, y1);\n    var width = Math.abs(x1 - x0);\n    var height = Math.abs(y1 - y0);\n\n    fig.rubberband_context.clearRect(\n        0,\n        0,\n        fig.canvas.width / fig.ratio,\n        fig.canvas.height / fig.ratio\n    );\n\n    fig.rubberband_context.strokeRect(min_x, min_y, width, height);\n};\n\nmpl.figure.prototype.handle_figure_label = function (fig, msg) {\n    // Updates the figure title.\n    fig.header.textContent = msg['label'];\n};\n\nmpl.figure.prototype.handle_cursor = function (fig, msg) {\n    fig.rubberband_canvas.style.cursor = msg['cursor'];\n};\n\nmpl.figure.prototype.handle_message = function (fig, msg) {\n    fig.message.textContent = msg['message'];\n};\n\nmpl.figure.prototype.handle_draw = function (fig, _msg) {\n    // Request the server to send over a new figure.\n    fig.send_draw_message();\n};\n\nmpl.figure.prototype.handle_image_mode = function (fig, msg) {\n    fig.image_mode = msg['mode'];\n};\n\nmpl.figure.prototype.handle_history_buttons = function (fig, msg) {\n    for (var key in msg) {\n        if (!(key in fig.buttons)) {\n            continue;\n        }\n        fig.buttons[key].disabled = !msg[key];\n        fig.buttons[key].setAttribute('aria-disabled', !msg[key]);\n    }\n};\n\nmpl.figure.prototype.handle_navigate_mode = function (fig, msg) {\n    if (msg['mode'] === 'PAN') {\n        fig.buttons['Pan'].classList.add('active');\n        fig.buttons['Zoom'].classList.remove('active');\n    } else if (msg['mode'] === 'ZOOM') {\n        fig.buttons['Pan'].classList.remove('active');\n        fig.buttons['Zoom'].classList.add('active');\n    } else {\n        fig.buttons['Pan'].classList.remove('active');\n        fig.buttons['Zoom'].classList.remove('active');\n    }\n};\n\nmpl.figure.prototype.updated_canvas_event = function () {\n    // Called whenever the canvas gets updated.\n    this.send_message('ack', {});\n};\n\n// A function to construct a web socket function for onmessage handling.\n// Called in the figure constructor.\nmpl.figure.prototype._make_on_message_function = function (fig) {\n    return function socket_on_message(evt) {\n        if (evt.data instanceof Blob) {\n            var img = evt.data;\n            if (img.type !== 'image/png') {\n                /* FIXME: We get \"Resource interpreted as Image but\n                 * transferred with MIME type text/plain:\" errors on\n                 * Chrome.  But how to set the MIME type?  It doesn't seem\n                 * to be part of the websocket stream */\n                img.type = 'image/png';\n            }\n\n            /* Free the memory for the previous frames */\n            if (fig.imageObj.src) {\n                (window.URL || window.webkitURL).revokeObjectURL(\n                    fig.imageObj.src\n                );\n            }\n\n            fig.imageObj.src = (window.URL || window.webkitURL).createObjectURL(\n                img\n            );\n            fig.updated_canvas_event();\n            fig.waiting = false;\n            return;\n        } else if (\n            typeof evt.data === 'string' &&\n            evt.data.slice(0, 21) === 'data:image/png;base64'\n        ) {\n            fig.imageObj.src = evt.data;\n            fig.updated_canvas_event();\n            fig.waiting = false;\n            return;\n        }\n\n        var msg = JSON.parse(evt.data);\n        var msg_type = msg['type'];\n\n        // Call the  \"handle_{type}\" callback, which takes\n        // the figure and JSON message as its only arguments.\n        try {\n            var callback = fig['handle_' + msg_type];\n        } catch (e) {\n            console.log(\n                \"No handler for the '\" + msg_type + \"' message type: \",\n                msg\n            );\n            return;\n        }\n\n        if (callback) {\n            try {\n                // console.log(\"Handling '\" + msg_type + \"' message: \", msg);\n                callback(fig, msg);\n            } catch (e) {\n                console.log(\n                    \"Exception inside the 'handler_\" + msg_type + \"' callback:\",\n                    e,\n                    e.stack,\n                    msg\n                );\n            }\n        }\n    };\n};\n\n// from https://stackoverflow.com/questions/1114465/getting-mouse-location-in-canvas\nmpl.findpos = function (e) {\n    //this section is from http://www.quirksmode.org/js/events_properties.html\n    var targ;\n    if (!e) {\n        e = window.event;\n    }\n    if (e.target) {\n        targ = e.target;\n    } else if (e.srcElement) {\n        targ = e.srcElement;\n    }\n    if (targ.nodeType === 3) {\n        // defeat Safari bug\n        targ = targ.parentNode;\n    }\n\n    // pageX,Y are the mouse positions relative to the document\n    var boundingRect = targ.getBoundingClientRect();\n    var x = e.pageX - (boundingRect.left + document.body.scrollLeft);\n    var y = e.pageY - (boundingRect.top + document.body.scrollTop);\n\n    return { x: x, y: y };\n};\n\n/*\n * return a copy of an object with only non-object keys\n * we need this to avoid circular references\n * https://stackoverflow.com/a/24161582/3208463\n */\nfunction simpleKeys(original) {\n    return Object.keys(original).reduce(function (obj, key) {\n        if (typeof original[key] !== 'object') {\n            obj[key] = original[key];\n        }\n        return obj;\n    }, {});\n}\n\nmpl.figure.prototype.mouse_event = function (event, name) {\n    var canvas_pos = mpl.findpos(event);\n\n    if (name === 'button_press') {\n        this.canvas.focus();\n        this.canvas_div.focus();\n    }\n\n    var x = canvas_pos.x * this.ratio;\n    var y = canvas_pos.y * this.ratio;\n\n    this.send_message(name, {\n        x: x,\n        y: y,\n        button: event.button,\n        step: event.step,\n        guiEvent: simpleKeys(event),\n    });\n\n    /* This prevents the web browser from automatically changing to\n     * the text insertion cursor when the button is pressed.  We want\n     * to control all of the cursor setting manually through the\n     * 'cursor' event from matplotlib */\n    event.preventDefault();\n    return false;\n};\n\nmpl.figure.prototype._key_event_extra = function (_event, _name) {\n    // Handle any extra behaviour associated with a key event\n};\n\nmpl.figure.prototype.key_event = function (event, name) {\n    // Prevent repeat events\n    if (name === 'key_press') {\n        if (event.key === this._key) {\n            return;\n        } else {\n            this._key = event.key;\n        }\n    }\n    if (name === 'key_release') {\n        this._key = null;\n    }\n\n    var value = '';\n    if (event.ctrlKey && event.key !== 'Control') {\n        value += 'ctrl+';\n    }\n    else if (event.altKey && event.key !== 'Alt') {\n        value += 'alt+';\n    }\n    else if (event.shiftKey && event.key !== 'Shift') {\n        value += 'shift+';\n    }\n\n    value += 'k' + event.key;\n\n    this._key_event_extra(event, name);\n\n    this.send_message(name, { key: value, guiEvent: simpleKeys(event) });\n    return false;\n};\n\nmpl.figure.prototype.toolbar_button_onclick = function (name) {\n    if (name === 'download') {\n        this.handle_save(this, null);\n    } else {\n        this.send_message('toolbar_button', { name: name });\n    }\n};\n\nmpl.figure.prototype.toolbar_button_onmouseover = function (tooltip) {\n    this.message.textContent = tooltip;\n};\n\n///////////////// REMAINING CONTENT GENERATED BY embed_js.py /////////////////\n// prettier-ignore\nvar _JSXTOOLS_RESIZE_OBSERVER=function(A){var t,i=new WeakMap,n=new WeakMap,a=new WeakMap,r=new WeakMap,o=new Set;function s(e){if(!(this instanceof s))throw new TypeError(\"Constructor requires 'new' operator\");i.set(this,e)}function h(){throw new TypeError(\"Function is not a constructor\")}function c(e,t,i,n){e=0 in arguments?Number(arguments[0]):0,t=1 in arguments?Number(arguments[1]):0,i=2 in arguments?Number(arguments[2]):0,n=3 in arguments?Number(arguments[3]):0,this.right=(this.x=this.left=e)+(this.width=i),this.bottom=(this.y=this.top=t)+(this.height=n),Object.freeze(this)}function d(){t=requestAnimationFrame(d);var s=new WeakMap,p=new Set;o.forEach((function(t){r.get(t).forEach((function(i){var r=t instanceof window.SVGElement,o=a.get(t),d=r?0:parseFloat(o.paddingTop),f=r?0:parseFloat(o.paddingRight),l=r?0:parseFloat(o.paddingBottom),u=r?0:parseFloat(o.paddingLeft),g=r?0:parseFloat(o.borderTopWidth),m=r?0:parseFloat(o.borderRightWidth),w=r?0:parseFloat(o.borderBottomWidth),b=u+f,F=d+l,v=(r?0:parseFloat(o.borderLeftWidth))+m,W=g+w,y=r?0:t.offsetHeight-W-t.clientHeight,E=r?0:t.offsetWidth-v-t.clientWidth,R=b+v,z=F+W,M=r?t.width:parseFloat(o.width)-R-E,O=r?t.height:parseFloat(o.height)-z-y;if(n.has(t)){var k=n.get(t);if(k[0]===M&&k[1]===O)return}n.set(t,[M,O]);var S=Object.create(h.prototype);S.target=t,S.contentRect=new c(u,d,M,O),s.has(i)||(s.set(i,[]),p.add(i)),s.get(i).push(S)}))})),p.forEach((function(e){i.get(e).call(e,s.get(e),e)}))}return s.prototype.observe=function(i){if(i instanceof window.Element){r.has(i)||(r.set(i,new Set),o.add(i),a.set(i,window.getComputedStyle(i)));var n=r.get(i);n.has(this)||n.add(this),cancelAnimationFrame(t),t=requestAnimationFrame(d)}},s.prototype.unobserve=function(i){if(i instanceof window.Element&&r.has(i)){var n=r.get(i);n.has(this)&&(n.delete(this),n.size||(r.delete(i),o.delete(i))),n.size||r.delete(i),o.size||cancelAnimationFrame(t)}},A.DOMRectReadOnly=c,A.ResizeObserver=s,A.ResizeObserverEntry=h,A}; // eslint-disable-line\nmpl.toolbar_items = [[\"Home\", \"Reset original view\", \"fa fa-home icon-home\", \"home\"], [\"Back\", \"Back to previous view\", \"fa fa-arrow-left icon-arrow-left\", \"back\"], [\"Forward\", \"Forward to next view\", \"fa fa-arrow-right icon-arrow-right\", \"forward\"], [\"\", \"\", \"\", \"\"], [\"Pan\", \"Left button pans, Right button zooms\\nx/y fixes axis, CTRL fixes aspect\", \"fa fa-arrows icon-move\", \"pan\"], [\"Zoom\", \"Zoom to rectangle\\nx/y fixes axis\", \"fa fa-square-o icon-check-empty\", \"zoom\"], [\"\", \"\", \"\", \"\"], [\"Download\", \"Download plot\", \"fa fa-floppy-o icon-save\", \"download\"]];\n\nmpl.extensions = [\"eps\", \"jpeg\", \"pgf\", \"pdf\", \"png\", \"ps\", \"raw\", \"svg\", \"tif\"];\n\nmpl.default_extension = \"png\";/* global mpl */\n\nvar comm_websocket_adapter = function (comm) {\n    // Create a \"websocket\"-like object which calls the given IPython comm\n    // object with the appropriate methods. Currently this is a non binary\n    // socket, so there is still some room for performance tuning.\n    var ws = {};\n\n    ws.binaryType = comm.kernel.ws.binaryType;\n    ws.readyState = comm.kernel.ws.readyState;\n    function updateReadyState(_event) {\n        if (comm.kernel.ws) {\n            ws.readyState = comm.kernel.ws.readyState;\n        } else {\n            ws.readyState = 3; // Closed state.\n        }\n    }\n    comm.kernel.ws.addEventListener('open', updateReadyState);\n    comm.kernel.ws.addEventListener('close', updateReadyState);\n    comm.kernel.ws.addEventListener('error', updateReadyState);\n\n    ws.close = function () {\n        comm.close();\n    };\n    ws.send = function (m) {\n        //console.log('sending', m);\n        comm.send(m);\n    };\n    // Register the callback with on_msg.\n    comm.on_msg(function (msg) {\n        //console.log('receiving', msg['content']['data'], msg);\n        var data = msg['content']['data'];\n        if (data['blob'] !== undefined) {\n            data = {\n                data: new Blob(msg['buffers'], { type: data['blob'] }),\n            };\n        }\n        // Pass the mpl event to the overridden (by mpl) onmessage function.\n        ws.onmessage(data);\n    });\n    return ws;\n};\n\nmpl.mpl_figure_comm = function (comm, msg) {\n    // This is the function which gets called when the mpl process\n    // starts-up an IPython Comm through the \"matplotlib\" channel.\n\n    var id = msg.content.data.id;\n    // Get hold of the div created by the display call when the Comm\n    // socket was opened in Python.\n    var element = document.getElementById(id);\n    var ws_proxy = comm_websocket_adapter(comm);\n\n    function ondownload(figure, _format) {\n        window.open(figure.canvas.toDataURL());\n    }\n\n    var fig = new mpl.figure(id, ws_proxy, ondownload, element);\n\n    // Call onopen now - mpl needs it, as it is assuming we've passed it a real\n    // web socket which is closed, not our websocket->open comm proxy.\n    ws_proxy.onopen();\n\n    fig.parent_element = element;\n    fig.cell_info = mpl.find_output_cell(\"<div id='\" + id + \"'></div>\");\n    if (!fig.cell_info) {\n        console.error('Failed to find cell for figure', id, fig);\n        return;\n    }\n    fig.cell_info[0].output_area.element.on(\n        'cleared',\n        { fig: fig },\n        fig._remove_fig_handler\n    );\n};\n\nmpl.figure.prototype.handle_close = function (fig, msg) {\n    var width = fig.canvas.width / fig.ratio;\n    fig.cell_info[0].output_area.element.off(\n        'cleared',\n        fig._remove_fig_handler\n    );\n    fig.resizeObserverInstance.unobserve(fig.canvas_div);\n\n    // Update the output cell to use the data from the current canvas.\n    fig.push_to_output();\n    var dataURL = fig.canvas.toDataURL();\n    // Re-enable the keyboard manager in IPython - without this line, in FF,\n    // the notebook keyboard shortcuts fail.\n    IPython.keyboard_manager.enable();\n    fig.parent_element.innerHTML =\n        '<img src=\"' + dataURL + '\" width=\"' + width + '\">';\n    fig.close_ws(fig, msg);\n};\n\nmpl.figure.prototype.close_ws = function (fig, msg) {\n    fig.send_message('closing', msg);\n    // fig.ws.close()\n};\n\nmpl.figure.prototype.push_to_output = function (_remove_interactive) {\n    // Turn the data on the canvas into data in the output cell.\n    var width = this.canvas.width / this.ratio;\n    var dataURL = this.canvas.toDataURL();\n    this.cell_info[1]['text/html'] =\n        '<img src=\"' + dataURL + '\" width=\"' + width + '\">';\n};\n\nmpl.figure.prototype.updated_canvas_event = function () {\n    // Tell IPython that the notebook contents must change.\n    IPython.notebook.set_dirty(true);\n    this.send_message('ack', {});\n    var fig = this;\n    // Wait a second, then push the new image to the DOM so\n    // that it is saved nicely (might be nice to debounce this).\n    setTimeout(function () {\n        fig.push_to_output();\n    }, 1000);\n};\n\nmpl.figure.prototype._init_toolbar = function () {\n    var fig = this;\n\n    var toolbar = document.createElement('div');\n    toolbar.classList = 'btn-toolbar';\n    this.root.appendChild(toolbar);\n\n    function on_click_closure(name) {\n        return function (_event) {\n            return fig.toolbar_button_onclick(name);\n        };\n    }\n\n    function on_mouseover_closure(tooltip) {\n        return function (event) {\n            if (!event.currentTarget.disabled) {\n                return fig.toolbar_button_onmouseover(tooltip);\n            }\n        };\n    }\n\n    fig.buttons = {};\n    var buttonGroup = document.createElement('div');\n    buttonGroup.classList = 'btn-group';\n    var button;\n    for (var toolbar_ind in mpl.toolbar_items) {\n        var name = mpl.toolbar_items[toolbar_ind][0];\n        var tooltip = mpl.toolbar_items[toolbar_ind][1];\n        var image = mpl.toolbar_items[toolbar_ind][2];\n        var method_name = mpl.toolbar_items[toolbar_ind][3];\n\n        if (!name) {\n            /* Instead of a spacer, we start a new button group. */\n            if (buttonGroup.hasChildNodes()) {\n                toolbar.appendChild(buttonGroup);\n            }\n            buttonGroup = document.createElement('div');\n            buttonGroup.classList = 'btn-group';\n            continue;\n        }\n\n        button = fig.buttons[name] = document.createElement('button');\n        button.classList = 'btn btn-default';\n        button.href = '#';\n        button.title = name;\n        button.innerHTML = '<i class=\"fa ' + image + ' fa-lg\"></i>';\n        button.addEventListener('click', on_click_closure(method_name));\n        button.addEventListener('mouseover', on_mouseover_closure(tooltip));\n        buttonGroup.appendChild(button);\n    }\n\n    if (buttonGroup.hasChildNodes()) {\n        toolbar.appendChild(buttonGroup);\n    }\n\n    // Add the status bar.\n    var status_bar = document.createElement('span');\n    status_bar.classList = 'mpl-message pull-right';\n    toolbar.appendChild(status_bar);\n    this.message = status_bar;\n\n    // Add the close button to the window.\n    var buttongrp = document.createElement('div');\n    buttongrp.classList = 'btn-group inline pull-right';\n    button = document.createElement('button');\n    button.classList = 'btn btn-mini btn-primary';\n    button.href = '#';\n    button.title = 'Stop Interaction';\n    button.innerHTML = '<i class=\"fa fa-power-off icon-remove icon-large\"></i>';\n    button.addEventListener('click', function (_evt) {\n        fig.handle_close(fig, {});\n    });\n    button.addEventListener(\n        'mouseover',\n        on_mouseover_closure('Stop Interaction')\n    );\n    buttongrp.appendChild(button);\n    var titlebar = this.root.querySelector('.ui-dialog-titlebar');\n    titlebar.insertBefore(buttongrp, titlebar.firstChild);\n};\n\nmpl.figure.prototype._remove_fig_handler = function (event) {\n    var fig = event.data.fig;\n    if (event.target !== this) {\n        // Ignore bubbled events from children.\n        return;\n    }\n    fig.close_ws(fig, {});\n};\n\nmpl.figure.prototype._root_extra_style = function (el) {\n    el.style.boxSizing = 'content-box'; // override notebook setting of border-box.\n};\n\nmpl.figure.prototype._canvas_extra_style = function (el) {\n    // this is important to make the div 'focusable\n    el.setAttribute('tabindex', 0);\n    // reach out to IPython and tell the keyboard manager to turn it's self\n    // off when our div gets focus\n\n    // location in version 3\n    if (IPython.notebook.keyboard_manager) {\n        IPython.notebook.keyboard_manager.register_events(el);\n    } else {\n        // location in version 2\n        IPython.keyboard_manager.register_events(el);\n    }\n};\n\nmpl.figure.prototype._key_event_extra = function (event, _name) {\n    // Check for shift+enter\n    if (event.shiftKey && event.which === 13) {\n        this.canvas_div.blur();\n        // select the cell after this one\n        var index = IPython.notebook.find_cell_index(this.cell_info[0]);\n        IPython.notebook.select(index + 1);\n    }\n};\n\nmpl.figure.prototype.handle_save = function (fig, _msg) {\n    fig.ondownload(fig, null);\n};\n\nmpl.find_output_cell = function (html_output) {\n    // Return the cell and output element which can be found *uniquely* in the notebook.\n    // Note - this is a bit hacky, but it is done because the \"notebook_saving.Notebook\"\n    // IPython event is triggered only after the cells have been serialised, which for\n    // our purposes (turning an active figure into a static one), is too late.\n    var cells = IPython.notebook.get_cells();\n    var ncells = cells.length;\n    for (var i = 0; i < ncells; i++) {\n        var cell = cells[i];\n        if (cell.cell_type === 'code') {\n            for (var j = 0; j < cell.output_area.outputs.length; j++) {\n                var data = cell.output_area.outputs[j];\n                if (data.data) {\n                    // IPython >= 3 moved mimebundle to data attribute of output\n                    data = data.data;\n                }\n                if (data['text/html'] === html_output) {\n                    return [cell, data, j];\n                }\n            }\n        }\n    }\n};\n\n// Register the function which deals with the matplotlib target/channel.\n// The kernel may be null if the page has been refreshed.\nif (IPython.notebook.kernel !== null) {\n    IPython.notebook.kernel.comm_manager.register_target(\n        'matplotlib',\n        mpl.mpl_figure_comm\n    );\n}\n",
          "text/plain": "<IPython.core.display.Javascript object>"
         },
         "metadata": {},
         "output_type": "display_data"
        },
        {
         "data": {
          "text/html": "<div id='1f19ae18-2023-47b8-b8a6-cc0fb8fe3011'></div>",
          "text/plain": "<IPython.core.display.HTML object>"
         },
         "metadata": {},
         "output_type": "display_data"
        }
       ]
      }
     },
     "62987580544141caa59ed16a368aafb8": {
      "model_module": "@jupyter-widgets/base",
      "model_module_version": "1.2.0",
      "model_name": "LayoutModel",
      "state": {}
     },
     "67864465443d4ab2807768551058f3e7": {
      "model_module": "@jupyter-widgets/controls",
      "model_module_version": "1.5.0",
      "model_name": "HTMLMathModel",
      "state": {
       "layout": "IPY_MODEL_73b1fe7a9d2c42dd87be9026e2a113ef",
       "style": "IPY_MODEL_34fd28bb5b174bc0a83b21b72b3de21e",
       "value": "<h4>The selected point $x=[3.5,1.5]$ was <span class='text-success'>correctly classified</span>. No update occures.</h4>"
      }
     },
     "694778bb1ff44b528deaba25d55acd13": {
      "model_module": "@jupyter-widgets/controls",
      "model_module_version": "1.5.0",
      "model_name": "IntSliderModel",
      "state": {
       "description": "updates",
       "layout": "IPY_MODEL_56362251867d4d10a703f57804fdb9a6",
       "max": 10,
       "style": "IPY_MODEL_2ff75aef61174c01b4a8ac5f4da9176b",
       "value": 5
      }
     },
     "6c0c0b7e9a4241e38abc0df9ef06d182": {
      "model_module": "@jupyter-widgets/controls",
      "model_module_version": "1.5.0",
      "model_name": "VBoxModel",
      "state": {
       "_dom_classes": [
        "widget-interact"
       ],
       "children": [
        "IPY_MODEL_388cd5876922457881f5ebfb3603c37b",
        "IPY_MODEL_99a6f87e62b8430b9f7c715780045828"
       ],
       "layout": "IPY_MODEL_3f1ba82074d24ef39165e8f0cfd3d2a0"
      }
     },
     "6e621b2e1a894c7fad0ff5a0107b4ab0": {
      "model_module": "@jupyter-widgets/output",
      "model_module_version": "1.0.0",
      "model_name": "OutputModel",
      "state": {
       "layout": "IPY_MODEL_468db9d6736a4c0abcb1a89fdfcb3884",
       "outputs": [
        {
         "data": {
          "application/javascript": "/* Put everything inside the global mpl namespace */\n/* global mpl */\nwindow.mpl = {};\n\nmpl.get_websocket_type = function () {\n    if (typeof WebSocket !== 'undefined') {\n        return WebSocket;\n    } else if (typeof MozWebSocket !== 'undefined') {\n        return MozWebSocket;\n    } else {\n        alert(\n            'Your browser does not have WebSocket support. ' +\n                'Please try Chrome, Safari or Firefox ≥ 6. ' +\n                'Firefox 4 and 5 are also supported but you ' +\n                'have to enable WebSockets in about:config.'\n        );\n    }\n};\n\nmpl.figure = function (figure_id, websocket, ondownload, parent_element) {\n    this.id = figure_id;\n\n    this.ws = websocket;\n\n    this.supports_binary = this.ws.binaryType !== undefined;\n\n    if (!this.supports_binary) {\n        var warnings = document.getElementById('mpl-warnings');\n        if (warnings) {\n            warnings.style.display = 'block';\n            warnings.textContent =\n                'This browser does not support binary websocket messages. ' +\n                'Performance may be slow.';\n        }\n    }\n\n    this.imageObj = new Image();\n\n    this.context = undefined;\n    this.message = undefined;\n    this.canvas = undefined;\n    this.rubberband_canvas = undefined;\n    this.rubberband_context = undefined;\n    this.format_dropdown = undefined;\n\n    this.image_mode = 'full';\n\n    this.root = document.createElement('div');\n    this.root.setAttribute('style', 'display: inline-block');\n    this._root_extra_style(this.root);\n\n    parent_element.appendChild(this.root);\n\n    this._init_header(this);\n    this._init_canvas(this);\n    this._init_toolbar(this);\n\n    var fig = this;\n\n    this.waiting = false;\n\n    this.ws.onopen = function () {\n        fig.send_message('supports_binary', { value: fig.supports_binary });\n        fig.send_message('send_image_mode', {});\n        if (fig.ratio !== 1) {\n            fig.send_message('set_device_pixel_ratio', {\n                device_pixel_ratio: fig.ratio,\n            });\n        }\n        fig.send_message('refresh', {});\n    };\n\n    this.imageObj.onload = function () {\n        if (fig.image_mode === 'full') {\n            // Full images could contain transparency (where diff images\n            // almost always do), so we need to clear the canvas so that\n            // there is no ghosting.\n            fig.context.clearRect(0, 0, fig.canvas.width, fig.canvas.height);\n        }\n        fig.context.drawImage(fig.imageObj, 0, 0);\n    };\n\n    this.imageObj.onunload = function () {\n        fig.ws.close();\n    };\n\n    this.ws.onmessage = this._make_on_message_function(this);\n\n    this.ondownload = ondownload;\n};\n\nmpl.figure.prototype._init_header = function () {\n    var titlebar = document.createElement('div');\n    titlebar.classList =\n        'ui-dialog-titlebar ui-widget-header ui-corner-all ui-helper-clearfix';\n    var titletext = document.createElement('div');\n    titletext.classList = 'ui-dialog-title';\n    titletext.setAttribute(\n        'style',\n        'width: 100%; text-align: center; padding: 3px;'\n    );\n    titlebar.appendChild(titletext);\n    this.root.appendChild(titlebar);\n    this.header = titletext;\n};\n\nmpl.figure.prototype._canvas_extra_style = function (_canvas_div) {};\n\nmpl.figure.prototype._root_extra_style = function (_canvas_div) {};\n\nmpl.figure.prototype._init_canvas = function () {\n    var fig = this;\n\n    var canvas_div = (this.canvas_div = document.createElement('div'));\n    canvas_div.setAttribute(\n        'style',\n        'border: 1px solid #ddd;' +\n            'box-sizing: content-box;' +\n            'clear: both;' +\n            'min-height: 1px;' +\n            'min-width: 1px;' +\n            'outline: 0;' +\n            'overflow: hidden;' +\n            'position: relative;' +\n            'resize: both;'\n    );\n\n    function on_keyboard_event_closure(name) {\n        return function (event) {\n            return fig.key_event(event, name);\n        };\n    }\n\n    canvas_div.addEventListener(\n        'keydown',\n        on_keyboard_event_closure('key_press')\n    );\n    canvas_div.addEventListener(\n        'keyup',\n        on_keyboard_event_closure('key_release')\n    );\n\n    this._canvas_extra_style(canvas_div);\n    this.root.appendChild(canvas_div);\n\n    var canvas = (this.canvas = document.createElement('canvas'));\n    canvas.classList.add('mpl-canvas');\n    canvas.setAttribute('style', 'box-sizing: content-box;');\n\n    this.context = canvas.getContext('2d');\n\n    var backingStore =\n        this.context.backingStorePixelRatio ||\n        this.context.webkitBackingStorePixelRatio ||\n        this.context.mozBackingStorePixelRatio ||\n        this.context.msBackingStorePixelRatio ||\n        this.context.oBackingStorePixelRatio ||\n        this.context.backingStorePixelRatio ||\n        1;\n\n    this.ratio = (window.devicePixelRatio || 1) / backingStore;\n\n    var rubberband_canvas = (this.rubberband_canvas = document.createElement(\n        'canvas'\n    ));\n    rubberband_canvas.setAttribute(\n        'style',\n        'box-sizing: content-box; position: absolute; left: 0; top: 0; z-index: 1;'\n    );\n\n    // Apply a ponyfill if ResizeObserver is not implemented by browser.\n    if (this.ResizeObserver === undefined) {\n        if (window.ResizeObserver !== undefined) {\n            this.ResizeObserver = window.ResizeObserver;\n        } else {\n            var obs = _JSXTOOLS_RESIZE_OBSERVER({});\n            this.ResizeObserver = obs.ResizeObserver;\n        }\n    }\n\n    this.resizeObserverInstance = new this.ResizeObserver(function (entries) {\n        var nentries = entries.length;\n        for (var i = 0; i < nentries; i++) {\n            var entry = entries[i];\n            var width, height;\n            if (entry.contentBoxSize) {\n                if (entry.contentBoxSize instanceof Array) {\n                    // Chrome 84 implements new version of spec.\n                    width = entry.contentBoxSize[0].inlineSize;\n                    height = entry.contentBoxSize[0].blockSize;\n                } else {\n                    // Firefox implements old version of spec.\n                    width = entry.contentBoxSize.inlineSize;\n                    height = entry.contentBoxSize.blockSize;\n                }\n            } else {\n                // Chrome <84 implements even older version of spec.\n                width = entry.contentRect.width;\n                height = entry.contentRect.height;\n            }\n\n            // Keep the size of the canvas and rubber band canvas in sync with\n            // the canvas container.\n            if (entry.devicePixelContentBoxSize) {\n                // Chrome 84 implements new version of spec.\n                canvas.setAttribute(\n                    'width',\n                    entry.devicePixelContentBoxSize[0].inlineSize\n                );\n                canvas.setAttribute(\n                    'height',\n                    entry.devicePixelContentBoxSize[0].blockSize\n                );\n            } else {\n                canvas.setAttribute('width', width * fig.ratio);\n                canvas.setAttribute('height', height * fig.ratio);\n            }\n            canvas.setAttribute(\n                'style',\n                'width: ' + width + 'px; height: ' + height + 'px;'\n            );\n\n            rubberband_canvas.setAttribute('width', width);\n            rubberband_canvas.setAttribute('height', height);\n\n            // And update the size in Python. We ignore the initial 0/0 size\n            // that occurs as the element is placed into the DOM, which should\n            // otherwise not happen due to the minimum size styling.\n            if (fig.ws.readyState == 1 && width != 0 && height != 0) {\n                fig.request_resize(width, height);\n            }\n        }\n    });\n    this.resizeObserverInstance.observe(canvas_div);\n\n    function on_mouse_event_closure(name) {\n        return function (event) {\n            return fig.mouse_event(event, name);\n        };\n    }\n\n    rubberband_canvas.addEventListener(\n        'mousedown',\n        on_mouse_event_closure('button_press')\n    );\n    rubberband_canvas.addEventListener(\n        'mouseup',\n        on_mouse_event_closure('button_release')\n    );\n    rubberband_canvas.addEventListener(\n        'dblclick',\n        on_mouse_event_closure('dblclick')\n    );\n    // Throttle sequential mouse events to 1 every 20ms.\n    rubberband_canvas.addEventListener(\n        'mousemove',\n        on_mouse_event_closure('motion_notify')\n    );\n\n    rubberband_canvas.addEventListener(\n        'mouseenter',\n        on_mouse_event_closure('figure_enter')\n    );\n    rubberband_canvas.addEventListener(\n        'mouseleave',\n        on_mouse_event_closure('figure_leave')\n    );\n\n    canvas_div.addEventListener('wheel', function (event) {\n        if (event.deltaY < 0) {\n            event.step = 1;\n        } else {\n            event.step = -1;\n        }\n        on_mouse_event_closure('scroll')(event);\n    });\n\n    canvas_div.appendChild(canvas);\n    canvas_div.appendChild(rubberband_canvas);\n\n    this.rubberband_context = rubberband_canvas.getContext('2d');\n    this.rubberband_context.strokeStyle = '#000000';\n\n    this._resize_canvas = function (width, height, forward) {\n        if (forward) {\n            canvas_div.style.width = width + 'px';\n            canvas_div.style.height = height + 'px';\n        }\n    };\n\n    // Disable right mouse context menu.\n    this.rubberband_canvas.addEventListener('contextmenu', function (_e) {\n        event.preventDefault();\n        return false;\n    });\n\n    function set_focus() {\n        canvas.focus();\n        canvas_div.focus();\n    }\n\n    window.setTimeout(set_focus, 100);\n};\n\nmpl.figure.prototype._init_toolbar = function () {\n    var fig = this;\n\n    var toolbar = document.createElement('div');\n    toolbar.classList = 'mpl-toolbar';\n    this.root.appendChild(toolbar);\n\n    function on_click_closure(name) {\n        return function (_event) {\n            return fig.toolbar_button_onclick(name);\n        };\n    }\n\n    function on_mouseover_closure(tooltip) {\n        return function (event) {\n            if (!event.currentTarget.disabled) {\n                return fig.toolbar_button_onmouseover(tooltip);\n            }\n        };\n    }\n\n    fig.buttons = {};\n    var buttonGroup = document.createElement('div');\n    buttonGroup.classList = 'mpl-button-group';\n    for (var toolbar_ind in mpl.toolbar_items) {\n        var name = mpl.toolbar_items[toolbar_ind][0];\n        var tooltip = mpl.toolbar_items[toolbar_ind][1];\n        var image = mpl.toolbar_items[toolbar_ind][2];\n        var method_name = mpl.toolbar_items[toolbar_ind][3];\n\n        if (!name) {\n            /* Instead of a spacer, we start a new button group. */\n            if (buttonGroup.hasChildNodes()) {\n                toolbar.appendChild(buttonGroup);\n            }\n            buttonGroup = document.createElement('div');\n            buttonGroup.classList = 'mpl-button-group';\n            continue;\n        }\n\n        var button = (fig.buttons[name] = document.createElement('button'));\n        button.classList = 'mpl-widget';\n        button.setAttribute('role', 'button');\n        button.setAttribute('aria-disabled', 'false');\n        button.addEventListener('click', on_click_closure(method_name));\n        button.addEventListener('mouseover', on_mouseover_closure(tooltip));\n\n        var icon_img = document.createElement('img');\n        icon_img.src = '_images/' + image + '.png';\n        icon_img.srcset = '_images/' + image + '_large.png 2x';\n        icon_img.alt = tooltip;\n        button.appendChild(icon_img);\n\n        buttonGroup.appendChild(button);\n    }\n\n    if (buttonGroup.hasChildNodes()) {\n        toolbar.appendChild(buttonGroup);\n    }\n\n    var fmt_picker = document.createElement('select');\n    fmt_picker.classList = 'mpl-widget';\n    toolbar.appendChild(fmt_picker);\n    this.format_dropdown = fmt_picker;\n\n    for (var ind in mpl.extensions) {\n        var fmt = mpl.extensions[ind];\n        var option = document.createElement('option');\n        option.selected = fmt === mpl.default_extension;\n        option.innerHTML = fmt;\n        fmt_picker.appendChild(option);\n    }\n\n    var status_bar = document.createElement('span');\n    status_bar.classList = 'mpl-message';\n    toolbar.appendChild(status_bar);\n    this.message = status_bar;\n};\n\nmpl.figure.prototype.request_resize = function (x_pixels, y_pixels) {\n    // Request matplotlib to resize the figure. Matplotlib will then trigger a resize in the client,\n    // which will in turn request a refresh of the image.\n    this.send_message('resize', { width: x_pixels, height: y_pixels });\n};\n\nmpl.figure.prototype.send_message = function (type, properties) {\n    properties['type'] = type;\n    properties['figure_id'] = this.id;\n    this.ws.send(JSON.stringify(properties));\n};\n\nmpl.figure.prototype.send_draw_message = function () {\n    if (!this.waiting) {\n        this.waiting = true;\n        this.ws.send(JSON.stringify({ type: 'draw', figure_id: this.id }));\n    }\n};\n\nmpl.figure.prototype.handle_save = function (fig, _msg) {\n    var format_dropdown = fig.format_dropdown;\n    var format = format_dropdown.options[format_dropdown.selectedIndex].value;\n    fig.ondownload(fig, format);\n};\n\nmpl.figure.prototype.handle_resize = function (fig, msg) {\n    var size = msg['size'];\n    if (size[0] !== fig.canvas.width || size[1] !== fig.canvas.height) {\n        fig._resize_canvas(size[0], size[1], msg['forward']);\n        fig.send_message('refresh', {});\n    }\n};\n\nmpl.figure.prototype.handle_rubberband = function (fig, msg) {\n    var x0 = msg['x0'] / fig.ratio;\n    var y0 = (fig.canvas.height - msg['y0']) / fig.ratio;\n    var x1 = msg['x1'] / fig.ratio;\n    var y1 = (fig.canvas.height - msg['y1']) / fig.ratio;\n    x0 = Math.floor(x0) + 0.5;\n    y0 = Math.floor(y0) + 0.5;\n    x1 = Math.floor(x1) + 0.5;\n    y1 = Math.floor(y1) + 0.5;\n    var min_x = Math.min(x0, x1);\n    var min_y = Math.min(y0, y1);\n    var width = Math.abs(x1 - x0);\n    var height = Math.abs(y1 - y0);\n\n    fig.rubberband_context.clearRect(\n        0,\n        0,\n        fig.canvas.width / fig.ratio,\n        fig.canvas.height / fig.ratio\n    );\n\n    fig.rubberband_context.strokeRect(min_x, min_y, width, height);\n};\n\nmpl.figure.prototype.handle_figure_label = function (fig, msg) {\n    // Updates the figure title.\n    fig.header.textContent = msg['label'];\n};\n\nmpl.figure.prototype.handle_cursor = function (fig, msg) {\n    fig.rubberband_canvas.style.cursor = msg['cursor'];\n};\n\nmpl.figure.prototype.handle_message = function (fig, msg) {\n    fig.message.textContent = msg['message'];\n};\n\nmpl.figure.prototype.handle_draw = function (fig, _msg) {\n    // Request the server to send over a new figure.\n    fig.send_draw_message();\n};\n\nmpl.figure.prototype.handle_image_mode = function (fig, msg) {\n    fig.image_mode = msg['mode'];\n};\n\nmpl.figure.prototype.handle_history_buttons = function (fig, msg) {\n    for (var key in msg) {\n        if (!(key in fig.buttons)) {\n            continue;\n        }\n        fig.buttons[key].disabled = !msg[key];\n        fig.buttons[key].setAttribute('aria-disabled', !msg[key]);\n    }\n};\n\nmpl.figure.prototype.handle_navigate_mode = function (fig, msg) {\n    if (msg['mode'] === 'PAN') {\n        fig.buttons['Pan'].classList.add('active');\n        fig.buttons['Zoom'].classList.remove('active');\n    } else if (msg['mode'] === 'ZOOM') {\n        fig.buttons['Pan'].classList.remove('active');\n        fig.buttons['Zoom'].classList.add('active');\n    } else {\n        fig.buttons['Pan'].classList.remove('active');\n        fig.buttons['Zoom'].classList.remove('active');\n    }\n};\n\nmpl.figure.prototype.updated_canvas_event = function () {\n    // Called whenever the canvas gets updated.\n    this.send_message('ack', {});\n};\n\n// A function to construct a web socket function for onmessage handling.\n// Called in the figure constructor.\nmpl.figure.prototype._make_on_message_function = function (fig) {\n    return function socket_on_message(evt) {\n        if (evt.data instanceof Blob) {\n            var img = evt.data;\n            if (img.type !== 'image/png') {\n                /* FIXME: We get \"Resource interpreted as Image but\n                 * transferred with MIME type text/plain:\" errors on\n                 * Chrome.  But how to set the MIME type?  It doesn't seem\n                 * to be part of the websocket stream */\n                img.type = 'image/png';\n            }\n\n            /* Free the memory for the previous frames */\n            if (fig.imageObj.src) {\n                (window.URL || window.webkitURL).revokeObjectURL(\n                    fig.imageObj.src\n                );\n            }\n\n            fig.imageObj.src = (window.URL || window.webkitURL).createObjectURL(\n                img\n            );\n            fig.updated_canvas_event();\n            fig.waiting = false;\n            return;\n        } else if (\n            typeof evt.data === 'string' &&\n            evt.data.slice(0, 21) === 'data:image/png;base64'\n        ) {\n            fig.imageObj.src = evt.data;\n            fig.updated_canvas_event();\n            fig.waiting = false;\n            return;\n        }\n\n        var msg = JSON.parse(evt.data);\n        var msg_type = msg['type'];\n\n        // Call the  \"handle_{type}\" callback, which takes\n        // the figure and JSON message as its only arguments.\n        try {\n            var callback = fig['handle_' + msg_type];\n        } catch (e) {\n            console.log(\n                \"No handler for the '\" + msg_type + \"' message type: \",\n                msg\n            );\n            return;\n        }\n\n        if (callback) {\n            try {\n                // console.log(\"Handling '\" + msg_type + \"' message: \", msg);\n                callback(fig, msg);\n            } catch (e) {\n                console.log(\n                    \"Exception inside the 'handler_\" + msg_type + \"' callback:\",\n                    e,\n                    e.stack,\n                    msg\n                );\n            }\n        }\n    };\n};\n\n// from https://stackoverflow.com/questions/1114465/getting-mouse-location-in-canvas\nmpl.findpos = function (e) {\n    //this section is from http://www.quirksmode.org/js/events_properties.html\n    var targ;\n    if (!e) {\n        e = window.event;\n    }\n    if (e.target) {\n        targ = e.target;\n    } else if (e.srcElement) {\n        targ = e.srcElement;\n    }\n    if (targ.nodeType === 3) {\n        // defeat Safari bug\n        targ = targ.parentNode;\n    }\n\n    // pageX,Y are the mouse positions relative to the document\n    var boundingRect = targ.getBoundingClientRect();\n    var x = e.pageX - (boundingRect.left + document.body.scrollLeft);\n    var y = e.pageY - (boundingRect.top + document.body.scrollTop);\n\n    return { x: x, y: y };\n};\n\n/*\n * return a copy of an object with only non-object keys\n * we need this to avoid circular references\n * https://stackoverflow.com/a/24161582/3208463\n */\nfunction simpleKeys(original) {\n    return Object.keys(original).reduce(function (obj, key) {\n        if (typeof original[key] !== 'object') {\n            obj[key] = original[key];\n        }\n        return obj;\n    }, {});\n}\n\nmpl.figure.prototype.mouse_event = function (event, name) {\n    var canvas_pos = mpl.findpos(event);\n\n    if (name === 'button_press') {\n        this.canvas.focus();\n        this.canvas_div.focus();\n    }\n\n    var x = canvas_pos.x * this.ratio;\n    var y = canvas_pos.y * this.ratio;\n\n    this.send_message(name, {\n        x: x,\n        y: y,\n        button: event.button,\n        step: event.step,\n        guiEvent: simpleKeys(event),\n    });\n\n    /* This prevents the web browser from automatically changing to\n     * the text insertion cursor when the button is pressed.  We want\n     * to control all of the cursor setting manually through the\n     * 'cursor' event from matplotlib */\n    event.preventDefault();\n    return false;\n};\n\nmpl.figure.prototype._key_event_extra = function (_event, _name) {\n    // Handle any extra behaviour associated with a key event\n};\n\nmpl.figure.prototype.key_event = function (event, name) {\n    // Prevent repeat events\n    if (name === 'key_press') {\n        if (event.key === this._key) {\n            return;\n        } else {\n            this._key = event.key;\n        }\n    }\n    if (name === 'key_release') {\n        this._key = null;\n    }\n\n    var value = '';\n    if (event.ctrlKey && event.key !== 'Control') {\n        value += 'ctrl+';\n    }\n    else if (event.altKey && event.key !== 'Alt') {\n        value += 'alt+';\n    }\n    else if (event.shiftKey && event.key !== 'Shift') {\n        value += 'shift+';\n    }\n\n    value += 'k' + event.key;\n\n    this._key_event_extra(event, name);\n\n    this.send_message(name, { key: value, guiEvent: simpleKeys(event) });\n    return false;\n};\n\nmpl.figure.prototype.toolbar_button_onclick = function (name) {\n    if (name === 'download') {\n        this.handle_save(this, null);\n    } else {\n        this.send_message('toolbar_button', { name: name });\n    }\n};\n\nmpl.figure.prototype.toolbar_button_onmouseover = function (tooltip) {\n    this.message.textContent = tooltip;\n};\n\n///////////////// REMAINING CONTENT GENERATED BY embed_js.py /////////////////\n// prettier-ignore\nvar _JSXTOOLS_RESIZE_OBSERVER=function(A){var t,i=new WeakMap,n=new WeakMap,a=new WeakMap,r=new WeakMap,o=new Set;function s(e){if(!(this instanceof s))throw new TypeError(\"Constructor requires 'new' operator\");i.set(this,e)}function h(){throw new TypeError(\"Function is not a constructor\")}function c(e,t,i,n){e=0 in arguments?Number(arguments[0]):0,t=1 in arguments?Number(arguments[1]):0,i=2 in arguments?Number(arguments[2]):0,n=3 in arguments?Number(arguments[3]):0,this.right=(this.x=this.left=e)+(this.width=i),this.bottom=(this.y=this.top=t)+(this.height=n),Object.freeze(this)}function d(){t=requestAnimationFrame(d);var s=new WeakMap,p=new Set;o.forEach((function(t){r.get(t).forEach((function(i){var r=t instanceof window.SVGElement,o=a.get(t),d=r?0:parseFloat(o.paddingTop),f=r?0:parseFloat(o.paddingRight),l=r?0:parseFloat(o.paddingBottom),u=r?0:parseFloat(o.paddingLeft),g=r?0:parseFloat(o.borderTopWidth),m=r?0:parseFloat(o.borderRightWidth),w=r?0:parseFloat(o.borderBottomWidth),b=u+f,F=d+l,v=(r?0:parseFloat(o.borderLeftWidth))+m,W=g+w,y=r?0:t.offsetHeight-W-t.clientHeight,E=r?0:t.offsetWidth-v-t.clientWidth,R=b+v,z=F+W,M=r?t.width:parseFloat(o.width)-R-E,O=r?t.height:parseFloat(o.height)-z-y;if(n.has(t)){var k=n.get(t);if(k[0]===M&&k[1]===O)return}n.set(t,[M,O]);var S=Object.create(h.prototype);S.target=t,S.contentRect=new c(u,d,M,O),s.has(i)||(s.set(i,[]),p.add(i)),s.get(i).push(S)}))})),p.forEach((function(e){i.get(e).call(e,s.get(e),e)}))}return s.prototype.observe=function(i){if(i instanceof window.Element){r.has(i)||(r.set(i,new Set),o.add(i),a.set(i,window.getComputedStyle(i)));var n=r.get(i);n.has(this)||n.add(this),cancelAnimationFrame(t),t=requestAnimationFrame(d)}},s.prototype.unobserve=function(i){if(i instanceof window.Element&&r.has(i)){var n=r.get(i);n.has(this)&&(n.delete(this),n.size||(r.delete(i),o.delete(i))),n.size||r.delete(i),o.size||cancelAnimationFrame(t)}},A.DOMRectReadOnly=c,A.ResizeObserver=s,A.ResizeObserverEntry=h,A}; // eslint-disable-line\nmpl.toolbar_items = [[\"Home\", \"Reset original view\", \"fa fa-home icon-home\", \"home\"], [\"Back\", \"Back to previous view\", \"fa fa-arrow-left icon-arrow-left\", \"back\"], [\"Forward\", \"Forward to next view\", \"fa fa-arrow-right icon-arrow-right\", \"forward\"], [\"\", \"\", \"\", \"\"], [\"Pan\", \"Left button pans, Right button zooms\\nx/y fixes axis, CTRL fixes aspect\", \"fa fa-arrows icon-move\", \"pan\"], [\"Zoom\", \"Zoom to rectangle\\nx/y fixes axis\", \"fa fa-square-o icon-check-empty\", \"zoom\"], [\"\", \"\", \"\", \"\"], [\"Download\", \"Download plot\", \"fa fa-floppy-o icon-save\", \"download\"]];\n\nmpl.extensions = [\"eps\", \"jpeg\", \"pgf\", \"pdf\", \"png\", \"ps\", \"raw\", \"svg\", \"tif\"];\n\nmpl.default_extension = \"png\";/* global mpl */\n\nvar comm_websocket_adapter = function (comm) {\n    // Create a \"websocket\"-like object which calls the given IPython comm\n    // object with the appropriate methods. Currently this is a non binary\n    // socket, so there is still some room for performance tuning.\n    var ws = {};\n\n    ws.binaryType = comm.kernel.ws.binaryType;\n    ws.readyState = comm.kernel.ws.readyState;\n    function updateReadyState(_event) {\n        if (comm.kernel.ws) {\n            ws.readyState = comm.kernel.ws.readyState;\n        } else {\n            ws.readyState = 3; // Closed state.\n        }\n    }\n    comm.kernel.ws.addEventListener('open', updateReadyState);\n    comm.kernel.ws.addEventListener('close', updateReadyState);\n    comm.kernel.ws.addEventListener('error', updateReadyState);\n\n    ws.close = function () {\n        comm.close();\n    };\n    ws.send = function (m) {\n        //console.log('sending', m);\n        comm.send(m);\n    };\n    // Register the callback with on_msg.\n    comm.on_msg(function (msg) {\n        //console.log('receiving', msg['content']['data'], msg);\n        var data = msg['content']['data'];\n        if (data['blob'] !== undefined) {\n            data = {\n                data: new Blob(msg['buffers'], { type: data['blob'] }),\n            };\n        }\n        // Pass the mpl event to the overridden (by mpl) onmessage function.\n        ws.onmessage(data);\n    });\n    return ws;\n};\n\nmpl.mpl_figure_comm = function (comm, msg) {\n    // This is the function which gets called when the mpl process\n    // starts-up an IPython Comm through the \"matplotlib\" channel.\n\n    var id = msg.content.data.id;\n    // Get hold of the div created by the display call when the Comm\n    // socket was opened in Python.\n    var element = document.getElementById(id);\n    var ws_proxy = comm_websocket_adapter(comm);\n\n    function ondownload(figure, _format) {\n        window.open(figure.canvas.toDataURL());\n    }\n\n    var fig = new mpl.figure(id, ws_proxy, ondownload, element);\n\n    // Call onopen now - mpl needs it, as it is assuming we've passed it a real\n    // web socket which is closed, not our websocket->open comm proxy.\n    ws_proxy.onopen();\n\n    fig.parent_element = element;\n    fig.cell_info = mpl.find_output_cell(\"<div id='\" + id + \"'></div>\");\n    if (!fig.cell_info) {\n        console.error('Failed to find cell for figure', id, fig);\n        return;\n    }\n    fig.cell_info[0].output_area.element.on(\n        'cleared',\n        { fig: fig },\n        fig._remove_fig_handler\n    );\n};\n\nmpl.figure.prototype.handle_close = function (fig, msg) {\n    var width = fig.canvas.width / fig.ratio;\n    fig.cell_info[0].output_area.element.off(\n        'cleared',\n        fig._remove_fig_handler\n    );\n    fig.resizeObserverInstance.unobserve(fig.canvas_div);\n\n    // Update the output cell to use the data from the current canvas.\n    fig.push_to_output();\n    var dataURL = fig.canvas.toDataURL();\n    // Re-enable the keyboard manager in IPython - without this line, in FF,\n    // the notebook keyboard shortcuts fail.\n    IPython.keyboard_manager.enable();\n    fig.parent_element.innerHTML =\n        '<img src=\"' + dataURL + '\" width=\"' + width + '\">';\n    fig.close_ws(fig, msg);\n};\n\nmpl.figure.prototype.close_ws = function (fig, msg) {\n    fig.send_message('closing', msg);\n    // fig.ws.close()\n};\n\nmpl.figure.prototype.push_to_output = function (_remove_interactive) {\n    // Turn the data on the canvas into data in the output cell.\n    var width = this.canvas.width / this.ratio;\n    var dataURL = this.canvas.toDataURL();\n    this.cell_info[1]['text/html'] =\n        '<img src=\"' + dataURL + '\" width=\"' + width + '\">';\n};\n\nmpl.figure.prototype.updated_canvas_event = function () {\n    // Tell IPython that the notebook contents must change.\n    IPython.notebook.set_dirty(true);\n    this.send_message('ack', {});\n    var fig = this;\n    // Wait a second, then push the new image to the DOM so\n    // that it is saved nicely (might be nice to debounce this).\n    setTimeout(function () {\n        fig.push_to_output();\n    }, 1000);\n};\n\nmpl.figure.prototype._init_toolbar = function () {\n    var fig = this;\n\n    var toolbar = document.createElement('div');\n    toolbar.classList = 'btn-toolbar';\n    this.root.appendChild(toolbar);\n\n    function on_click_closure(name) {\n        return function (_event) {\n            return fig.toolbar_button_onclick(name);\n        };\n    }\n\n    function on_mouseover_closure(tooltip) {\n        return function (event) {\n            if (!event.currentTarget.disabled) {\n                return fig.toolbar_button_onmouseover(tooltip);\n            }\n        };\n    }\n\n    fig.buttons = {};\n    var buttonGroup = document.createElement('div');\n    buttonGroup.classList = 'btn-group';\n    var button;\n    for (var toolbar_ind in mpl.toolbar_items) {\n        var name = mpl.toolbar_items[toolbar_ind][0];\n        var tooltip = mpl.toolbar_items[toolbar_ind][1];\n        var image = mpl.toolbar_items[toolbar_ind][2];\n        var method_name = mpl.toolbar_items[toolbar_ind][3];\n\n        if (!name) {\n            /* Instead of a spacer, we start a new button group. */\n            if (buttonGroup.hasChildNodes()) {\n                toolbar.appendChild(buttonGroup);\n            }\n            buttonGroup = document.createElement('div');\n            buttonGroup.classList = 'btn-group';\n            continue;\n        }\n\n        button = fig.buttons[name] = document.createElement('button');\n        button.classList = 'btn btn-default';\n        button.href = '#';\n        button.title = name;\n        button.innerHTML = '<i class=\"fa ' + image + ' fa-lg\"></i>';\n        button.addEventListener('click', on_click_closure(method_name));\n        button.addEventListener('mouseover', on_mouseover_closure(tooltip));\n        buttonGroup.appendChild(button);\n    }\n\n    if (buttonGroup.hasChildNodes()) {\n        toolbar.appendChild(buttonGroup);\n    }\n\n    // Add the status bar.\n    var status_bar = document.createElement('span');\n    status_bar.classList = 'mpl-message pull-right';\n    toolbar.appendChild(status_bar);\n    this.message = status_bar;\n\n    // Add the close button to the window.\n    var buttongrp = document.createElement('div');\n    buttongrp.classList = 'btn-group inline pull-right';\n    button = document.createElement('button');\n    button.classList = 'btn btn-mini btn-primary';\n    button.href = '#';\n    button.title = 'Stop Interaction';\n    button.innerHTML = '<i class=\"fa fa-power-off icon-remove icon-large\"></i>';\n    button.addEventListener('click', function (_evt) {\n        fig.handle_close(fig, {});\n    });\n    button.addEventListener(\n        'mouseover',\n        on_mouseover_closure('Stop Interaction')\n    );\n    buttongrp.appendChild(button);\n    var titlebar = this.root.querySelector('.ui-dialog-titlebar');\n    titlebar.insertBefore(buttongrp, titlebar.firstChild);\n};\n\nmpl.figure.prototype._remove_fig_handler = function (event) {\n    var fig = event.data.fig;\n    if (event.target !== this) {\n        // Ignore bubbled events from children.\n        return;\n    }\n    fig.close_ws(fig, {});\n};\n\nmpl.figure.prototype._root_extra_style = function (el) {\n    el.style.boxSizing = 'content-box'; // override notebook setting of border-box.\n};\n\nmpl.figure.prototype._canvas_extra_style = function (el) {\n    // this is important to make the div 'focusable\n    el.setAttribute('tabindex', 0);\n    // reach out to IPython and tell the keyboard manager to turn it's self\n    // off when our div gets focus\n\n    // location in version 3\n    if (IPython.notebook.keyboard_manager) {\n        IPython.notebook.keyboard_manager.register_events(el);\n    } else {\n        // location in version 2\n        IPython.keyboard_manager.register_events(el);\n    }\n};\n\nmpl.figure.prototype._key_event_extra = function (event, _name) {\n    // Check for shift+enter\n    if (event.shiftKey && event.which === 13) {\n        this.canvas_div.blur();\n        // select the cell after this one\n        var index = IPython.notebook.find_cell_index(this.cell_info[0]);\n        IPython.notebook.select(index + 1);\n    }\n};\n\nmpl.figure.prototype.handle_save = function (fig, _msg) {\n    fig.ondownload(fig, null);\n};\n\nmpl.find_output_cell = function (html_output) {\n    // Return the cell and output element which can be found *uniquely* in the notebook.\n    // Note - this is a bit hacky, but it is done because the \"notebook_saving.Notebook\"\n    // IPython event is triggered only after the cells have been serialised, which for\n    // our purposes (turning an active figure into a static one), is too late.\n    var cells = IPython.notebook.get_cells();\n    var ncells = cells.length;\n    for (var i = 0; i < ncells; i++) {\n        var cell = cells[i];\n        if (cell.cell_type === 'code') {\n            for (var j = 0; j < cell.output_area.outputs.length; j++) {\n                var data = cell.output_area.outputs[j];\n                if (data.data) {\n                    // IPython >= 3 moved mimebundle to data attribute of output\n                    data = data.data;\n                }\n                if (data['text/html'] === html_output) {\n                    return [cell, data, j];\n                }\n            }\n        }\n    }\n};\n\n// Register the function which deals with the matplotlib target/channel.\n// The kernel may be null if the page has been refreshed.\nif (IPython.notebook.kernel !== null) {\n    IPython.notebook.kernel.comm_manager.register_target(\n        'matplotlib',\n        mpl.mpl_figure_comm\n    );\n}\n",
          "text/plain": "<IPython.core.display.Javascript object>"
         },
         "metadata": {},
         "output_type": "display_data"
        },
        {
         "data": {
          "text/html": "<div id='ac1a8fb7-9a5e-4c19-8a10-9bafc3a36a9c'></div>",
          "text/plain": "<IPython.core.display.HTML object>"
         },
         "metadata": {},
         "output_type": "display_data"
        }
       ]
      }
     },
     "707c454e2e8948109a3b586fe0ebd3c3": {
      "model_module": "@jupyter-widgets/base",
      "model_module_version": "1.2.0",
      "model_name": "LayoutModel",
      "state": {}
     },
     "73661fc98b8d444c83a549b1fa9c9c3c": {
      "model_module": "@jupyter-widgets/base",
      "model_module_version": "1.2.0",
      "model_name": "LayoutModel",
      "state": {}
     },
     "73b1fe7a9d2c42dd87be9026e2a113ef": {
      "model_module": "@jupyter-widgets/base",
      "model_module_version": "1.2.0",
      "model_name": "LayoutModel",
      "state": {}
     },
     "744394ad34504a7ca0fcedfeeee88834": {
      "model_module": "@jupyter-widgets/controls",
      "model_module_version": "1.5.0",
      "model_name": "HTMLMathModel",
      "state": {
       "layout": "IPY_MODEL_b4a058c036784e909898194deda7996e",
       "style": "IPY_MODEL_ba126adc6c844f0093bdc63948806688",
       "value": "<h4>The selected point $x=[0.0,3.5]$ was <span class='text-success'>correctly classified</span>. No update occures.</h4>"
      }
     },
     "744c10ef09094e919204fdb4f94c4ca5": {
      "model_module": "@jupyter-widgets/controls",
      "model_module_version": "1.5.0",
      "model_name": "DescriptionStyleModel",
      "state": {
       "description_width": ""
      }
     },
     "750bd4e4d6d04e8b941e55e51bab948f": {
      "model_module": "@jupyter-widgets/controls",
      "model_module_version": "1.5.0",
      "model_name": "VBoxModel",
      "state": {
       "_dom_classes": [
        "widget-interact"
       ],
       "children": [
        "IPY_MODEL_113377a4c98a4e998e21e165825a4a40",
        "IPY_MODEL_0e797141d9a1402fb127904b8f5bfb33",
        "IPY_MODEL_b8e15f0c8ea448f0aee8722e2e3d88ef"
       ],
       "layout": "IPY_MODEL_50b0e76c674441f88da2e2dc72894c2e"
      }
     },
     "755b5f63557f42d7a80df18b82c58026": {
      "model_module": "@jupyter-widgets/base",
      "model_module_version": "1.2.0",
      "model_name": "LayoutModel",
      "state": {}
     },
     "7628192ce0554f42921c2ccea9e9bd10": {
      "model_module": "@jupyter-widgets/controls",
      "model_module_version": "1.5.0",
      "model_name": "HTMLMathModel",
      "state": {
       "layout": "IPY_MODEL_95aba1be741f471ba85fed54ae37ae3c",
       "style": "IPY_MODEL_b3b6032e233d4d0d85c319b72881a8e1",
       "value": "<h4>The selected point $x=[0.5,-4.0]$ was <span class='text-success'>correctly classified</span>. No update occures.</h4>"
      }
     },
     "78a5c28ccf4e438e827aa702d9f9554a": {
      "model_module": "@jupyter-widgets/controls",
      "model_module_version": "1.5.0",
      "model_name": "HTMLMathModel",
      "state": {
       "layout": "IPY_MODEL_e9c34f1b4e9047358fe8fe357fded0db",
       "style": "IPY_MODEL_b3ebc0e45d684b5aa188f72e560278ea",
       "value": "<h4>The selected point $x=[-3.5,1.0]$ was <span class='text-success'>correctly classified</span>. No update occures.</h4>"
      }
     },
     "79f265acd5d1497a9e197307117da0e1": {
      "model_module": "@jupyter-widgets/output",
      "model_module_version": "1.0.0",
      "model_name": "OutputModel",
      "state": {
       "layout": "IPY_MODEL_1ee1c441642147a488faf5b906c426c9",
       "outputs": [
        {
         "ename": "ValueError",
         "evalue": "s must be a scalar, or float array-like with the same size as x and y",
         "output_type": "error",
         "traceback": [
          "\u001b[0;31m---------------------------------------------------------------------------\u001b[0m",
          "\u001b[0;31mValueError\u001b[0m                                Traceback (most recent call last)",
          "File \u001b[0;32m/opt/conda/lib/python3.9/site-packages/ipywidgets/widgets/interaction.py:257\u001b[0m, in \u001b[0;36minteractive.update\u001b[0;34m(self, *args)\u001b[0m\n\u001b[1;32m    255\u001b[0m     value \u001b[38;5;241m=\u001b[39m widget\u001b[38;5;241m.\u001b[39mget_interact_value()\n\u001b[1;32m    256\u001b[0m     \u001b[38;5;28mself\u001b[39m\u001b[38;5;241m.\u001b[39mkwargs[widget\u001b[38;5;241m.\u001b[39m_kwarg] \u001b[38;5;241m=\u001b[39m value\n\u001b[0;32m--> 257\u001b[0m \u001b[38;5;28mself\u001b[39m\u001b[38;5;241m.\u001b[39mresult \u001b[38;5;241m=\u001b[39m \u001b[38;5;28;43mself\u001b[39;49m\u001b[38;5;241;43m.\u001b[39;49m\u001b[43mf\u001b[49m\u001b[43m(\u001b[49m\u001b[38;5;241;43m*\u001b[39;49m\u001b[38;5;241;43m*\u001b[39;49m\u001b[38;5;28;43mself\u001b[39;49m\u001b[38;5;241;43m.\u001b[39;49m\u001b[43mkwargs\u001b[49m\u001b[43m)\u001b[49m\n\u001b[1;32m    258\u001b[0m show_inline_matplotlib_plots()\n\u001b[1;32m    259\u001b[0m \u001b[38;5;28;01mif\u001b[39;00m \u001b[38;5;28mself\u001b[39m\u001b[38;5;241m.\u001b[39mauto_display \u001b[38;5;129;01mand\u001b[39;00m \u001b[38;5;28mself\u001b[39m\u001b[38;5;241m.\u001b[39mresult \u001b[38;5;129;01mis\u001b[39;00m \u001b[38;5;129;01mnot\u001b[39;00m \u001b[38;5;28;01mNone\u001b[39;00m:\n",
          "File \u001b[0;32m/tmp/ipykernel_40/2827455564.py:15\u001b[0m, in \u001b[0;36mguiPerceptron.<locals>.f\u001b[0;34m(updates)\u001b[0m\n\u001b[1;32m     13\u001b[0m plt\u001b[38;5;241m.\u001b[39maxhline(\u001b[38;5;241m0\u001b[39m, color\u001b[38;5;241m=\u001b[39m\u001b[38;5;124m\"\u001b[39m\u001b[38;5;124mgray\u001b[39m\u001b[38;5;124m\"\u001b[39m, linewidth\u001b[38;5;241m=\u001b[39m\u001b[38;5;241m.5\u001b[39m)\n\u001b[1;32m     14\u001b[0m plt\u001b[38;5;241m.\u001b[39maxvline(\u001b[38;5;241m0\u001b[39m, color\u001b[38;5;241m=\u001b[39m\u001b[38;5;124m'\u001b[39m\u001b[38;5;124mgray\u001b[39m\u001b[38;5;124m'\u001b[39m, linewidth\u001b[38;5;241m=\u001b[39m\u001b[38;5;241m.5\u001b[39m)\n\u001b[0;32m---> 15\u001b[0m \u001b[43mplt\u001b[49m\u001b[38;5;241;43m.\u001b[39;49m\u001b[43mscatter\u001b[49m\u001b[43m(\u001b[49m\u001b[43m \u001b[49m\u001b[43mx\u001b[49m\u001b[43m[\u001b[49m\u001b[43m:\u001b[49m\u001b[43m,\u001b[49m\u001b[38;5;241;43m0\u001b[39;49m\u001b[43m]\u001b[49m\u001b[43m,\u001b[49m\u001b[43m \u001b[49m\u001b[43mx\u001b[49m\u001b[43m[\u001b[49m\u001b[43m:\u001b[49m\u001b[43m,\u001b[49m\u001b[38;5;241;43m1\u001b[39;49m\u001b[43m]\u001b[49m\u001b[43m,\u001b[49m\u001b[43m \u001b[49m\u001b[43mc\u001b[49m\u001b[38;5;241;43m=\u001b[39;49m\u001b[43my\u001b[49m\u001b[43m,\u001b[49m\u001b[43m \u001b[49m\u001b[43mcmap\u001b[49m\u001b[38;5;241;43m=\u001b[39;49m\u001b[38;5;124;43m\"\u001b[39;49m\u001b[38;5;124;43mbwr\u001b[39;49m\u001b[38;5;124;43m\"\u001b[39;49m\u001b[43m)\u001b[49m         \u001b[38;5;66;03m# Create scatter plot of data\u001b[39;00m\n\u001b[1;32m     16\u001b[0m plt\u001b[38;5;241m.\u001b[39mlegend( [Patch(\u001b[38;5;124m\"\u001b[39m\u001b[38;5;124mb\u001b[39m\u001b[38;5;124m\"\u001b[39m,\u001b[38;5;124m\"\u001b[39m\u001b[38;5;124mb\u001b[39m\u001b[38;5;124m\"\u001b[39m),Patch(\u001b[38;5;124m\"\u001b[39m\u001b[38;5;124mr\u001b[39m\u001b[38;5;124m\"\u001b[39m,\u001b[38;5;124m\"\u001b[39m\u001b[38;5;124mr\u001b[39m\u001b[38;5;124m\"\u001b[39m)], [\u001b[38;5;124m\"\u001b[39m\u001b[38;5;124m$-1$\u001b[39m\u001b[38;5;124m\"\u001b[39m,\u001b[38;5;124m\"\u001b[39m\u001b[38;5;124m$1$\u001b[39m\u001b[38;5;124m\"\u001b[39m], loc\u001b[38;5;241m=\u001b[39m\u001b[38;5;124m\"\u001b[39m\u001b[38;5;124mlower right\u001b[39m\u001b[38;5;124m\"\u001b[39m)       \u001b[38;5;66;03m# Add legend\u001b[39;00m\n\u001b[1;32m     17\u001b[0m plt\u001b[38;5;241m.\u001b[39maxis([\u001b[38;5;241m-\u001b[39m\u001b[38;5;241m5\u001b[39m, \u001b[38;5;241m5\u001b[39m, \u001b[38;5;241m-\u001b[39m\u001b[38;5;241m5\u001b[39m, \u001b[38;5;241m5\u001b[39m])                             \u001b[38;5;66;03m# Set x and y axis\u001b[39;00m\n",
          "File \u001b[0;32m/opt/conda/lib/python3.9/site-packages/matplotlib/pyplot.py:2807\u001b[0m, in \u001b[0;36mscatter\u001b[0;34m(x, y, s, c, marker, cmap, norm, vmin, vmax, alpha, linewidths, edgecolors, plotnonfinite, data, **kwargs)\u001b[0m\n\u001b[1;32m   2802\u001b[0m \u001b[38;5;129m@_copy_docstring_and_deprecators\u001b[39m(Axes\u001b[38;5;241m.\u001b[39mscatter)\n\u001b[1;32m   2803\u001b[0m \u001b[38;5;28;01mdef\u001b[39;00m \u001b[38;5;21mscatter\u001b[39m(\n\u001b[1;32m   2804\u001b[0m         x, y, s\u001b[38;5;241m=\u001b[39m\u001b[38;5;28;01mNone\u001b[39;00m, c\u001b[38;5;241m=\u001b[39m\u001b[38;5;28;01mNone\u001b[39;00m, marker\u001b[38;5;241m=\u001b[39m\u001b[38;5;28;01mNone\u001b[39;00m, cmap\u001b[38;5;241m=\u001b[39m\u001b[38;5;28;01mNone\u001b[39;00m, norm\u001b[38;5;241m=\u001b[39m\u001b[38;5;28;01mNone\u001b[39;00m,\n\u001b[1;32m   2805\u001b[0m         vmin\u001b[38;5;241m=\u001b[39m\u001b[38;5;28;01mNone\u001b[39;00m, vmax\u001b[38;5;241m=\u001b[39m\u001b[38;5;28;01mNone\u001b[39;00m, alpha\u001b[38;5;241m=\u001b[39m\u001b[38;5;28;01mNone\u001b[39;00m, linewidths\u001b[38;5;241m=\u001b[39m\u001b[38;5;28;01mNone\u001b[39;00m, \u001b[38;5;241m*\u001b[39m,\n\u001b[1;32m   2806\u001b[0m         edgecolors\u001b[38;5;241m=\u001b[39m\u001b[38;5;28;01mNone\u001b[39;00m, plotnonfinite\u001b[38;5;241m=\u001b[39m\u001b[38;5;28;01mFalse\u001b[39;00m, data\u001b[38;5;241m=\u001b[39m\u001b[38;5;28;01mNone\u001b[39;00m, \u001b[38;5;241m*\u001b[39m\u001b[38;5;241m*\u001b[39mkwargs):\n\u001b[0;32m-> 2807\u001b[0m     __ret \u001b[38;5;241m=\u001b[39m \u001b[43mgca\u001b[49m\u001b[43m(\u001b[49m\u001b[43m)\u001b[49m\u001b[38;5;241;43m.\u001b[39;49m\u001b[43mscatter\u001b[49m\u001b[43m(\u001b[49m\n\u001b[1;32m   2808\u001b[0m \u001b[43m        \u001b[49m\u001b[43mx\u001b[49m\u001b[43m,\u001b[49m\u001b[43m \u001b[49m\u001b[43my\u001b[49m\u001b[43m,\u001b[49m\u001b[43m \u001b[49m\u001b[43ms\u001b[49m\u001b[38;5;241;43m=\u001b[39;49m\u001b[43ms\u001b[49m\u001b[43m,\u001b[49m\u001b[43m \u001b[49m\u001b[43mc\u001b[49m\u001b[38;5;241;43m=\u001b[39;49m\u001b[43mc\u001b[49m\u001b[43m,\u001b[49m\u001b[43m \u001b[49m\u001b[43mmarker\u001b[49m\u001b[38;5;241;43m=\u001b[39;49m\u001b[43mmarker\u001b[49m\u001b[43m,\u001b[49m\u001b[43m \u001b[49m\u001b[43mcmap\u001b[49m\u001b[38;5;241;43m=\u001b[39;49m\u001b[43mcmap\u001b[49m\u001b[43m,\u001b[49m\u001b[43m \u001b[49m\u001b[43mnorm\u001b[49m\u001b[38;5;241;43m=\u001b[39;49m\u001b[43mnorm\u001b[49m\u001b[43m,\u001b[49m\n\u001b[1;32m   2809\u001b[0m \u001b[43m        \u001b[49m\u001b[43mvmin\u001b[49m\u001b[38;5;241;43m=\u001b[39;49m\u001b[43mvmin\u001b[49m\u001b[43m,\u001b[49m\u001b[43m \u001b[49m\u001b[43mvmax\u001b[49m\u001b[38;5;241;43m=\u001b[39;49m\u001b[43mvmax\u001b[49m\u001b[43m,\u001b[49m\u001b[43m \u001b[49m\u001b[43malpha\u001b[49m\u001b[38;5;241;43m=\u001b[39;49m\u001b[43malpha\u001b[49m\u001b[43m,\u001b[49m\u001b[43m \u001b[49m\u001b[43mlinewidths\u001b[49m\u001b[38;5;241;43m=\u001b[39;49m\u001b[43mlinewidths\u001b[49m\u001b[43m,\u001b[49m\n\u001b[1;32m   2810\u001b[0m \u001b[43m        \u001b[49m\u001b[43medgecolors\u001b[49m\u001b[38;5;241;43m=\u001b[39;49m\u001b[43medgecolors\u001b[49m\u001b[43m,\u001b[49m\u001b[43m \u001b[49m\u001b[43mplotnonfinite\u001b[49m\u001b[38;5;241;43m=\u001b[39;49m\u001b[43mplotnonfinite\u001b[49m\u001b[43m,\u001b[49m\n\u001b[1;32m   2811\u001b[0m \u001b[43m        \u001b[49m\u001b[38;5;241;43m*\u001b[39;49m\u001b[38;5;241;43m*\u001b[39;49m\u001b[43m(\u001b[49m\u001b[43m{\u001b[49m\u001b[38;5;124;43m\"\u001b[39;49m\u001b[38;5;124;43mdata\u001b[39;49m\u001b[38;5;124;43m\"\u001b[39;49m\u001b[43m:\u001b[49m\u001b[43m \u001b[49m\u001b[43mdata\u001b[49m\u001b[43m}\u001b[49m\u001b[43m \u001b[49m\u001b[38;5;28;43;01mif\u001b[39;49;00m\u001b[43m \u001b[49m\u001b[43mdata\u001b[49m\u001b[43m \u001b[49m\u001b[38;5;129;43;01mis\u001b[39;49;00m\u001b[43m \u001b[49m\u001b[38;5;129;43;01mnot\u001b[39;49;00m\u001b[43m \u001b[49m\u001b[38;5;28;43;01mNone\u001b[39;49;00m\u001b[43m \u001b[49m\u001b[38;5;28;43;01melse\u001b[39;49;00m\u001b[43m \u001b[49m\u001b[43m{\u001b[49m\u001b[43m}\u001b[49m\u001b[43m)\u001b[49m\u001b[43m,\u001b[49m\u001b[43m \u001b[49m\u001b[38;5;241;43m*\u001b[39;49m\u001b[38;5;241;43m*\u001b[39;49m\u001b[43mkwargs\u001b[49m\u001b[43m)\u001b[49m\n\u001b[1;32m   2812\u001b[0m     sci(__ret)\n\u001b[1;32m   2813\u001b[0m     \u001b[38;5;28;01mreturn\u001b[39;00m __ret\n",
          "File \u001b[0;32m/opt/conda/lib/python3.9/site-packages/matplotlib/__init__.py:1412\u001b[0m, in \u001b[0;36m_preprocess_data.<locals>.inner\u001b[0;34m(ax, data, *args, **kwargs)\u001b[0m\n\u001b[1;32m   1409\u001b[0m \u001b[38;5;129m@functools\u001b[39m\u001b[38;5;241m.\u001b[39mwraps(func)\n\u001b[1;32m   1410\u001b[0m \u001b[38;5;28;01mdef\u001b[39;00m \u001b[38;5;21minner\u001b[39m(ax, \u001b[38;5;241m*\u001b[39margs, data\u001b[38;5;241m=\u001b[39m\u001b[38;5;28;01mNone\u001b[39;00m, \u001b[38;5;241m*\u001b[39m\u001b[38;5;241m*\u001b[39mkwargs):\n\u001b[1;32m   1411\u001b[0m     \u001b[38;5;28;01mif\u001b[39;00m data \u001b[38;5;129;01mis\u001b[39;00m \u001b[38;5;28;01mNone\u001b[39;00m:\n\u001b[0;32m-> 1412\u001b[0m         \u001b[38;5;28;01mreturn\u001b[39;00m \u001b[43mfunc\u001b[49m\u001b[43m(\u001b[49m\u001b[43max\u001b[49m\u001b[43m,\u001b[49m\u001b[43m \u001b[49m\u001b[38;5;241;43m*\u001b[39;49m\u001b[38;5;28;43mmap\u001b[39;49m\u001b[43m(\u001b[49m\u001b[43msanitize_sequence\u001b[49m\u001b[43m,\u001b[49m\u001b[43m \u001b[49m\u001b[43margs\u001b[49m\u001b[43m)\u001b[49m\u001b[43m,\u001b[49m\u001b[43m \u001b[49m\u001b[38;5;241;43m*\u001b[39;49m\u001b[38;5;241;43m*\u001b[39;49m\u001b[43mkwargs\u001b[49m\u001b[43m)\u001b[49m\n\u001b[1;32m   1414\u001b[0m     bound \u001b[38;5;241m=\u001b[39m new_sig\u001b[38;5;241m.\u001b[39mbind(ax, \u001b[38;5;241m*\u001b[39margs, \u001b[38;5;241m*\u001b[39m\u001b[38;5;241m*\u001b[39mkwargs)\n\u001b[1;32m   1415\u001b[0m     auto_label \u001b[38;5;241m=\u001b[39m (bound\u001b[38;5;241m.\u001b[39marguments\u001b[38;5;241m.\u001b[39mget(label_namer)\n\u001b[1;32m   1416\u001b[0m                   \u001b[38;5;129;01mor\u001b[39;00m bound\u001b[38;5;241m.\u001b[39mkwargs\u001b[38;5;241m.\u001b[39mget(label_namer))\n",
          "File \u001b[0;32m/opt/conda/lib/python3.9/site-packages/mpl_toolkits/mplot3d/axes3d.py:2389\u001b[0m, in \u001b[0;36mAxes3D.scatter\u001b[0;34m(self, xs, ys, zs, zdir, s, c, depthshade, *args, **kwargs)\u001b[0m\n\u001b[1;32m   2386\u001b[0m \u001b[38;5;28;01mif\u001b[39;00m np\u001b[38;5;241m.\u001b[39mmay_share_memory(zs_orig, zs):  \u001b[38;5;66;03m# Avoid unnecessary copies.\u001b[39;00m\n\u001b[1;32m   2387\u001b[0m     zs \u001b[38;5;241m=\u001b[39m zs\u001b[38;5;241m.\u001b[39mcopy()\n\u001b[0;32m-> 2389\u001b[0m patches \u001b[38;5;241m=\u001b[39m \u001b[38;5;28;43msuper\u001b[39;49m\u001b[43m(\u001b[49m\u001b[43m)\u001b[49m\u001b[38;5;241;43m.\u001b[39;49m\u001b[43mscatter\u001b[49m\u001b[43m(\u001b[49m\u001b[43mxs\u001b[49m\u001b[43m,\u001b[49m\u001b[43m \u001b[49m\u001b[43mys\u001b[49m\u001b[43m,\u001b[49m\u001b[43m \u001b[49m\u001b[43ms\u001b[49m\u001b[38;5;241;43m=\u001b[39;49m\u001b[43ms\u001b[49m\u001b[43m,\u001b[49m\u001b[43m \u001b[49m\u001b[43mc\u001b[49m\u001b[38;5;241;43m=\u001b[39;49m\u001b[43mc\u001b[49m\u001b[43m,\u001b[49m\u001b[43m \u001b[49m\u001b[38;5;241;43m*\u001b[39;49m\u001b[43margs\u001b[49m\u001b[43m,\u001b[49m\u001b[43m \u001b[49m\u001b[38;5;241;43m*\u001b[39;49m\u001b[38;5;241;43m*\u001b[39;49m\u001b[43mkwargs\u001b[49m\u001b[43m)\u001b[49m\n\u001b[1;32m   2390\u001b[0m art3d\u001b[38;5;241m.\u001b[39mpatch_collection_2d_to_3d(patches, zs\u001b[38;5;241m=\u001b[39mzs, zdir\u001b[38;5;241m=\u001b[39mzdir,\n\u001b[1;32m   2391\u001b[0m                                 depthshade\u001b[38;5;241m=\u001b[39mdepthshade)\n\u001b[1;32m   2393\u001b[0m \u001b[38;5;28;01mif\u001b[39;00m \u001b[38;5;28mself\u001b[39m\u001b[38;5;241m.\u001b[39m_zmargin \u001b[38;5;241m<\u001b[39m \u001b[38;5;241m0.05\u001b[39m \u001b[38;5;129;01mand\u001b[39;00m xs\u001b[38;5;241m.\u001b[39msize \u001b[38;5;241m>\u001b[39m \u001b[38;5;241m0\u001b[39m:\n",
          "File \u001b[0;32m/opt/conda/lib/python3.9/site-packages/matplotlib/__init__.py:1412\u001b[0m, in \u001b[0;36m_preprocess_data.<locals>.inner\u001b[0;34m(ax, data, *args, **kwargs)\u001b[0m\n\u001b[1;32m   1409\u001b[0m \u001b[38;5;129m@functools\u001b[39m\u001b[38;5;241m.\u001b[39mwraps(func)\n\u001b[1;32m   1410\u001b[0m \u001b[38;5;28;01mdef\u001b[39;00m \u001b[38;5;21minner\u001b[39m(ax, \u001b[38;5;241m*\u001b[39margs, data\u001b[38;5;241m=\u001b[39m\u001b[38;5;28;01mNone\u001b[39;00m, \u001b[38;5;241m*\u001b[39m\u001b[38;5;241m*\u001b[39mkwargs):\n\u001b[1;32m   1411\u001b[0m     \u001b[38;5;28;01mif\u001b[39;00m data \u001b[38;5;129;01mis\u001b[39;00m \u001b[38;5;28;01mNone\u001b[39;00m:\n\u001b[0;32m-> 1412\u001b[0m         \u001b[38;5;28;01mreturn\u001b[39;00m \u001b[43mfunc\u001b[49m\u001b[43m(\u001b[49m\u001b[43max\u001b[49m\u001b[43m,\u001b[49m\u001b[43m \u001b[49m\u001b[38;5;241;43m*\u001b[39;49m\u001b[38;5;28;43mmap\u001b[39;49m\u001b[43m(\u001b[49m\u001b[43msanitize_sequence\u001b[49m\u001b[43m,\u001b[49m\u001b[43m \u001b[49m\u001b[43margs\u001b[49m\u001b[43m)\u001b[49m\u001b[43m,\u001b[49m\u001b[43m \u001b[49m\u001b[38;5;241;43m*\u001b[39;49m\u001b[38;5;241;43m*\u001b[39;49m\u001b[43mkwargs\u001b[49m\u001b[43m)\u001b[49m\n\u001b[1;32m   1414\u001b[0m     bound \u001b[38;5;241m=\u001b[39m new_sig\u001b[38;5;241m.\u001b[39mbind(ax, \u001b[38;5;241m*\u001b[39margs, \u001b[38;5;241m*\u001b[39m\u001b[38;5;241m*\u001b[39mkwargs)\n\u001b[1;32m   1415\u001b[0m     auto_label \u001b[38;5;241m=\u001b[39m (bound\u001b[38;5;241m.\u001b[39marguments\u001b[38;5;241m.\u001b[39mget(label_namer)\n\u001b[1;32m   1416\u001b[0m                   \u001b[38;5;129;01mor\u001b[39;00m bound\u001b[38;5;241m.\u001b[39mkwargs\u001b[38;5;241m.\u001b[39mget(label_namer))\n",
          "File \u001b[0;32m/opt/conda/lib/python3.9/site-packages/matplotlib/axes/_axes.py:4378\u001b[0m, in \u001b[0;36mAxes.scatter\u001b[0;34m(self, x, y, s, c, marker, cmap, norm, vmin, vmax, alpha, linewidths, edgecolors, plotnonfinite, **kwargs)\u001b[0m\n\u001b[1;32m   4374\u001b[0m s \u001b[38;5;241m=\u001b[39m np\u001b[38;5;241m.\u001b[39mma\u001b[38;5;241m.\u001b[39mravel(s)\n\u001b[1;32m   4375\u001b[0m \u001b[38;5;28;01mif\u001b[39;00m (\u001b[38;5;28mlen\u001b[39m(s) \u001b[38;5;129;01mnot\u001b[39;00m \u001b[38;5;129;01min\u001b[39;00m (\u001b[38;5;241m1\u001b[39m, x\u001b[38;5;241m.\u001b[39msize) \u001b[38;5;129;01mor\u001b[39;00m\n\u001b[1;32m   4376\u001b[0m         (\u001b[38;5;129;01mnot\u001b[39;00m np\u001b[38;5;241m.\u001b[39missubdtype(s\u001b[38;5;241m.\u001b[39mdtype, np\u001b[38;5;241m.\u001b[39mfloating) \u001b[38;5;129;01mand\u001b[39;00m\n\u001b[1;32m   4377\u001b[0m          \u001b[38;5;129;01mnot\u001b[39;00m np\u001b[38;5;241m.\u001b[39missubdtype(s\u001b[38;5;241m.\u001b[39mdtype, np\u001b[38;5;241m.\u001b[39minteger))):\n\u001b[0;32m-> 4378\u001b[0m     \u001b[38;5;28;01mraise\u001b[39;00m \u001b[38;5;167;01mValueError\u001b[39;00m(\n\u001b[1;32m   4379\u001b[0m         \u001b[38;5;124m\"\u001b[39m\u001b[38;5;124ms must be a scalar, \u001b[39m\u001b[38;5;124m\"\u001b[39m\n\u001b[1;32m   4380\u001b[0m         \u001b[38;5;124m\"\u001b[39m\u001b[38;5;124mor float array-like with the same size as x and y\u001b[39m\u001b[38;5;124m\"\u001b[39m)\n\u001b[1;32m   4382\u001b[0m \u001b[38;5;66;03m# get the original edgecolor the user passed before we normalize\u001b[39;00m\n\u001b[1;32m   4383\u001b[0m orig_edgecolor \u001b[38;5;241m=\u001b[39m edgecolors\n",
          "\u001b[0;31mValueError\u001b[0m: s must be a scalar, or float array-like with the same size as x and y"
         ]
        }
       ]
      }
     },
     "7a27e27cd3384a37935968a11ec943b8": {
      "model_module": "@jupyter-widgets/base",
      "model_module_version": "1.2.0",
      "model_name": "LayoutModel",
      "state": {}
     },
     "7a32776bc0e246a2804931c527e1e061": {
      "model_module": "@jupyter-widgets/base",
      "model_module_version": "1.2.0",
      "model_name": "LayoutModel",
      "state": {}
     },
     "7ca44266398542b3988190954bbecf76": {
      "model_module": "@jupyter-widgets/base",
      "model_module_version": "1.2.0",
      "model_name": "LayoutModel",
      "state": {}
     },
     "7e83172be0d843239e89e9ef587547f8": {
      "model_module": "@jupyter-widgets/controls",
      "model_module_version": "1.5.0",
      "model_name": "VBoxModel",
      "state": {
       "_dom_classes": [
        "widget-interact"
       ],
       "children": [
        "IPY_MODEL_8479d5519c234daebd86f7b101c9a515",
        "IPY_MODEL_b264bdb07dc54080960dbcd2a23b5e2a"
       ],
       "layout": "IPY_MODEL_33edfa0ed2c247148cb7e8076848354f"
      }
     },
     "805f355de44b4890bcbf87e1659d1abe": {
      "model_module": "@jupyter-widgets/controls",
      "model_module_version": "1.5.0",
      "model_name": "VBoxModel",
      "state": {
       "_dom_classes": [
        "widget-interact"
       ],
       "children": [
        "IPY_MODEL_d3e6f01a73d54bf99fd5e84756210813",
        "IPY_MODEL_55a595eccd264477800c2bb25924317f"
       ],
       "layout": "IPY_MODEL_0b3a35d5e946482d8703910ea8f116f9"
      }
     },
     "811019e29d2a4fb6982b3c19751260d8": {
      "model_module": "@jupyter-widgets/controls",
      "model_module_version": "1.5.0",
      "model_name": "DescriptionStyleModel",
      "state": {
       "description_width": ""
      }
     },
     "81e060ba18d14b8a9b5d4d197e88ddd5": {
      "model_module": "@jupyter-widgets/base",
      "model_module_version": "1.2.0",
      "model_name": "LayoutModel",
      "state": {}
     },
     "835a8fcec71e40f7b4ea11c04beeed8a": {
      "model_module": "@jupyter-widgets/controls",
      "model_module_version": "1.5.0",
      "model_name": "SliderStyleModel",
      "state": {
       "description_width": ""
      }
     },
     "8479d5519c234daebd86f7b101c9a515": {
      "model_module": "@jupyter-widgets/controls",
      "model_module_version": "1.5.0",
      "model_name": "IntSliderModel",
      "state": {
       "description": "step",
       "layout": "IPY_MODEL_707c454e2e8948109a3b586fe0ebd3c3",
       "max": 10,
       "style": "IPY_MODEL_1e6767cc099e49898c87b56d354ca295",
       "value": 5
      }
     },
     "86423b5b097c439a9c29adccd7683c3b": {
      "model_module": "@jupyter-widgets/controls",
      "model_module_version": "1.5.0",
      "model_name": "SliderStyleModel",
      "state": {
       "description_width": ""
      }
     },
     "87e3957027b44ab297cb51565cca5e21": {
      "model_module": "@jupyter-widgets/controls",
      "model_module_version": "1.5.0",
      "model_name": "VBoxModel",
      "state": {
       "_dom_classes": [
        "widget-interact"
       ],
       "children": [
        "IPY_MODEL_9101d5a875e142e4922dd29da98004d8",
        "IPY_MODEL_57d4a81a89e84cbc8454d39b984beaa9"
       ],
       "layout": "IPY_MODEL_ba36430434d34728b944c4358b88d544"
      }
     },
     "896397182ead4ccf97718f46dfb523da": {
      "model_module": "@jupyter-widgets/controls",
      "model_module_version": "1.5.0",
      "model_name": "SliderStyleModel",
      "state": {
       "description_width": ""
      }
     },
     "8afe4fa8d1814d4bac2da7c77a450c3e": {
      "model_module": "@jupyter-widgets/output",
      "model_module_version": "1.0.0",
      "model_name": "OutputModel",
      "state": {
       "layout": "IPY_MODEL_9fe85cd93aa14bfa9fa1be47a73c5918",
       "outputs": [
        {
         "data": {
          "application/vnd.jupyter.widget-view+json": {
           "model_id": "9f6e9c4a53044f608461b2747d107b28",
           "version_major": 2,
           "version_minor": 0
          },
          "text/plain": "HTMLMath(value=\"<h4>The selected point $x=[-2.5,-2.5]$ was <span class='text-success'>correctly classified</sp…"
         },
         "metadata": {},
         "output_type": "display_data"
        },
        {
         "data": {
          "image/png": "iVBORw0KGgoAAAANSUhEUgAAAeIAAAHSCAYAAAAwk8gOAAAAOXRFWHRTb2Z0d2FyZQBNYXRwbG90bGliIHZlcnNpb24zLjUuMSwgaHR0cHM6Ly9tYXRwbG90bGliLm9yZy/YYfK9AAAACXBIWXMAAAsTAAALEwEAmpwYAAAoUklEQVR4nO3deZCc9X3n8c9v7nukuWe6Rxpx2CAkG8ToACmKjIQsbCEDCWvACVa0KTABx8QxCYZNVVwuJ67EBpPYBMvgEy22K7bXXhxjYI2SNQQHIXMsFqcPqWdGMz3SSHOf/ds/WmrUxxxSP92/Pt6vqin383TP099uI330Ox9jrRUAAHCjwHUBAADkM4IYAACHCGIAABwiiAEAcIggBgDAIYIYAACHily8aUNDg+3o6HDx1kBeGx0dVUVFhesygLzz/PPP91trGxM95ySIOzo6tG/fPhdvDeS1vXv3atOmTa7LAPKOMeZ3sz1H1zQAAA4RxAAAOEQQAwDgEEEMAIBDBDEAAA4RxAAAOEQQAwDgEEEMAIBDBDEAAA4RxAAAOEQQAwDgEEEMAIBDBDEAAA4RxAAAOEQQAwDgEEEMAIBDBDEAAA4RxAAAOEQQAwDgEEEMAIBDBDEAAA4RxAAAOEQQAwDgEEEMAIBDBDEAAA4RxAAAOEQQAwDgEEEMAIBDBDEAAA4RxAAAOEQQAwDgEEEMAIBDBDEAAA4RxAAAOEQQAwDgEEEMAIBDBDEAAA4RxAAAOORZEBtjCo0xvzTGPOrVNQEAyHVetog/JumAh9cDACDneRLExhi/pPdLetCL6wEAkC+8ahF/QdJfSQrN9gJjzE3GmH3GmH3BYNCjtwUAILslHcTGmO2S+qy1z8/1Omvtbmttp7W2s7GxMdm3BQAgJ3jRIl4vaYcx5reSvi3pMmPMwx5cFwCAnJd0EFtrP2mt9VtrOyRdJ+ln1to/SroyAADyAOuIAQBwqMjLi1lr90ra6+U1AQDIZbSIAQBwiCAGAMAhghgAAIcIYgAAHCKIAQBwiCAGAMAhghgAAIcIYgAAHCKIAQBwiCAGAMAhghgAAIcIYgAAHCKIgTwwNSU9/rj0q19JR464rgbAqQhiIMc9/7zU2ipde630ox9Jfr90332uqwJwEkEM5LCpKWnbtnAreHBQmpiQxselu+6SnnvOdXUAJIIYyGlPPRUO31jj49JXvpL+egDEI4iBHDY0lPh8KCQNDKS3FgCJEcRADvv93w93T8eqrJT+8A/TXw+AeAQxkMMaGqS//3upokIqOPGnvbJSWrNG+oM/cFsbgLAi1wUASK3bb5fWr5e+/GWptFS65RbpmmukIv70AxmBP4pAHli9Ovyzd6+0aZPragCciq5pAAAcIogBAHCIIAYAwCGCGAAAhwhiAAAcIogBAHCIIAYAwCGCGAAAhwhiAAAcIogBAHCIIAYAwCGCGAAAhwhiAAAc4u5LyFmvvip99avSkSPSlVeGfwoLXVcFANEIYuSkhx+WbrpJmpqSpqel735XWrtW+slPpOJi19UBwNvomkbOGRmRbr5ZGhsLh7AkDQ9Lzz4rfec7bmsDgFgEMXLOz38uFSXo6xkZkR55JP31AMBcCGLknLIyydrEz1VWprcWAJgPQYycs359OIxjVVaGx40BIJMQxMg5RUXSj38sLV4sVVdLVVVSaan0538ubdniujoAiMasaeSk1aulnp7wLOnjx6X3vEdassR1VQAQjyBGziotla66ynUVADA3uqYBAHCIIAYAwCGCGAAAhwhiAAAcIogBAHCIIAYAwCGCGAAAhwhiAAAcIogBAHCIIAYAwCGCGAAAhwhiAAAcIogBAHCIIAaADPa730k7d0o+n/Tud0vf+pZkreuq4CVugwgAGaqnR1q1KnxP7ZkZqbtbuuUW6dVXpc98xnV18AotYgDIUJ//vDQ8HA7hk0ZGpHvukQYG3NUFbxHEAJCh9u6VJifjz5eWSq+8kvZykCIEMQBkqLPPloyJPz8xIfn96a8HqUEQA0CGuuMOqbw8+lxpqbRhg9TR4aQkpABBDAAZqrNTevhhqbk5HMilpdL73id973uuK4OXmDUNABns6qulD3xAOnRIWrRIqq11XRG8RhADQIYrKJCWLnVdBVKFrmkAABwiiAEAcIggBgDAIYIYAACHCGIAABwiiAEAcIggBgDAIYIYAACHCGIAABwiiAEAcIggBgDAIYIYAACHCGIAABxKOoiNMe3GmKeMMQeMMa8YYz7mRWEAAOQDL26DOC3pL621+40x1ZKeN8Y8Ya39lQfXBgAgpyXdIrbW9lhr9594PCTpgCRfstcFACAfeDpGbIzpkHSRpF8keO4mY8w+Y8y+YDDo5dsCAJC1PAtiY0yVpO9Jut1aOxj7vLV2t7W201rb2djY6NXbAgCQ1TwJYmNMscIhvMda+30vrgkAQD7wYta0kfSQpAPW2nuSLwkAgPzhRYt4vaQ/lnSZMeaFEz/v8+C6AADkvKSXL1lrfy7JeFALAAB5h521AABwiCAGAMAhghgAAIcIYgAAHCKIAQBwiCAGAMAhghgAAIcIYgAAHCKIAQBwiCAGAMAhghgAAIcIYgAAHEr6pg8AAJzKWunpp6Xf/la6+GLp/PNdV5TZCGIAgGd6e6XLLpMOHgwfz8xI27ZJ3/mOVFzstrZMRdc0AMAzH/6w9MYb0vBw+GdsTHrsMemee1xXlrkIYgCAJwYHpaeekqamos+PjUkPPOCmpmxAEAMAPDExMftzY2PpqyPbEMQAAE80NkpnnRV/vrhY+sAH0l9PtiCIAQCe+frXpaoqqbQ0fFxRITU3S5/+tNOyMhqzpgEAnlm7Vnr1VWn3bun116UNG6Qbb5Sqq11XlrkIYgCAp3w+6VOfcl1F9qBrGgAAhwhiAAAcIogBAHCIIAYAwCGCGAAAhwhiAAAcIogBAHCIIAYAwCGCGAAAhwhiAAAcIogBAHCIIAYAwCGCGAAAh7j7kgOhkPSTn0jf/a5UXi79yZ+Ebx0GAMg/BHGaWSt98IPhIB4ZkQoKpG99S7r7bumuu1xXBwBIN7qm0+zJJ98OYSncOh4dlT79aamry21tAID0I4jT7Ac/eDuET1VYKP30p+mvBwDgFkGcZtXV4dCNVVAgVVamvx4AgFsEcZp9+MNSSUn8eWul7dvTXw8AwC2COM2WL5fuvVcqKwu3jmtqwv/7ox/RIgaAfMSsaQduvlm69lrpiSfCgbx1a3gZEwAg/xDEjtTVhZcxAQDyG13TAAA4RBADAOAQQQwAgEMEMQAADhHEAAA4RBADAOAQQQwAgEMEMQAADhHEAAA4RBADAOAQQQwAgEMEMQAADhHEAAA4xN2XAABIgZmZGR0+fFiBQGDO1xHEAACcpomJCXV1damrq0uBQCDyc+pxX1+f6uvr5fP55rwWQQwAwCmGhobmDNiuri4dO3ZMra2t8vv9kZ+lS5dq/fr18vv98vl8am1tVUlJiSTJGDPr+xHEAIC8YK3V0aNHE4brqcdTU1NRAevz+bRixQpt27ZNPp9Pfr9fTU1NKijwZpoVQQwAyHozMzPq7e1N2Ho99XFZWVkkXE8G7aWXXhp1vGjRojlbsF4jiAEAGW1yclLd3d1zdhUfPnxYdXV1UYHq8/l0wQUXRB1XVla6/jhxCGIAgDPDw8ORUJ2tq3hgYEAtLS1Rger3+7Vu3brI47a2tsh4bLYhiAEAnrPWamBgYM6ADQQCmpiYiAvY5cuX6/LLL4+cb2pqUmFhoeuPlDIEMQDgtIRCIfX29s46FnvyuKSkJG48du3atVHBW1dXl9bx2ExEEAMAIiYnJ9XT0zPrWGwgEFBPT48WLVoUN7N4y5Ytkcc+n0/V1dWuP05WIIgBIE+MjIzMuwnF0aNH1dzcHNeSXbNmTdR4bGlpqeuPkzMIYgDIctZaHTt2bN5NKEZHR+MC9p3vfKc2b94cOW5ubs7p8dhMRBADQAYLhUIKBoPzbkJRVFQUt3Sns7NTV111VeS4vr4+78djMxFBDACOTE1NRcZjZ5v41NPTo5qamriZxZdddlnksc/nU01NjeuPgzNEEANACoyNjc3bVdzf36+mpqa47uKLL7448ritrU1lZWWuPw5SiCAGgNNgrdXg4OC8XcUjIyNqa2uLmll8zjnnaNOmTZHgbWlpUVERfw3nO/4LAIATQqGQ+vv7592EwhgT11W8atUq7dixI3Lc0NDAeCwWhCAGkBemp6fV09Mz5yYU3d3dqq6ujusq3rRpU9Qx47HwEkEMIOuNj4/PecedQCCgYDCoxsbGuJnFF154YdR4bHl5ueuPgzxDEAPIaCfHY+fqKh4aGooaj/X5fDrrrLO0cePGqPHY4uJi1x8HiEMQA3DCWqv+/v55ZxaHQqG48dgLL7xQ73//+yPnGxoaPLtJO5BuBDEAz83MzOjw4cNzzizu6upSZWVlVFex3+/Xhg0booK3traWSU/IaZ4EsTFmm6T7JBVKetBa+1kvrgsg80xMTCS8f+ypj/v6+lRfXx/Xkn3Xu94VdVOAiooK1x8HcC7pIDbGFEr6kqTLJQUkPWeM+ZG19lfJXhtAeg0NDc3bVXz8+HG1trZGBWxHR4c2bNgQOW5tbWU8FlggL1rEayS9aa39tSQZY74t6QOSCGIgQ1hrdfToUb355psaGRmZtTU7PT0dt3Rn5cqV2rZtW+S4sbGR8VjAQ14EsU/SoVOOA5LWxr7IGHOTpJskye/3a+/evR68NYCZmRkNDAwoGAyqv79fwWAw8nPyuC/Yp6LiIlXVVKm4tlgdvg69o/0damxs1HnnnafGxkY1NDSoqqpq1vHYoaEhHThwQAcOHEjzJwRymxdBnOhPrY07Ye1uSbslqbOz027atMmDtwZy28TEhLq7u+fchKK3t1d1dXVR47GxY7Hv/p/v1njBuNZpnfZqr3Zu2Km/2/x3rj8eAHkTxAFJ7acc+yV1e3BdIKcNDw/PuwnFwMCAWltbo7qK29vbtW7dushxa2urSkpK5nyvJQ1L9MbRNyLHhwYPzfFqAOnkRRA/J+lcY8wySV2SrpN0gwfXBbKStVYDAwPzbkIxOTkZt3Rn+fLl2rp1a6Q129TU5MlN2ttr26OC+ODxg0lfE4A3kg5ia+20MeY2ST9VePnSV621ryRdGZCBZmZm1NfXN+/M4pKSkrilOydbsSePFy9enLb1se017VHHh47TIgYyhSfriK21/ybp37y4FuDK5ORk5Cbts7Vme3p6tHjx4riZxcuXL4+6SXtVVZXrjxMlNogDgwGFbEgFhtnPgGvsrIW8MDIyMu8mFEePHlVLS0vcTQHWrFkTNR5bWlrq+uOctvba6CCeCk2pb6RPLVUtjioCcBJBjKxmrdWxY8fm7SoeGxuLC9jzzjtPW7ZsiZxvbm72ZDw2Ey2pXRJ37tDxQwQxkAEIYmSsUCikYDA4Z8AGAgEVFRXFdRWvXr1aV111VeS4rq4ur/crju2alsITtlb7VjuoBsCpCGI4MTU1FRmPna0129PTo9ra2riZxZdddllUy7a6utr1x8l4sV3TEkuYgExBEMNzo6OjkbvrzDbx6ciRI2pqaooKWJ/Pp87OzsjjtrY2lZWVuf44OaGmtEY1pTXSxNvnmDkNZAaCGAtmrY3cpH2uruKRkZGoGcR+v1/nnnuu3vOe90SNxxYV8Z9fOrXXtEvBt49pEQOZgb8JISk8Htvf3z/vJhTGGLW3t0d1F69atUo7duyIHNfX1+f1eGymWlK7RGPBscgxQQxkBoI4D0xPT6unp2fOgO3p6VFVVVVcV/GmTZuiWrY1NTWuPw7OUHtNu17X65FjdtcCMgNBnOXGx8fnHIvt6upSMBhUY2Nj3E5Pq1atijxua2tTeXm564+DFGqvjQ7inqEeTc1MqbiQ+wYDLhHEGezU8djZwnZoaChuPPbss8/Wxo0bI8Hb0tLCeCziljBZWXUPdWvpoqWOKgIgEcROWGvV398/7yYUoVAoqqvY7/frwgsv1Pbt2yPB29DQwE3asSCzLWEiiAG3CGKPTU9Pq7e3d86A7erqUmVlZVxX8e/93u/Fjccy6QleSbSpB0uYAPcI4tMwPj6u7u7uOWcW9/X1qaGhIW6np5M3aj95nvFYpJu/xh93jglbgHsE8QlDQ0NzjsUGAgENDg6qra0tKmA7Ojq0YcOGSMC2traquJjJL8g85cXlqiiqkKbfPscSJsC9nA9ia62OHj067yYU09PTcUt3Vq5cqSuuuCISvI2NjYzHIqvVltVKw28fE8SAe1kdxDMzM1HjsYkCtqurS+Xl5XHjsevXr49q2dbW1jIei5xXU1oTHcSMEQPOZWwQT0xMqLu7e86Zxb29vaqvr4+7KcCKFSuigreiosL1xwEyQm1pbdQxLWLAPSdBHAqF9Nprr825CcWxY8fU0tISFahLlizRpZdeGjUeW1JS4uIjAFmppjR6Z7T+0X6NTo2qoph/rAKuOAniF154QVdeeWVUV/EFF1ygrVu3RoK3qamJ8VjAY7VltXHnAoMBvaP+HQ6qASA5CuJVq1Zp3759Lt4ayGuxLWIpPE5MEAPu0OQE8kjsGLHEODHgGkEM5JHq0moVmOg/9sycBtwiiIE8UmAK1FbdFnWO3bUAtwhiIM/E7jlN1zTgFkEM5JnYuzARxIBbBDGQZ+JaxIwRA04RxECeiQ3iockhHR8/7qgaAAQxkGeW1C6JO0f3NOAOQQzkmdgxYomZ04BLBDGQZ2K7piXGiQGXCGIgzzRWNqqkMPpmKXRNA+4QxECeKTAF8tf4o84RxIA7BDGQh2InbNE1DbhDEAN5KHacmMlagDtOboMIwK3YIA4MBmStlTHGUUXAAkyPSr/5ltTzmFSxRDr3Fqn2PNdVJY0gBvJQ7BKmiZkJBUeDaqpsclQRMI+pQemx1dJoQJoZlUyR9NaD0vpvS/4rXVeXFLqmgTzEEiZknQP3SiMHwyEsSXY6/PjZnVJo2mlpySKIgTzE7lrIOof+VQqNx58PTUrHX0l/PR4iiIE8xO5ayDrFNYnP2xmpuDq9tXiMIAbyUG1prapKqqLO0TWNjPaOj0pFldHnTIFU806p6iw3NXmEIAbykDEm/naIdE0jky39oHTWf5cKSqWi6vBPxVJp4/9yXVnSmDUN5Kn22nYd6D8QOSaIkdGMkTrvk5bfIfX/p1TWIjWuD7eKsxxBDOSpJTXsroUsVOGXllzrugpPZf8/JQCckdgJW11DXZrO8mUgQDYiiIE8FTtGHLIh9Qz1OKoGyF8EMZCnEi1hYpwYSD+CGMhT7K4FZAaCGMhTtIiBzEAQA3mqorhC9eX1UefYXQtIP4IYyGOxrWJaxED6EcRAHovbXYsxYiDtCGIgj7HNJeAeQQzksdjbIfaN9Gl8OsGt5gCkDEEM5LFEM6cDgwEHlQD5iyAG8hhriQH3CGIgj7GWGHCPIHZhPCj94ibpe43SD3zSi38jzTAuh/TzVftkZKLO0SIG0ovbIKbb9Kj02GpprFuyU+Fzr34ufH/NzU+6rQ15p7iwWK3Vreoe6o6co0UMpBct4nT73belyf63Q1gKt4b7n5WO7HNXF/JW7Dgxu2sB6UUQp1vwGWl6JMETVhr4ZdrLAdhdC3CLIE63mvOkwvL486ZQqlqW/nqQ99hdC3CLIE63s3ZKBcXR50yRVN4iNV/mpCTkt9ggPj5xXEMTQ46qAfIPQZxuZQ3Slv8rLb5IMsXhn+bN0pb/kAz/dyD9YnfXkuieBtKJWdMuLH6XdMV+afK4VFAkFVW6rgh5LNFa4oPHD2p543IH1QD5hyB2qaTWdQUAu2sBjtEXCuS55qpmFcfMW6BrGkgfghjIcwWmQL4aX9Q5ghhIH4IYQNyELbqmgfQhiAGwuxbgEEEMIH5Tj8FDstY6qgbILwQxgLglTOPT4zoydsRRNUB+IYgBsIQJcIggBsDuWoBDBDGAWXfXApB6BDEALS5brIriiqhzdE0D6UEQA5AxJuHMaQCpRxADkBTfPU0QA+lBECO3jfVKQ29KNuS6koy3pIbdtQAXkrr7kjHmHyVdKWlS0luS/sRae8yDuoDkjPdJP79O6n9GMkVScZW09iHJ937XlWWs2BZxYDCgmdCMCgsKHVUE5IdkW8RPSFphrX2XpNclfTL5koAkWSv97L1S8OdSaEKaGZHGe6Wf/zfp2Cuuq8tYsWPEM3ZGh4cPO6oGyB9JBbG19nFr7fSJw2cl+ZMvCUjSwAvS0BuSnYo+H5qQXv8nJyVlg0RLmBgnBlLPyzHiXZJ+MtuTxpibjDH7jDH7gsGgh28LxBjrlhJ1p9oZafg36a8nS7C7FuDGvGPExpgnJbUkeOpua+0PT7zmbknTkvbMdh1r7W5JuyWps7OT3eSROnWrpJmJ+POF5VLz5vTXkyVoEQNuzBvE1totcz1vjPmwpO2SNltu14JMUN4qnXOT9NZXw+PDklRQLJXUSefe7La2DFZVUqXFZYs1MD4QOcfuWkDqJdU1bYzZJumvJe2w1o56UxLggYvvk1bfLy2+SKpcJp37Z9IV+6WSRa4ry2isJQbSL6nlS5K+KKlU0hPGGEl61lr7kaSrApJljHTWjeEfLFh7Tbte6n0pcswYMZB6SQWxtfYcrwoB4B7bXALpx85aACJib4d4ePiwJqYTTHwD4BmCGEBEopnTXUNdDioB8gdBDCCCtcRA+hHEACJYSwykH0EMIMJX7Ys7R4sYSC2CGEBEaVGpWqqiN9KjRQykVrLriJEHhiaG9K+/+le9NfCWhiaGVFlSqSW1S3Tt8mtVX1Hvujx4rL2mPequS+yuBaQWQYxZvdL3iu5/7n5986VvanhyOO752x+7XdetuE63rr5Vq32rHVSIVGivbddz3c9FjmkRA6lFECOhLzz7BX38px+XVXj78I1LN2rzss2qLqnWyNSInj70tB578zF948Vv6BsvfkN3rr9Tn9n8GRUYRjuyXdymHowRAylFECPO3+79W33q3z8lSbpp1U366NqPakXTirjXvXX0Ld3/3P267xf36bNPf1ZHx47qge0P6MR2p8hSsUE8MD6gkckRVZZUOqoIyG00XxDl4Zce1qf+/VMqMAXac80effnKLycMYUk6u+5sff69n9ePb/ixyorKtHv/bn3umc+luWJ4LXZ3LYnuaSCVCGJEzIRmdNf/uUuS9M9X/LNuWHnDgn7vvee8V3uuCd+K+tP/8emE48nIHonWEjNhC0gdghgRj77+qA4NHtI5defoI50xN9GyVgo+Lb3xgHT4ScmGop6+5vxrtGHJBg1NDmnPS3vSWDW8xu5aQHoRxIi4f9/9kqRbOm+JnnQ1NSw9fqn01Hul/R+X/uMa6ccXSOP9Ub//Z51/Jkn60nNfkrU2bXXDWy1VLSoqiJ4+Qtc0kDoEMSRJ06FpPfnrJ2VktPPCndFPvvQ/pIFfStMj0syYND0kDb0l/dfNUS+75vxrVFtaq5f7Xo5ah4rsUlhQqLbqtqhztIiB1CGIIUk6Nn5MIRvSorJFqiuvi37yN9+UQjG3wrNTUtf/lkLTkVOlRaWRv8CPjB1JdclIIe5LDKQPQQxJ4YlakhKvAz4lbGOeiBsrLiwojLoeslPszGkmawGpQxBDkrS4fLGk8JrR0anR6Cd92yUTu+TcSA2XSoUlkTMhG4p0SZ+8HrJTohYx4/5AahDEkCSVFJZojW+NQjak7/y/70Q/uerzUlmzVHRiQ4fCCqlksbT2waiXPf7W4+of7dfS2qXy1/jTVDlSIXYJ0+jUqAbGBxxVA+Q2ghgRt3TeIunt2dMR5a3Sla9Jq74gnXOzdOFnpR1vSTXviHrZ/c+Ff+8jnR9hq8ssxxImIH342xIRH7zgg6orr9O+7n169PVHo58sqpTO+VNpzQPSOz8qlSyKevq/uv5Lj77+qEoKS7Trol3pKxopkWhTDyZsAalBECOivLhcd1x6hyTp+u9dr2cOPbOg33ul7xVd+ciVsrL6yMUfUVNlUyrLRBok2uaSCVtAahDEiPLX6/9aH1r5IQ1PDmvzNzfr3v+8V8fHjyd87ejUqB7c/6DWf3W9+kb6tPXsrfrcVvaazgX15fUqKyqLOkfXNJAa3H0JUYwx+vpVX1dFcYW+sv8r+vjjH9ffPPU3+tDKD2nzWZtVU1qj4clhPXPoGX3tha/p2PgxSdLV512tPdfsUXFhsdsPAE8YY9Re0643jr4ROUfXNJAaBDHiFBUU6cvbv6wrzrlCX3zui/rZb36m3ft3a/f+3XGvXetbq1tX36obVt4QWUOM3NBeSxAD6UAQIyFjjK4+/2pdff7VOhA8oK+98DX9euDXGpwYVFVJldpr2nXju2/UxW0Xuy4VKRK3lpiuaSAlCGLM6/zG8/UPl/+D6zKQZrETtgKDAYVsiKVpgMf4EwUgodgW8VRoSr3DvY6qAXIXQQwgIdYSA+lBEANIiN21gPQgiAEkRIsYSA+CGEBCNaU1qi2tjTpHixjwHkEMYFaxreKDg2xzCXiNIAYwK9YSA6lHEAOYVVwQM0YMeI4gBjCr2K7pnqEeTc1MOaoGyE0EMYBZxe6uZWXVPdTtqBogNxHEAGaVaC0x9yUGvEUQA5gVa4mB1COIAczKX+OPO8fMacBbBDGAWZUVlamxojHqHC1iwFsEMYA5xU7YIogBbxHEAOYUt7sWk7UATxHEAObE7lpAahHEAOYUG8RHxo5odGrUUTVA7iGIAcwp0RKmwGDAQSVAbiKIAcwpdrKWRPc04CWCGMCc2F0LSC2CGMCcWqtbVWCi/6pgCRPgHYIYwJyKCorUVt0WdY6uacA7BDGAeXFfYiB1CGIA82J3LSB1CGIA84ptER88flDWWkfVALmFIAYwr9i1xMOTwzo+cdxRNUBuIYgBzCvREiYmbAHeIIgBzCvR7lqMEwPeIIgBzIvdtYDUIYgBzKuxolGlhaVR59hdC/AGQQxgXsYY+Wv8Uefomga8QRADWJDYcWKCGPAGQQxgQeJ212KMGPAEQQxgQWInbAUGAwrZkKNqgNxBEANYkNgW8cTMhIIjQUfVALmDIAawIKwlBlKDIAawIOyuBaQGQQxgQWgRA6lBEANYkNrSWlWXVEedo0UMJI8gBrAgxpi4VvHBQXbXApJFEANYMNYSA94jiAEsWFwQM0YMJI0gBrBgsV3T3UPdmg5NO6oGyA0EMYAFi91dK2RD6hnqcVQNkBsIYgALlmgtMbdDBJJDEANYMNYSA94jiAEsWOw9iSVmTgPJIogBLFhFcYXqy+ujztEiBpJDEAM4LbETtghiIDkEMYDTEre71rHfSMdelqaGHFUEZDdPgtgY8wljjDXGNHhxPQCZK25Tj+CL0uPrpe83Sb+8Q7IhR5UB2SnpIDbGtEu6XBJrGIA8EBvEwRlpfHJImhmXXr9fevULbgoDspQXLeJ7Jf2VJOvBtQBkuERLmAInN9eaGZUOfC69BQFZLqkgNsbskNRlrX1xAa+9yRizzxizLxgMJvO2AByKnawlSYdO3eVy8kj6igFyQNF8LzDGPCmpJcFTd0u6S9LWhbyRtXa3pN2S1NnZSesZyFIJd9c6JYjt4lUaHD+u2rLaNFYFZK95g9hauyXReWPMSknLJL1ojJEkv6T9xpg11trDnlYJICPMhGZ04s97lHsGpK8PSoFpo8Cvf6lVXe/T07uedlAhstXU1JQCgYDGx8ddl5KUsrIy+f1+FRcXL/h35g3i2VhrX5bUdPLYGPNbSZ3W2v4zvSaAzPNy78u6+dGb1TXUNevdll6aPPnISprQOt+6dJaIHBAIBFRdXa2Ojo6E/9jLBtZaHTlyRIFAQMuWLVvw77GOGMCcLmi6QEfHjurg8YMLvuXhJe2XpLgq5Jrx8XHV19dnbQhLkjFG9fX1p92q9yyIrbUdtIaB3FNgCnTnhjtP63fW+WkR4/RlcwifdCafgRYxgHndsPKGhJO0EvFV+xLeHAJAYgQxgHmVFJboE5d+YkGvpVsaOD0EMYAF+dNVf6qGivl3sWWiFnLZrl271NTUpBUrVnh2TYIYwIJUFFfo9rW3z/s6xofhhZYWyRjvfloS7YZxBnbu3KnHHnvMm4udQBADWLBb19yq6pLqWZ8vKijSqtZVaawIuaq3NzOvt3HjRtXV1XlzsRMIYgALtqhskW7pvGXW5y9quUjlxeVprAjIfgQxgNPyF5f8hUoLSxM+R7c0st2WLVu0YsWKuJ8f/vCHKXvPM95ZC0B+aqlq0a6Ldulf9v1L3HMEMbLdk08+mfb3pEUM4LTdcekdKjSFcecv8bN0CThdBDGA07Zs8TJdt+K6qHNNlU3qWNThpiAgTa6//npdcskleu211+T3+/XQQw8lfU26pgGckTs33Kk9L++JHK/zr8uJLQqRGZqbvZ053dzszXUeeeQRby50ClrEAM7IiqYV2vHOHZFjuqXhpcOHJWu9+zmcwTfnJYgBnLFPbvhk5DETtYAzQxADOGPr/Ou0qWOTCkyBOts6XZcDZCXGiAEk5a4Nd+nY+DFVlVS5LgXISrSIASRly1lbdNvq21yXAWQtghhAUowx2nXRLtdlAFmLIAaQNJYtAWeOIAYAwCGCGACAE3bt2qWmpiatWLEibe/JrGkAQOb5fos07uHWWmXN0jXz7+qxc+dO3Xbbbbrxxhu9e+950CIGAGQeL0P4NK63ceNG1dXVefve8yCIAQBwiCAGAMAhghgAAIcIYgAAHCKIAQA44frrr9cll1yi1157TX6/Xw899FDK35PlSwCAzFPW7P3ypQV45JFHvHvPBSKIAQCZZwFrfnMFXdMAADhEEAMA4BBBDADICNZa1yUk7Uw+A0EMAHCurKxMR44cyeowttbqyJEjKisrO63fY7IWAMA5v9+vQCCgYDDoupSklJWVye/3n9bvEMQAAOeKi4u1bNky12U4Qdc0AAAOEcQAADhEEAMA4JBxMUPNGBOU9Lu0v3FyGiT1uy4ix/Edpx7fcerxHadHtn3PS621jYmecBLE2cgYs89a2+m6jlzGd5x6fMepx3ecHrn0PdM1DQCAQwQxAAAOEcQLt9t1AXmA7zj1+I5Tj+84PXLme2aMGAAAh2gRAwDgEEF8mowxnzDGWGNMg+tacpEx5h+NMa8aY14yxvzAGLPIdU25whizzRjzmjHmTWPMna7ryTXGmHZjzFPGmAPGmFeMMR9zXVOuMsYUGmN+aYx51HUtXiCIT4Mxpl3S5ZIOuq4lhz0haYW19l2SXpf0Scf15ARjTKGkL0m6QtJySdcbY5a7rSrnTEv6S2vt+ZLWSbqV7zhlPibpgOsivEIQn557Jf2VJAbWU8Ra+7i1dvrE4bOSTu82JpjNGklvWmt/ba2dlPRtSR9wXFNOsdb2WGv3n3g8pHBQ+NxWlXuMMX5J75f0oOtavEIQL5AxZoekLmvti65rySO7JP3EdRE5wifp0CnHARESKWOM6ZB0kaRfOC4lF31B4QZRyHEdnuE2iKcwxjwpqSXBU3dLukvS1vRWlJvm+p6ttT888Zq7Fe7q25PO2nKYSXCOnp0UMMZUSfqepNuttYOu68klxpjtkvqstc8bYzY5LsczBPEprLVbEp03xqyUtEzSi8YYKdxdut8Ys8ZaeziNJeaE2b7nk4wxH5a0XdJmy/o6rwQktZ9y7JfU7aiWnGWMKVY4hPdYa7/vup4ctF7SDmPM+ySVSaoxxjxsrf0jx3UlhXXEZ8AY81tJndbabNpwPCsYY7ZJukfS71trg67ryRXGmCKFJ79tltQl6TlJN1hrX3FaWA4x4X+lf0PSUWvt7Y7LyXknWsSfsNZud1xK0hgjRqb5oqRqSU8YY14wxjzguqBccGIC3G2SfqrwJKLvEsKeWy/pjyVdduK/3RdOtNyAOdEiBgDAIVrEAAA4RBADAOAQQQwAgEMEMQAADhHEAAA4RBADAOAQQQwAgEMEMQAADv1/BaYo8G0vs9AAAAAASUVORK5CYII=\n",
          "text/plain": "<Figure size 576x576 with 1 Axes>"
         },
         "metadata": {
          "needs_background": "light"
         },
         "output_type": "display_data"
        }
       ]
      }
     },
     "8fc6f7034b8a46a8bf1ca875299af692": {
      "model_module": "@jupyter-widgets/controls",
      "model_module_version": "1.5.0",
      "model_name": "FloatSliderModel",
      "state": {
       "description": "bias",
       "layout": "IPY_MODEL_304004fa01e04fed92f7891ea29c2cca",
       "max": 3,
       "min": -2,
       "step": 0.5,
       "style": "IPY_MODEL_896397182ead4ccf97718f46dfb523da"
      }
     },
     "9101d5a875e142e4922dd29da98004d8": {
      "model_module": "@jupyter-widgets/controls",
      "model_module_version": "1.5.0",
      "model_name": "IntSliderModel",
      "state": {
       "description": "updates",
       "layout": "IPY_MODEL_ac8618e4d45d4b0481bc45ee1a619f9a",
       "max": 10,
       "style": "IPY_MODEL_b7170c5ab0774a4885bee5a1901d4d2c",
       "value": 5
      }
     },
     "92990a848991425ab9a91b66c865be77": {
      "model_module": "@jupyter-widgets/base",
      "model_module_version": "1.2.0",
      "model_name": "LayoutModel",
      "state": {}
     },
     "93baf808e5ab4abfb1b7674e7887cc3f": {
      "model_module": "@jupyter-widgets/controls",
      "model_module_version": "1.5.0",
      "model_name": "IntSliderModel",
      "state": {
       "description": "updates",
       "layout": "IPY_MODEL_10abece6d3664696b25e6758e9fc9887",
       "max": 10,
       "style": "IPY_MODEL_19944753565b4708bdbc42409dd6f94e",
       "value": 7
      }
     },
     "95aba1be741f471ba85fed54ae37ae3c": {
      "model_module": "@jupyter-widgets/base",
      "model_module_version": "1.2.0",
      "model_name": "LayoutModel",
      "state": {}
     },
     "95edf5dbaa604a9e804602e91ed0561d": {
      "model_module": "@jupyter-widgets/controls",
      "model_module_version": "1.5.0",
      "model_name": "FloatSliderModel",
      "state": {
       "description": "slope",
       "layout": "IPY_MODEL_caba11fdcf7148df808fd87b3cf65c2c",
       "max": 2,
       "min": -2,
       "step": 0.5,
       "style": "IPY_MODEL_979bd9fda9794aa3940727c41c860d17"
      }
     },
     "96dad178872e48c2b98a6ab78c028a4c": {
      "model_module": "@jupyter-widgets/base",
      "model_module_version": "1.2.0",
      "model_name": "LayoutModel",
      "state": {}
     },
     "97326c6b97ba4e7782ac965bba8a2f45": {
      "model_module": "@jupyter-widgets/controls",
      "model_module_version": "1.5.0",
      "model_name": "DescriptionStyleModel",
      "state": {
       "description_width": ""
      }
     },
     "979bd9fda9794aa3940727c41c860d17": {
      "model_module": "@jupyter-widgets/controls",
      "model_module_version": "1.5.0",
      "model_name": "SliderStyleModel",
      "state": {
       "description_width": ""
      }
     },
     "98684ea662f54cc4831ed4824c97038f": {
      "model_module": "@jupyter-widgets/output",
      "model_module_version": "1.0.0",
      "model_name": "OutputModel",
      "state": {
       "layout": "IPY_MODEL_15bcbf762a374bff85eb62c1119075a0",
       "outputs": [
        {
         "data": {
          "image/png": "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\n",
          "text/plain": "<Figure size 576x576 with 1 Axes>"
         },
         "metadata": {
          "needs_background": "light"
         },
         "output_type": "display_data"
        }
       ]
      }
     },
     "99a6f87e62b8430b9f7c715780045828": {
      "model_module": "@jupyter-widgets/output",
      "model_module_version": "1.0.0",
      "model_name": "OutputModel",
      "state": {
       "layout": "IPY_MODEL_7ca44266398542b3988190954bbecf76",
       "outputs": [
        {
         "data": {
          "application/vnd.jupyter.widget-view+json": {
           "model_id": "d433cd8a5d304309bae83fcf68f6490a",
           "version_major": 2,
           "version_minor": 0
          },
          "text/plain": "HTMLMath(value=\"<h4>The selected point $x=[-3.5,1.0]$ was <span class='text-success'>correctly classified</spa…"
         },
         "metadata": {},
         "output_type": "display_data"
        },
        {
         "data": {
          "image/png": "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\n",
          "text/plain": "<Figure size 576x576 with 1 Axes>"
         },
         "metadata": {
          "needs_background": "light"
         },
         "output_type": "display_data"
        }
       ]
      }
     },
     "9a0105b90eda400f9f21287700249808": {
      "model_module": "@jupyter-widgets/base",
      "model_module_version": "1.2.0",
      "model_name": "LayoutModel",
      "state": {}
     },
     "9b6c80c9df694ac9bf8dbf093328a108": {
      "model_module": "@jupyter-widgets/base",
      "model_module_version": "1.2.0",
      "model_name": "LayoutModel",
      "state": {}
     },
     "9f6e9c4a53044f608461b2747d107b28": {
      "model_module": "@jupyter-widgets/controls",
      "model_module_version": "1.5.0",
      "model_name": "HTMLMathModel",
      "state": {
       "layout": "IPY_MODEL_1eb14ed99bc041609c8ba35fb26ebd34",
       "style": "IPY_MODEL_1a02b2c99e5b48be98e4613f1424cec8",
       "value": "<h4>The selected point $x=[-2.5,-2.5]$ was <span class='text-success'>correctly classified</span>. No update occures.</h4>"
      }
     },
     "9fddf8be4315490caf0734a6daf75c54": {
      "model_module": "@jupyter-widgets/controls",
      "model_module_version": "1.5.0",
      "model_name": "HTMLMathModel",
      "state": {
       "layout": "IPY_MODEL_45d903a961784dab8178e1178f06a36e",
       "style": "IPY_MODEL_21a812f2c9e646598d5e8f2e11c86407",
       "value": "<h4>The selected point $x=[2.5,2.5]$ was <span class='text-danger'>incorrecttly classified</span>. Since $y=$<font color='blue'>$-1$</font>, we have $w_t=w_{t-1}-x$</h4>"
      }
     },
     "9fe85cd93aa14bfa9fa1be47a73c5918": {
      "model_module": "@jupyter-widgets/base",
      "model_module_version": "1.2.0",
      "model_name": "LayoutModel",
      "state": {}
     },
     "a12a77e1eec9480f9bb874456dbc1365": {
      "model_module": "@jupyter-widgets/controls",
      "model_module_version": "1.5.0",
      "model_name": "DescriptionStyleModel",
      "state": {
       "description_width": ""
      }
     },
     "a669df88d40c4a1a90c15b6a739bb2c1": {
      "model_module": "@jupyter-widgets/controls",
      "model_module_version": "1.5.0",
      "model_name": "FloatSliderModel",
      "state": {
       "description": "slope",
       "layout": "IPY_MODEL_0d1888a210054dbd891fd9c1e5d159b7",
       "max": 2,
       "min": -2,
       "step": 0.5,
       "style": "IPY_MODEL_f54da6e952a44039ab5860674ad63a9c"
      }
     },
     "a717b89c42014330af4eca62d5914fcd": {
      "model_module": "@jupyter-widgets/controls",
      "model_module_version": "1.5.0",
      "model_name": "HTMLMathModel",
      "state": {
       "layout": "IPY_MODEL_37dabac4bb764613bf7ac6d9a9a2054f",
       "style": "IPY_MODEL_e4057f9449054d43b52935a16bb6f087",
       "value": "<h4>The <span class='text-success'>weight vector</span> is initialized to $w=[-1,-1]$</h4>"
      }
     },
     "a8c5935ed750425da58db715ad71545a": {
      "model_module": "@jupyter-widgets/controls",
      "model_module_version": "1.5.0",
      "model_name": "HTMLMathModel",
      "state": {
       "layout": "IPY_MODEL_48fd73bf6498428facf3add1376cdf14",
       "style": "IPY_MODEL_e7621bd490634de7a54e14157fccdcf9",
       "value": "<h4>The selected point $x=[0.5,-4.0]$ was <span class='text-success'>correctly classified</span>. No update occures.</h4>"
      }
     },
     "ac8618e4d45d4b0481bc45ee1a619f9a": {
      "model_module": "@jupyter-widgets/base",
      "model_module_version": "1.2.0",
      "model_name": "LayoutModel",
      "state": {}
     },
     "ad024c9769d84c3692a6f33e9813b3dc": {
      "model_module": "@jupyter-widgets/base",
      "model_module_version": "1.2.0",
      "model_name": "LayoutModel",
      "state": {}
     },
     "ad861088139e4f89b3725ac2b6f432b1": {
      "model_module": "@jupyter-widgets/base",
      "model_module_version": "1.2.0",
      "model_name": "LayoutModel",
      "state": {}
     },
     "aec751d7d60f4ae58617467424b8446e": {
      "model_module": "@jupyter-widgets/controls",
      "model_module_version": "1.5.0",
      "model_name": "SliderStyleModel",
      "state": {
       "description_width": ""
      }
     },
     "af7762946f9646b2ad2f391d916a1b17": {
      "model_module": "@jupyter-widgets/controls",
      "model_module_version": "1.5.0",
      "model_name": "SliderStyleModel",
      "state": {
       "description_width": ""
      }
     },
     "aff9a636f0ac427ca2ef77acab05b2aa": {
      "model_module": "@jupyter-widgets/base",
      "model_module_version": "1.2.0",
      "model_name": "LayoutModel",
      "state": {}
     },
     "b1a06341c8544ab7a3c23344b3595b4c": {
      "model_module": "@jupyter-widgets/controls",
      "model_module_version": "1.5.0",
      "model_name": "SliderStyleModel",
      "state": {
       "description_width": ""
      }
     },
     "b264bdb07dc54080960dbcd2a23b5e2a": {
      "model_module": "@jupyter-widgets/output",
      "model_module_version": "1.0.0",
      "model_name": "OutputModel",
      "state": {
       "layout": "IPY_MODEL_48a67267263344038bb417f0273d3bc3",
       "outputs": [
        {
         "data": {
          "application/vnd.jupyter.widget-view+json": {
           "model_id": "78a5c28ccf4e438e827aa702d9f9554a",
           "version_major": 2,
           "version_minor": 0
          },
          "text/plain": "HTMLMath(value=\"<h4>The selected point $x=[-3.5,1.0]$ was <span class='text-success'>correctly classified</spa…"
         },
         "metadata": {},
         "output_type": "display_data"
        },
        {
         "data": {
          "image/png": "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\n",
          "text/plain": "<Figure size 576x576 with 1 Axes>"
         },
         "metadata": {
          "needs_background": "light"
         },
         "output_type": "display_data"
        }
       ]
      }
     },
     "b3518d6dd4714ad9b172452fd9771f62": {
      "model_module": "@jupyter-widgets/controls",
      "model_module_version": "1.5.0",
      "model_name": "VBoxModel",
      "state": {
       "_dom_classes": [
        "widget-interact"
       ],
       "children": [
        "IPY_MODEL_105c7a59228447da98af3188928171c1",
        "IPY_MODEL_98684ea662f54cc4831ed4824c97038f"
       ],
       "layout": "IPY_MODEL_52f9ddea55c34075be354a594a859abc"
      }
     },
     "b3b6032e233d4d0d85c319b72881a8e1": {
      "model_module": "@jupyter-widgets/controls",
      "model_module_version": "1.5.0",
      "model_name": "DescriptionStyleModel",
      "state": {
       "description_width": ""
      }
     },
     "b3c48d895fc945888b5d060b19f12f2b": {
      "model_module": "@jupyter-widgets/base",
      "model_module_version": "1.2.0",
      "model_name": "LayoutModel",
      "state": {}
     },
     "b3ebc0e45d684b5aa188f72e560278ea": {
      "model_module": "@jupyter-widgets/controls",
      "model_module_version": "1.5.0",
      "model_name": "DescriptionStyleModel",
      "state": {
       "description_width": ""
      }
     },
     "b4a058c036784e909898194deda7996e": {
      "model_module": "@jupyter-widgets/base",
      "model_module_version": "1.2.0",
      "model_name": "LayoutModel",
      "state": {}
     },
     "b4c80925a62f494da45a75b555e06475": {
      "model_module": "@jupyter-widgets/base",
      "model_module_version": "1.2.0",
      "model_name": "LayoutModel",
      "state": {}
     },
     "b7170c5ab0774a4885bee5a1901d4d2c": {
      "model_module": "@jupyter-widgets/controls",
      "model_module_version": "1.5.0",
      "model_name": "SliderStyleModel",
      "state": {
       "description_width": ""
      }
     },
     "b7ce71b93b2446c7bf693047bbd428f6": {
      "model_module": "@jupyter-widgets/controls",
      "model_module_version": "1.5.0",
      "model_name": "VBoxModel",
      "state": {
       "_dom_classes": [
        "widget-interact"
       ],
       "children": [
        "IPY_MODEL_694778bb1ff44b528deaba25d55acd13",
        "IPY_MODEL_53990941b004465b88091860889ee344"
       ],
       "layout": "IPY_MODEL_4da93086c6ad4464aa35f07fb725332e"
      }
     },
     "b8e15f0c8ea448f0aee8722e2e3d88ef": {
      "model_module": "@jupyter-widgets/output",
      "model_module_version": "1.0.0",
      "model_name": "OutputModel",
      "state": {
       "layout": "IPY_MODEL_3b70fcc23735400c858988a2a47f615e",
       "outputs": [
        {
         "name": "stdout",
         "output_type": "stream",
         "text": "Petal_Width = 0.0 Petal_Length + 0.0\n"
        },
        {
         "ename": "ValueError",
         "evalue": "s must be a scalar, or float array-like with the same size as x and y",
         "output_type": "error",
         "traceback": [
          "\u001b[0;31m---------------------------------------------------------------------------\u001b[0m",
          "\u001b[0;31mValueError\u001b[0m                                Traceback (most recent call last)",
          "File \u001b[0;32m/opt/conda/lib/python3.9/site-packages/ipywidgets/widgets/interaction.py:257\u001b[0m, in \u001b[0;36minteractive.update\u001b[0;34m(self, *args)\u001b[0m\n\u001b[1;32m    255\u001b[0m     value \u001b[38;5;241m=\u001b[39m widget\u001b[38;5;241m.\u001b[39mget_interact_value()\n\u001b[1;32m    256\u001b[0m     \u001b[38;5;28mself\u001b[39m\u001b[38;5;241m.\u001b[39mkwargs[widget\u001b[38;5;241m.\u001b[39m_kwarg] \u001b[38;5;241m=\u001b[39m value\n\u001b[0;32m--> 257\u001b[0m \u001b[38;5;28mself\u001b[39m\u001b[38;5;241m.\u001b[39mresult \u001b[38;5;241m=\u001b[39m \u001b[38;5;28;43mself\u001b[39;49m\u001b[38;5;241;43m.\u001b[39;49m\u001b[43mf\u001b[49m\u001b[43m(\u001b[49m\u001b[38;5;241;43m*\u001b[39;49m\u001b[38;5;241;43m*\u001b[39;49m\u001b[38;5;28;43mself\u001b[39;49m\u001b[38;5;241;43m.\u001b[39;49m\u001b[43mkwargs\u001b[49m\u001b[43m)\u001b[49m\n\u001b[1;32m    258\u001b[0m show_inline_matplotlib_plots()\n\u001b[1;32m    259\u001b[0m \u001b[38;5;28;01mif\u001b[39;00m \u001b[38;5;28mself\u001b[39m\u001b[38;5;241m.\u001b[39mauto_display \u001b[38;5;129;01mand\u001b[39;00m \u001b[38;5;28mself\u001b[39m\u001b[38;5;241m.\u001b[39mresult \u001b[38;5;129;01mis\u001b[39;00m \u001b[38;5;129;01mnot\u001b[39;00m \u001b[38;5;28;01mNone\u001b[39;00m:\n",
          "File \u001b[0;32m/tmp/ipykernel_40/3236896482.py:14\u001b[0m, in \u001b[0;36mguiLinearClassifier.<locals>.f\u001b[0;34m(slope, bias)\u001b[0m\n\u001b[1;32m     11\u001b[0m x \u001b[38;5;241m=\u001b[39m iris\u001b[38;5;241m.\u001b[39mdata[ iris\u001b[38;5;241m.\u001b[39mtarget \u001b[38;5;241m<\u001b[39m\u001b[38;5;241m2\u001b[39m, \u001b[38;5;241m2\u001b[39m: ]   \u001b[38;5;66;03m# Set Inputs data, X, to petal width and petal length\u001b[39;00m\n\u001b[1;32m     12\u001b[0m y \u001b[38;5;241m=\u001b[39m iris\u001b[38;5;241m.\u001b[39mtarget[ iris\u001b[38;5;241m.\u001b[39mtarget \u001b[38;5;241m<\u001b[39m \u001b[38;5;241m2\u001b[39m ]    \u001b[38;5;66;03m# Get outputs for tw ospecies of flowers\u001b[39;00m\n\u001b[0;32m---> 14\u001b[0m \u001b[43mplt\u001b[49m\u001b[38;5;241;43m.\u001b[39;49m\u001b[43mscatter\u001b[49m\u001b[43m(\u001b[49m\u001b[43m \u001b[49m\u001b[43mx\u001b[49m\u001b[43m[\u001b[49m\u001b[43m:\u001b[49m\u001b[43m,\u001b[49m\u001b[38;5;241;43m0\u001b[39;49m\u001b[43m]\u001b[49m\u001b[43m,\u001b[49m\u001b[43m \u001b[49m\u001b[43mx\u001b[49m\u001b[43m[\u001b[49m\u001b[43m:\u001b[49m\u001b[43m,\u001b[49m\u001b[38;5;241;43m1\u001b[39;49m\u001b[43m]\u001b[49m\u001b[43m,\u001b[49m\u001b[43m \u001b[49m\u001b[43mc\u001b[49m\u001b[38;5;241;43m=\u001b[39;49m\u001b[43my\u001b[49m\u001b[43m,\u001b[49m\u001b[43m \u001b[49m\u001b[43mcmap\u001b[49m\u001b[38;5;241;43m=\u001b[39;49m\u001b[38;5;124;43m\"\u001b[39;49m\u001b[38;5;124;43mbwr\u001b[39;49m\u001b[38;5;124;43m\"\u001b[39;49m\u001b[43m)\u001b[49m         \u001b[38;5;66;03m# Create scatter plot of data\u001b[39;00m\n\u001b[1;32m     15\u001b[0m plt\u001b[38;5;241m.\u001b[39mxlabel(iris\u001b[38;5;241m.\u001b[39mfeature_names[\u001b[38;5;241m2\u001b[39m])                     \u001b[38;5;66;03m# Add x and y axis labels\u001b[39;00m\n\u001b[1;32m     16\u001b[0m plt\u001b[38;5;241m.\u001b[39mylabel(iris\u001b[38;5;241m.\u001b[39mfeature_names[\u001b[38;5;241m3\u001b[39m]) \n",
          "File \u001b[0;32m/opt/conda/lib/python3.9/site-packages/matplotlib/pyplot.py:2807\u001b[0m, in \u001b[0;36mscatter\u001b[0;34m(x, y, s, c, marker, cmap, norm, vmin, vmax, alpha, linewidths, edgecolors, plotnonfinite, data, **kwargs)\u001b[0m\n\u001b[1;32m   2802\u001b[0m \u001b[38;5;129m@_copy_docstring_and_deprecators\u001b[39m(Axes\u001b[38;5;241m.\u001b[39mscatter)\n\u001b[1;32m   2803\u001b[0m \u001b[38;5;28;01mdef\u001b[39;00m \u001b[38;5;21mscatter\u001b[39m(\n\u001b[1;32m   2804\u001b[0m         x, y, s\u001b[38;5;241m=\u001b[39m\u001b[38;5;28;01mNone\u001b[39;00m, c\u001b[38;5;241m=\u001b[39m\u001b[38;5;28;01mNone\u001b[39;00m, marker\u001b[38;5;241m=\u001b[39m\u001b[38;5;28;01mNone\u001b[39;00m, cmap\u001b[38;5;241m=\u001b[39m\u001b[38;5;28;01mNone\u001b[39;00m, norm\u001b[38;5;241m=\u001b[39m\u001b[38;5;28;01mNone\u001b[39;00m,\n\u001b[1;32m   2805\u001b[0m         vmin\u001b[38;5;241m=\u001b[39m\u001b[38;5;28;01mNone\u001b[39;00m, vmax\u001b[38;5;241m=\u001b[39m\u001b[38;5;28;01mNone\u001b[39;00m, alpha\u001b[38;5;241m=\u001b[39m\u001b[38;5;28;01mNone\u001b[39;00m, linewidths\u001b[38;5;241m=\u001b[39m\u001b[38;5;28;01mNone\u001b[39;00m, \u001b[38;5;241m*\u001b[39m,\n\u001b[1;32m   2806\u001b[0m         edgecolors\u001b[38;5;241m=\u001b[39m\u001b[38;5;28;01mNone\u001b[39;00m, plotnonfinite\u001b[38;5;241m=\u001b[39m\u001b[38;5;28;01mFalse\u001b[39;00m, data\u001b[38;5;241m=\u001b[39m\u001b[38;5;28;01mNone\u001b[39;00m, \u001b[38;5;241m*\u001b[39m\u001b[38;5;241m*\u001b[39mkwargs):\n\u001b[0;32m-> 2807\u001b[0m     __ret \u001b[38;5;241m=\u001b[39m \u001b[43mgca\u001b[49m\u001b[43m(\u001b[49m\u001b[43m)\u001b[49m\u001b[38;5;241;43m.\u001b[39;49m\u001b[43mscatter\u001b[49m\u001b[43m(\u001b[49m\n\u001b[1;32m   2808\u001b[0m \u001b[43m        \u001b[49m\u001b[43mx\u001b[49m\u001b[43m,\u001b[49m\u001b[43m \u001b[49m\u001b[43my\u001b[49m\u001b[43m,\u001b[49m\u001b[43m \u001b[49m\u001b[43ms\u001b[49m\u001b[38;5;241;43m=\u001b[39;49m\u001b[43ms\u001b[49m\u001b[43m,\u001b[49m\u001b[43m \u001b[49m\u001b[43mc\u001b[49m\u001b[38;5;241;43m=\u001b[39;49m\u001b[43mc\u001b[49m\u001b[43m,\u001b[49m\u001b[43m \u001b[49m\u001b[43mmarker\u001b[49m\u001b[38;5;241;43m=\u001b[39;49m\u001b[43mmarker\u001b[49m\u001b[43m,\u001b[49m\u001b[43m \u001b[49m\u001b[43mcmap\u001b[49m\u001b[38;5;241;43m=\u001b[39;49m\u001b[43mcmap\u001b[49m\u001b[43m,\u001b[49m\u001b[43m \u001b[49m\u001b[43mnorm\u001b[49m\u001b[38;5;241;43m=\u001b[39;49m\u001b[43mnorm\u001b[49m\u001b[43m,\u001b[49m\n\u001b[1;32m   2809\u001b[0m \u001b[43m        \u001b[49m\u001b[43mvmin\u001b[49m\u001b[38;5;241;43m=\u001b[39;49m\u001b[43mvmin\u001b[49m\u001b[43m,\u001b[49m\u001b[43m \u001b[49m\u001b[43mvmax\u001b[49m\u001b[38;5;241;43m=\u001b[39;49m\u001b[43mvmax\u001b[49m\u001b[43m,\u001b[49m\u001b[43m \u001b[49m\u001b[43malpha\u001b[49m\u001b[38;5;241;43m=\u001b[39;49m\u001b[43malpha\u001b[49m\u001b[43m,\u001b[49m\u001b[43m \u001b[49m\u001b[43mlinewidths\u001b[49m\u001b[38;5;241;43m=\u001b[39;49m\u001b[43mlinewidths\u001b[49m\u001b[43m,\u001b[49m\n\u001b[1;32m   2810\u001b[0m \u001b[43m        \u001b[49m\u001b[43medgecolors\u001b[49m\u001b[38;5;241;43m=\u001b[39;49m\u001b[43medgecolors\u001b[49m\u001b[43m,\u001b[49m\u001b[43m \u001b[49m\u001b[43mplotnonfinite\u001b[49m\u001b[38;5;241;43m=\u001b[39;49m\u001b[43mplotnonfinite\u001b[49m\u001b[43m,\u001b[49m\n\u001b[1;32m   2811\u001b[0m \u001b[43m        \u001b[49m\u001b[38;5;241;43m*\u001b[39;49m\u001b[38;5;241;43m*\u001b[39;49m\u001b[43m(\u001b[49m\u001b[43m{\u001b[49m\u001b[38;5;124;43m\"\u001b[39;49m\u001b[38;5;124;43mdata\u001b[39;49m\u001b[38;5;124;43m\"\u001b[39;49m\u001b[43m:\u001b[49m\u001b[43m \u001b[49m\u001b[43mdata\u001b[49m\u001b[43m}\u001b[49m\u001b[43m \u001b[49m\u001b[38;5;28;43;01mif\u001b[39;49;00m\u001b[43m \u001b[49m\u001b[43mdata\u001b[49m\u001b[43m \u001b[49m\u001b[38;5;129;43;01mis\u001b[39;49;00m\u001b[43m \u001b[49m\u001b[38;5;129;43;01mnot\u001b[39;49;00m\u001b[43m \u001b[49m\u001b[38;5;28;43;01mNone\u001b[39;49;00m\u001b[43m \u001b[49m\u001b[38;5;28;43;01melse\u001b[39;49;00m\u001b[43m \u001b[49m\u001b[43m{\u001b[49m\u001b[43m}\u001b[49m\u001b[43m)\u001b[49m\u001b[43m,\u001b[49m\u001b[43m \u001b[49m\u001b[38;5;241;43m*\u001b[39;49m\u001b[38;5;241;43m*\u001b[39;49m\u001b[43mkwargs\u001b[49m\u001b[43m)\u001b[49m\n\u001b[1;32m   2812\u001b[0m     sci(__ret)\n\u001b[1;32m   2813\u001b[0m     \u001b[38;5;28;01mreturn\u001b[39;00m __ret\n",
          "File \u001b[0;32m/opt/conda/lib/python3.9/site-packages/matplotlib/__init__.py:1412\u001b[0m, in \u001b[0;36m_preprocess_data.<locals>.inner\u001b[0;34m(ax, data, *args, **kwargs)\u001b[0m\n\u001b[1;32m   1409\u001b[0m \u001b[38;5;129m@functools\u001b[39m\u001b[38;5;241m.\u001b[39mwraps(func)\n\u001b[1;32m   1410\u001b[0m \u001b[38;5;28;01mdef\u001b[39;00m \u001b[38;5;21minner\u001b[39m(ax, \u001b[38;5;241m*\u001b[39margs, data\u001b[38;5;241m=\u001b[39m\u001b[38;5;28;01mNone\u001b[39;00m, \u001b[38;5;241m*\u001b[39m\u001b[38;5;241m*\u001b[39mkwargs):\n\u001b[1;32m   1411\u001b[0m     \u001b[38;5;28;01mif\u001b[39;00m data \u001b[38;5;129;01mis\u001b[39;00m \u001b[38;5;28;01mNone\u001b[39;00m:\n\u001b[0;32m-> 1412\u001b[0m         \u001b[38;5;28;01mreturn\u001b[39;00m \u001b[43mfunc\u001b[49m\u001b[43m(\u001b[49m\u001b[43max\u001b[49m\u001b[43m,\u001b[49m\u001b[43m \u001b[49m\u001b[38;5;241;43m*\u001b[39;49m\u001b[38;5;28;43mmap\u001b[39;49m\u001b[43m(\u001b[49m\u001b[43msanitize_sequence\u001b[49m\u001b[43m,\u001b[49m\u001b[43m \u001b[49m\u001b[43margs\u001b[49m\u001b[43m)\u001b[49m\u001b[43m,\u001b[49m\u001b[43m \u001b[49m\u001b[38;5;241;43m*\u001b[39;49m\u001b[38;5;241;43m*\u001b[39;49m\u001b[43mkwargs\u001b[49m\u001b[43m)\u001b[49m\n\u001b[1;32m   1414\u001b[0m     bound \u001b[38;5;241m=\u001b[39m new_sig\u001b[38;5;241m.\u001b[39mbind(ax, \u001b[38;5;241m*\u001b[39margs, \u001b[38;5;241m*\u001b[39m\u001b[38;5;241m*\u001b[39mkwargs)\n\u001b[1;32m   1415\u001b[0m     auto_label \u001b[38;5;241m=\u001b[39m (bound\u001b[38;5;241m.\u001b[39marguments\u001b[38;5;241m.\u001b[39mget(label_namer)\n\u001b[1;32m   1416\u001b[0m                   \u001b[38;5;129;01mor\u001b[39;00m bound\u001b[38;5;241m.\u001b[39mkwargs\u001b[38;5;241m.\u001b[39mget(label_namer))\n",
          "File \u001b[0;32m/opt/conda/lib/python3.9/site-packages/mpl_toolkits/mplot3d/axes3d.py:2389\u001b[0m, in \u001b[0;36mAxes3D.scatter\u001b[0;34m(self, xs, ys, zs, zdir, s, c, depthshade, *args, **kwargs)\u001b[0m\n\u001b[1;32m   2386\u001b[0m \u001b[38;5;28;01mif\u001b[39;00m np\u001b[38;5;241m.\u001b[39mmay_share_memory(zs_orig, zs):  \u001b[38;5;66;03m# Avoid unnecessary copies.\u001b[39;00m\n\u001b[1;32m   2387\u001b[0m     zs \u001b[38;5;241m=\u001b[39m zs\u001b[38;5;241m.\u001b[39mcopy()\n\u001b[0;32m-> 2389\u001b[0m patches \u001b[38;5;241m=\u001b[39m \u001b[38;5;28;43msuper\u001b[39;49m\u001b[43m(\u001b[49m\u001b[43m)\u001b[49m\u001b[38;5;241;43m.\u001b[39;49m\u001b[43mscatter\u001b[49m\u001b[43m(\u001b[49m\u001b[43mxs\u001b[49m\u001b[43m,\u001b[49m\u001b[43m \u001b[49m\u001b[43mys\u001b[49m\u001b[43m,\u001b[49m\u001b[43m \u001b[49m\u001b[43ms\u001b[49m\u001b[38;5;241;43m=\u001b[39;49m\u001b[43ms\u001b[49m\u001b[43m,\u001b[49m\u001b[43m \u001b[49m\u001b[43mc\u001b[49m\u001b[38;5;241;43m=\u001b[39;49m\u001b[43mc\u001b[49m\u001b[43m,\u001b[49m\u001b[43m \u001b[49m\u001b[38;5;241;43m*\u001b[39;49m\u001b[43margs\u001b[49m\u001b[43m,\u001b[49m\u001b[43m \u001b[49m\u001b[38;5;241;43m*\u001b[39;49m\u001b[38;5;241;43m*\u001b[39;49m\u001b[43mkwargs\u001b[49m\u001b[43m)\u001b[49m\n\u001b[1;32m   2390\u001b[0m art3d\u001b[38;5;241m.\u001b[39mpatch_collection_2d_to_3d(patches, zs\u001b[38;5;241m=\u001b[39mzs, zdir\u001b[38;5;241m=\u001b[39mzdir,\n\u001b[1;32m   2391\u001b[0m                                 depthshade\u001b[38;5;241m=\u001b[39mdepthshade)\n\u001b[1;32m   2393\u001b[0m \u001b[38;5;28;01mif\u001b[39;00m \u001b[38;5;28mself\u001b[39m\u001b[38;5;241m.\u001b[39m_zmargin \u001b[38;5;241m<\u001b[39m \u001b[38;5;241m0.05\u001b[39m \u001b[38;5;129;01mand\u001b[39;00m xs\u001b[38;5;241m.\u001b[39msize \u001b[38;5;241m>\u001b[39m \u001b[38;5;241m0\u001b[39m:\n",
          "File \u001b[0;32m/opt/conda/lib/python3.9/site-packages/matplotlib/__init__.py:1412\u001b[0m, in \u001b[0;36m_preprocess_data.<locals>.inner\u001b[0;34m(ax, data, *args, **kwargs)\u001b[0m\n\u001b[1;32m   1409\u001b[0m \u001b[38;5;129m@functools\u001b[39m\u001b[38;5;241m.\u001b[39mwraps(func)\n\u001b[1;32m   1410\u001b[0m \u001b[38;5;28;01mdef\u001b[39;00m \u001b[38;5;21minner\u001b[39m(ax, \u001b[38;5;241m*\u001b[39margs, data\u001b[38;5;241m=\u001b[39m\u001b[38;5;28;01mNone\u001b[39;00m, \u001b[38;5;241m*\u001b[39m\u001b[38;5;241m*\u001b[39mkwargs):\n\u001b[1;32m   1411\u001b[0m     \u001b[38;5;28;01mif\u001b[39;00m data \u001b[38;5;129;01mis\u001b[39;00m \u001b[38;5;28;01mNone\u001b[39;00m:\n\u001b[0;32m-> 1412\u001b[0m         \u001b[38;5;28;01mreturn\u001b[39;00m \u001b[43mfunc\u001b[49m\u001b[43m(\u001b[49m\u001b[43max\u001b[49m\u001b[43m,\u001b[49m\u001b[43m \u001b[49m\u001b[38;5;241;43m*\u001b[39;49m\u001b[38;5;28;43mmap\u001b[39;49m\u001b[43m(\u001b[49m\u001b[43msanitize_sequence\u001b[49m\u001b[43m,\u001b[49m\u001b[43m \u001b[49m\u001b[43margs\u001b[49m\u001b[43m)\u001b[49m\u001b[43m,\u001b[49m\u001b[43m \u001b[49m\u001b[38;5;241;43m*\u001b[39;49m\u001b[38;5;241;43m*\u001b[39;49m\u001b[43mkwargs\u001b[49m\u001b[43m)\u001b[49m\n\u001b[1;32m   1414\u001b[0m     bound \u001b[38;5;241m=\u001b[39m new_sig\u001b[38;5;241m.\u001b[39mbind(ax, \u001b[38;5;241m*\u001b[39margs, \u001b[38;5;241m*\u001b[39m\u001b[38;5;241m*\u001b[39mkwargs)\n\u001b[1;32m   1415\u001b[0m     auto_label \u001b[38;5;241m=\u001b[39m (bound\u001b[38;5;241m.\u001b[39marguments\u001b[38;5;241m.\u001b[39mget(label_namer)\n\u001b[1;32m   1416\u001b[0m                   \u001b[38;5;129;01mor\u001b[39;00m bound\u001b[38;5;241m.\u001b[39mkwargs\u001b[38;5;241m.\u001b[39mget(label_namer))\n",
          "File \u001b[0;32m/opt/conda/lib/python3.9/site-packages/matplotlib/axes/_axes.py:4378\u001b[0m, in \u001b[0;36mAxes.scatter\u001b[0;34m(self, x, y, s, c, marker, cmap, norm, vmin, vmax, alpha, linewidths, edgecolors, plotnonfinite, **kwargs)\u001b[0m\n\u001b[1;32m   4374\u001b[0m s \u001b[38;5;241m=\u001b[39m np\u001b[38;5;241m.\u001b[39mma\u001b[38;5;241m.\u001b[39mravel(s)\n\u001b[1;32m   4375\u001b[0m \u001b[38;5;28;01mif\u001b[39;00m (\u001b[38;5;28mlen\u001b[39m(s) \u001b[38;5;129;01mnot\u001b[39;00m \u001b[38;5;129;01min\u001b[39;00m (\u001b[38;5;241m1\u001b[39m, x\u001b[38;5;241m.\u001b[39msize) \u001b[38;5;129;01mor\u001b[39;00m\n\u001b[1;32m   4376\u001b[0m         (\u001b[38;5;129;01mnot\u001b[39;00m np\u001b[38;5;241m.\u001b[39missubdtype(s\u001b[38;5;241m.\u001b[39mdtype, np\u001b[38;5;241m.\u001b[39mfloating) \u001b[38;5;129;01mand\u001b[39;00m\n\u001b[1;32m   4377\u001b[0m          \u001b[38;5;129;01mnot\u001b[39;00m np\u001b[38;5;241m.\u001b[39missubdtype(s\u001b[38;5;241m.\u001b[39mdtype, np\u001b[38;5;241m.\u001b[39minteger))):\n\u001b[0;32m-> 4378\u001b[0m     \u001b[38;5;28;01mraise\u001b[39;00m \u001b[38;5;167;01mValueError\u001b[39;00m(\n\u001b[1;32m   4379\u001b[0m         \u001b[38;5;124m\"\u001b[39m\u001b[38;5;124ms must be a scalar, \u001b[39m\u001b[38;5;124m\"\u001b[39m\n\u001b[1;32m   4380\u001b[0m         \u001b[38;5;124m\"\u001b[39m\u001b[38;5;124mor float array-like with the same size as x and y\u001b[39m\u001b[38;5;124m\"\u001b[39m)\n\u001b[1;32m   4382\u001b[0m \u001b[38;5;66;03m# get the original edgecolor the user passed before we normalize\u001b[39;00m\n\u001b[1;32m   4383\u001b[0m orig_edgecolor \u001b[38;5;241m=\u001b[39m edgecolors\n",
          "\u001b[0;31mValueError\u001b[0m: s must be a scalar, or float array-like with the same size as x and y"
         ]
        }
       ]
      }
     },
     "ba126adc6c844f0093bdc63948806688": {
      "model_module": "@jupyter-widgets/controls",
      "model_module_version": "1.5.0",
      "model_name": "DescriptionStyleModel",
      "state": {
       "description_width": ""
      }
     },
     "ba36430434d34728b944c4358b88d544": {
      "model_module": "@jupyter-widgets/base",
      "model_module_version": "1.2.0",
      "model_name": "LayoutModel",
      "state": {}
     },
     "bb0212da7a994f0caef44f1207811f10": {
      "model_module": "@jupyter-widgets/controls",
      "model_module_version": "1.5.0",
      "model_name": "IntSliderModel",
      "state": {
       "description": "updates",
       "layout": "IPY_MODEL_c505b0866c4e4fe99c4bc9249c025ebd",
       "max": 10,
       "style": "IPY_MODEL_17dfa1710eed417b89e72ccc04cf6a12",
       "value": 5
      }
     },
     "bdbf57327c0a4a7ba8647af81b40591e": {
      "model_module": "@jupyter-widgets/controls",
      "model_module_version": "1.5.0",
      "model_name": "VBoxModel",
      "state": {
       "_dom_classes": [
        "widget-interact"
       ],
       "children": [
        "IPY_MODEL_93baf808e5ab4abfb1b7674e7887cc3f",
        "IPY_MODEL_ff86511454004bcab80e898c3c322b52"
       ],
       "layout": "IPY_MODEL_c1fa6e059565463499cafd8309736ae1"
      }
     },
     "be46e6ba352945cd87b3d5ed7805ffcc": {
      "model_module": "@jupyter-widgets/controls",
      "model_module_version": "1.5.0",
      "model_name": "HTMLMathModel",
      "state": {
       "layout": "IPY_MODEL_f1c535c9d90341ffa33a1ffaf97b5c32",
       "style": "IPY_MODEL_f140470165ae4f9285e09fa670cbb02e",
       "value": "<h4>The selected point $x=[-3.5,-1.5]$ was <span class='text-success'>correctly classified</span>. No update occures.</h4>"
      }
     },
     "bf649ed9352949a08b58ea7ccc4b64d7": {
      "model_module": "@jupyter-widgets/controls",
      "model_module_version": "1.5.0",
      "model_name": "HTMLMathModel",
      "state": {
       "layout": "IPY_MODEL_9b6c80c9df694ac9bf8dbf093328a108",
       "style": "IPY_MODEL_97326c6b97ba4e7782ac965bba8a2f45",
       "value": "<h4>The selected point $x=[3.5,1.5]$ was <span class='text-success'>correctly classified</span>. No update occures.</h4>"
      }
     },
     "c145ebdabba24e8ba8370fd2d5a3c62d": {
      "model_module": "@jupyter-widgets/controls",
      "model_module_version": "1.5.0",
      "model_name": "IntSliderModel",
      "state": {
       "description": "updates",
       "layout": "IPY_MODEL_15710775cc7c4c0e9ed013abe2c0eaa8",
       "max": 10,
       "style": "IPY_MODEL_176260b1618e41aa97a8cc476cc8da42",
       "value": 5
      }
     },
     "c1fa6e059565463499cafd8309736ae1": {
      "model_module": "@jupyter-widgets/base",
      "model_module_version": "1.2.0",
      "model_name": "LayoutModel",
      "state": {}
     },
     "c2c408fcea544bf29545ac5eaaacab9f": {
      "model_module": "@jupyter-widgets/output",
      "model_module_version": "1.0.0",
      "model_name": "OutputModel",
      "state": {
       "layout": "IPY_MODEL_cc8909edb1194843985208e3f58df8b8",
       "outputs": [
        {
         "name": "stdout",
         "output_type": "stream",
         "text": "Petal_Width = 0.0 Petal_Length + 0.0\n"
        },
        {
         "data": {
          "image/png": "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\n",
          "text/plain": "<Figure size 576x360 with 1 Axes>"
         },
         "metadata": {
          "needs_background": "light"
         },
         "output_type": "display_data"
        }
       ]
      }
     },
     "c335708289b949e684a048499cbba351": {
      "model_module": "@jupyter-widgets/base",
      "model_module_version": "1.2.0",
      "model_name": "LayoutModel",
      "state": {}
     },
     "c505b0866c4e4fe99c4bc9249c025ebd": {
      "model_module": "@jupyter-widgets/base",
      "model_module_version": "1.2.0",
      "model_name": "LayoutModel",
      "state": {}
     },
     "c61a84122f5a41d395af9e2e8b81360e": {
      "model_module": "@jupyter-widgets/base",
      "model_module_version": "1.2.0",
      "model_name": "LayoutModel",
      "state": {}
     },
     "c83bf31f91cd48a5aa61a6076d9366e9": {
      "model_module": "@jupyter-widgets/controls",
      "model_module_version": "1.5.0",
      "model_name": "HTMLMathModel",
      "state": {
       "layout": "IPY_MODEL_755b5f63557f42d7a80df18b82c58026",
       "style": "IPY_MODEL_549bc561b8144d70bd53a3204eefa747",
       "value": "<h4>The selected point $x=[3.5,1.5]$ was <span class='text-success'>correctly classified</span>. No update occures.</h4>"
      }
     },
     "caba11fdcf7148df808fd87b3cf65c2c": {
      "model_module": "@jupyter-widgets/base",
      "model_module_version": "1.2.0",
      "model_name": "LayoutModel",
      "state": {}
     },
     "cafafac8f3024fdebb562f34fe244ff6": {
      "model_module": "@jupyter-widgets/controls",
      "model_module_version": "1.5.0",
      "model_name": "VBoxModel",
      "state": {
       "_dom_classes": [
        "widget-interact"
       ],
       "children": [
        "IPY_MODEL_c145ebdabba24e8ba8370fd2d5a3c62d",
        "IPY_MODEL_79f265acd5d1497a9e197307117da0e1"
       ],
       "layout": "IPY_MODEL_c335708289b949e684a048499cbba351"
      }
     },
     "cb1e83e222f24268aa76699ee753a6c4": {
      "model_module": "@jupyter-widgets/controls",
      "model_module_version": "1.5.0",
      "model_name": "SliderStyleModel",
      "state": {
       "description_width": ""
      }
     },
     "cc3b525158dc432a8e56d1a8fe328211": {
      "model_module": "@jupyter-widgets/controls",
      "model_module_version": "1.5.0",
      "model_name": "HTMLMathModel",
      "state": {
       "layout": "IPY_MODEL_b3c48d895fc945888b5d060b19f12f2b",
       "style": "IPY_MODEL_162a1e6bfde348eca9ee429b6c6bd968",
       "value": "<h4>The selected point $x=[-3.5,1.0]$ was <span class='text-success'>correctly classified</span>. No update occures.</h4>"
      }
     },
     "cc8909edb1194843985208e3f58df8b8": {
      "model_module": "@jupyter-widgets/base",
      "model_module_version": "1.2.0",
      "model_name": "LayoutModel",
      "state": {}
     },
     "ccc37d56c3a5494192ed86285080c0d9": {
      "model_module": "@jupyter-widgets/controls",
      "model_module_version": "1.5.0",
      "model_name": "IntSliderModel",
      "state": {
       "description": "updates",
       "layout": "IPY_MODEL_62987580544141caa59ed16a368aafb8",
       "max": 10,
       "style": "IPY_MODEL_af7762946f9646b2ad2f391d916a1b17",
       "value": 10
      }
     },
     "d3b6d1e43bbf4aa6bf93466e8b755dfa": {
      "model_module": "@jupyter-widgets/controls",
      "model_module_version": "1.5.0",
      "model_name": "VBoxModel",
      "state": {
       "_dom_classes": [
        "widget-interact"
       ],
       "children": [
        "IPY_MODEL_ccc37d56c3a5494192ed86285080c0d9",
        "IPY_MODEL_ede28670a0604bdc821463461519af6f"
       ],
       "layout": "IPY_MODEL_5466a92f9d09410f918f0ab7631b29c1"
      }
     },
     "d3e6f01a73d54bf99fd5e84756210813": {
      "model_module": "@jupyter-widgets/controls",
      "model_module_version": "1.5.0",
      "model_name": "IntSliderModel",
      "state": {
       "description": "step",
       "layout": "IPY_MODEL_73661fc98b8d444c83a549b1fa9c9c3c",
       "max": 10,
       "style": "IPY_MODEL_df4aae65574340ee8dfd701cfb1918ce",
       "value": 5
      }
     },
     "d433cd8a5d304309bae83fcf68f6490a": {
      "model_module": "@jupyter-widgets/controls",
      "model_module_version": "1.5.0",
      "model_name": "HTMLMathModel",
      "state": {
       "layout": "IPY_MODEL_9a0105b90eda400f9f21287700249808",
       "style": "IPY_MODEL_2e07c9e689b74e7299f407db72792bc0",
       "value": "<h4>The selected point $x=[-3.5,1.0]$ was <span class='text-success'>correctly classified</span>. No update occures.</h4>"
      }
     },
     "d785bb9ba12d4b2f9e86c57123ad1787": {
      "model_module": "@jupyter-widgets/controls",
      "model_module_version": "1.5.0",
      "model_name": "VBoxModel",
      "state": {
       "_dom_classes": [
        "widget-interact"
       ],
       "children": [
        "IPY_MODEL_95edf5dbaa604a9e804602e91ed0561d",
        "IPY_MODEL_4fc531ccc7254beb8407ba2615b2c1b8",
        "IPY_MODEL_f947c42a79ad42868100c4419a05d1d8"
       ],
       "layout": "IPY_MODEL_219633e1b4a64abcb59fd9afae5d1ed1"
      }
     },
     "db92ad76e3a24b1b9103029d72348af8": {
      "model_module": "@jupyter-widgets/controls",
      "model_module_version": "1.5.0",
      "model_name": "HTMLMathModel",
      "state": {
       "layout": "IPY_MODEL_96dad178872e48c2b98a6ab78c028a4c",
       "style": "IPY_MODEL_f38392396ff74be49c182456774beb1c",
       "value": "<h4>The selected point $x=[-3.5,1.0]$ was <span class='text-success'>correctly classified</span>. No update occures.</h4>"
      }
     },
     "dc92ac9c65b3409aac2118d12b97325e": {
      "model_module": "@jupyter-widgets/base",
      "model_module_version": "1.2.0",
      "model_name": "LayoutModel",
      "state": {}
     },
     "df4aae65574340ee8dfd701cfb1918ce": {
      "model_module": "@jupyter-widgets/controls",
      "model_module_version": "1.5.0",
      "model_name": "SliderStyleModel",
      "state": {
       "description_width": ""
      }
     },
     "e4057f9449054d43b52935a16bb6f087": {
      "model_module": "@jupyter-widgets/controls",
      "model_module_version": "1.5.0",
      "model_name": "DescriptionStyleModel",
      "state": {
       "description_width": ""
      }
     },
     "e4d5d1f2a42f4f6daa1e53e75a9a4992": {
      "model_module": "@jupyter-widgets/base",
      "model_module_version": "1.2.0",
      "model_name": "LayoutModel",
      "state": {}
     },
     "e5ce4c18f1eb4d0cb7a9ed599a4ca2fb": {
      "model_module": "@jupyter-widgets/controls",
      "model_module_version": "1.5.0",
      "model_name": "SliderStyleModel",
      "state": {
       "description_width": ""
      }
     },
     "e6713f66c2e040218d4fe4045f1da749": {
      "model_module": "@jupyter-widgets/base",
      "model_module_version": "1.2.0",
      "model_name": "LayoutModel",
      "state": {}
     },
     "e7621bd490634de7a54e14157fccdcf9": {
      "model_module": "@jupyter-widgets/controls",
      "model_module_version": "1.5.0",
      "model_name": "DescriptionStyleModel",
      "state": {
       "description_width": ""
      }
     },
     "e91c8e52fc044bc1a43ad6ca8acfd30c": {
      "model_module": "@jupyter-widgets/controls",
      "model_module_version": "1.5.0",
      "model_name": "SliderStyleModel",
      "state": {
       "description_width": ""
      }
     },
     "e9c34f1b4e9047358fe8fe357fded0db": {
      "model_module": "@jupyter-widgets/base",
      "model_module_version": "1.2.0",
      "model_name": "LayoutModel",
      "state": {}
     },
     "eb53fc194fbf43ad8c3fb01508a8e951": {
      "model_module": "@jupyter-widgets/controls",
      "model_module_version": "1.5.0",
      "model_name": "DescriptionStyleModel",
      "state": {
       "description_width": ""
      }
     },
     "ede28670a0604bdc821463461519af6f": {
      "model_module": "@jupyter-widgets/output",
      "model_module_version": "1.0.0",
      "model_name": "OutputModel",
      "state": {
       "layout": "IPY_MODEL_0928970eb8444393ba11c72bb9671db3",
       "outputs": [
        {
         "data": {
          "image/png": "iVBORw0KGgoAAAANSUhEUgAAAeIAAAHSCAYAAAAwk8gOAAAAOXRFWHRTb2Z0d2FyZQBNYXRwbG90bGliIHZlcnNpb24zLjUuMSwgaHR0cHM6Ly9tYXRwbG90bGliLm9yZy/YYfK9AAAACXBIWXMAAAsTAAALEwEAmpwYAAAlo0lEQVR4nO3de3Cc9X3v8c9Pd+tqWxfrsrJlcoEYQ8DIxmBDjDHUIWBIWxrItMFxW3MotNBp6Elg+kdPppeZUgidkAYT0pwJFJIpTZOGQAJz8LSmpYNxSCjhOg0xK8myZMuWLFmypP2dP9ZevBfdvM/udy/v14wm+zy7fva7G4uPf9fHee8FAABslFgXAABAMSOIAQAwRBADAGCIIAYAwBBBDACAIYIYAABDZRZv2tTU5Lu6uizeGihqY2Njqq6uti4DKDqvvPLKoPe+OdVzJkHc1dWlvXv3Wrw1UNR2796tTZs2WZcBFB3n3K9meo6uaQAADBHEAAAYIogBADBEEAMAYIggBgDAEEEMAIAhghgAAEMEMQAAhghiAAAMEcQAABgiiAEAMEQQAwBgiCAGAMAQQQwAgCGCGAAAQwQxAACGCGIAAAwRxAAAGCKIAQAwRBADAGCIIAYAwBBBDACAIYIYAABDBDEAAIYIYgAADBHEAAAYIogBADBEEAMAYIggBgDAEEEMAIAhghgAAEMEMQAAhghiAAAMEcQAABgiiAEAMEQQAwBgiCAGAMAQQQwAgKHAgtg5V+qc+6lz7odBXRMAgEIXZIv4TklvBHg9AAAKXiBB7JwLSfqUpG8EcT0AAIpFUC3ir0j6U0mRmV7gnNvpnNvrnNs7MDAQ0NsCAJDf0g5i59y1kg5671+Z7XXe+13e+27vfXdzc3O6bwsAQEEIokW8QdI259x7kp6UtNk591gA1wUAoOClHcTe+y9570Pe+y5JN0n6f9773067MgAAigDriAEAMFQW5MW897sl7Q7ymgAAFDJaxAAAGCKIAQAwRBADAGCIIAYAwBBBDACAIYIYAABDBDEAAIYIYgAADBHEAAAYIogBADBEEAMAYIggBgDAEEEMFIHJSeknP5F+8Qvp0CHragCcjiAGCtwrr0htbdKNN0o/+IEUCkkPPmhdFYBTCGKggE1OSlu3RlvBw8PSxIQ0Pi7dc4/08svW1QGQCGKgoL3wQjR8E42PS488kv16ACQjiIECNjKS+nwkIg0NZbcWAKkRxEAB+8Qnot3TiWpqpN/8zezXAyAZQQwUsKYm6a/+SqqulkpO/rbX1Ejr1km/8Ru2tQGIKrMuAEBm3XWXtGGD9PDDUmWldNtt0q//ulTGbz+QE/hVBIrA2rXRn927pU2brKsBcDq6pgEAMEQQAwBgiCAGAMAQQQwAgCGCGAAAQwQxAACGCGIAAAwRxAAAGCKIAQAwRBADAGCIIAYAwBBBDACAIYIYAABD3H0JBevNN6VvflM6dEi67rroT2mpdVUAEI8gRkF67DFp505pclKampK++13p4oulZ56RysutqwOAD9A1jYIzOirdeqt0/Hg0hCXp2DHppZek73zHtjYASEQQo+Ds2SOVpejrGR2Vnngi+/UAwGwIYhScqirJ+9TP1dRktxYAmAtBjIKzYUM0jBPV1ETHjQEglxDEKDhlZdLTT0tLlkh1dVJtrVRZKf3RH0lbtlhXBwDxmDWNgrR2rdTXF50lffSodMUV0vLl1lUBQDKCGAWrslK64QbrKgBgdnRNAwBgiCAGAMAQQQwAgCGCGAAAQwQxAACGCGIAAAwRxAAAGCKIAQAwRBADAGCIIAYAwBBBDACAIYIYAABDBDEAAIYIYgDIYb/6lbR9u9TRIX3849K3vy15b10VgsRtEAEgR/X1SWvWRO+pPT0t9fZKt90mvfmm9Bd/YV0dgkKLGABy1N/+rXTsWDSETxkdle6/XxoasqsLwSKIASBH7d4tnTiRfL6yUnr99ayXgwwhiAEgR33oQ5JzyecnJqRQKPv1IDMIYgDIUXffLS1aFH+uslLauFHq6jIpCRlAEANAjurulh57TFq2LBrIlZXSNddITz1lXRmCxKxpAMhhn/60dP310vvvS4sXSw0N1hUhaAQxAOS4khJpxQrrKpApdE0DAGCIIAYAwBBBDACAIYIYAABDBDEAAIYIYgAADBHEAAAYIogBADBEEAMAYIggBgDAEEEMAIAhghgAAEMEMQAAhtIOYudcp3PuBefcG865151zdwZRGAAAxSCI2yBOSfoT7/0+51ydpFecc895738RwLUBAChoabeIvfd93vt9Jx+PSHpDUke61wUAoBgEOkbsnOuSdKGk/0rx3E7n3F7n3N6BgYEg3xYAgLwVWBA752olPSXpLu/9cOLz3vtd3vtu7313c3NzUG8LAEBeCySInXPliobw4977fw7imgAAFIMgZk07SY9KesN7f3/6JQEAUDyCaBFvkPQ7kjY75149+XNNANcFAKDgpb18yXu/R5ILoBYAAIoOO2sBAGCIIAYAwBBBDACAIYIYAABDBDEAAIYIYgAADBHEAAAYIogBADBEEAMAYIggBgDAEEEMAIAhghgAAENp3/QBAIDTeS+9+KL03nvSRRdJH/uYdUW5jSAGAASmv1/avFnavz96PD0tbd0qfec7Unm5bW25iq5pAEBgbrlFeucd6dix6M/x49Kzz0r3329dWe4iiAEAgRgell54QZqcjD9//Lj09a/b1JQPCGIAQCAmJmZ+7vjx7NWRbwhiAEAgmpuls85KPl9eLl1/ffbryRcEMQAgMN/6llRbK1VWRo+rq6Vly6Qvf9m0rJzGrGkAQGAuvlh6801p1y7p7beljRulz31Oqquzrix3EcQAgEB1dEh//ufWVeQPuqYBADBEEAMAYIggBgDAEEEMAIAhghgAAEMEMQAAhghiAAAMEcQAABgiiAEAMEQQAwBgiCAGAMAQQQwAgCGCGAAAQ9x9yUAkIj3zjPTd70qLFkmf/3z01mEAgOJDEGeZ99JnPhMN4tFRqaRE+va3pXvvle65x7o6AEC20TWdZc8//0EIS9HW8diY9OUvSz09trUBALKPIM6y733vgxA+XWmp9OMfZ78eAIAtgjjL6uqioZuopESqqcl+PQAAWwRxlt1yi1RRkXzee+naa7NfDwDAFkGcZatWSQ88IFVVRVvH9fXR//3BD2gRA0AxYta0gVtvlW68UXruuWggX311dBkTAKD4EMRGli6NLmMCABQ3uqYBADBEEAMAYIggBgDAEEEMAIAhghgAAEMEMQAAhghiAAAMEcQAABgiiAEAMEQQAwBgiCAGAMAQQQwAgCGCGAAAQ9x9CQCADJientaBAwcUDodnfR1BDADAAk1MTKinp0c9PT0Kh8Oxn9OPDx48qMbGRnV0dMx6LYIYAIDTjIyMzBqwPT09OnLkiNra2hQKhWI/K1as0IYNGxQKhdTR0aG2tjZVVFRIkpxzM74fQQwAKAreex0+fDhluJ5+PDk5GRewHR0dWr16tbZu3aqOjg6FQiG1tLSopCSYaVYEMQAg701PT6u/vz9l6/X0x1VVVbFwPRW0l156adzx4sWLZ23BBo0gBgDktBMnTqi3t3fWruIDBw5o6dKlcYHa0dGhc889N+64pqbG+uMkIYgBAGaOHTsWC9WZuoqHhobU2toaF6ihUEjr16+PPW5vb4+Nx+YbghgAEDjvvYaGhmYN2HA4rImJiaSAXbVqla666qrY+ZaWFpWWllp/pIwhiAEACxKJRNTf3z/jWOyp44qKiqTx2IsvvjgueJcuXZrV8dhcRBADAGJOnDihvr6+Gcdiw+Gw+vr6tHjx4qSZxVu2bIk97ujoUF1dnfXHyQsEMQAUidHR0Tk3oTh8+LCWLVuW1JJdt25d3HhsZWWl9ccpGAQxAOQ5772OHDky5yYUY2NjSQF79tln68orr4wdL1u2rKDHY3MRQQwAOSwSiWhgYGDOTSjKysqSlu50d3frhhtuiB03NjYW/XhsLiKIAcDI5ORkbDx2polPfX19qq+vT5pZvHnz5tjjjo4O1dfXW38cnCGCGAAy4Pjx43N2FQ8ODqqlpSWpu/iiiy6KPW5vb1dVVZX1x0EGEcQAsADeew0PD8/ZVTw6Oqr29va4mcUf/vCHtWnTpljwtra2qqyM/wwXO/4GAMBJkUhEg4ODc25C4ZxL6ipes2aNtm3bFjtuampiPBbzQhADKApTU1Pq6+ubdROK3t5e1dXVJXUVb9q0Ke6Y8VgEiSAGkPfGx8dnveNOOBzWwMCAmpubk2YWX3DBBXHjsYsWLbL+OCgyBDGAnHZqPHa2ruKRkZG48diOjg6dddZZuvzyy+PGY8vLy60/DpCEIAZgwnuvwcHBOWcWRyKRpPHYCy64QJ/61Kdi55uamgK7STuQbQQxgMBNT0/rwIEDs84s7unpUU1NTVxXcSgU0saNG+OCt6GhgUlPKGiBBLFzbqukByWVSvqG9/6vg7gugNwzMTGR8v6xpz8+ePCgGhsbk1qy559/ftxNAaqrq60/DmAu7SB2zpVKekjSVZLCkl52zv3Ae/+LdK8NILtGRkbm7Co+evSo2tra4gK2q6tLGzdujB23tbUxHgvMUxAt4nWS3vXe/48kOeeelHS9JIIYyBHeex0+fFjvvvuuRkdHZ2zNTk1NJS3dOe+887R169bYcXNzM+OxQICCCOIOSe+fdhyWdHHii5xzOyXtlKRQKKTdu3cH8NYApqenNTQ0pIGBAQ0ODmpgYCD2c+r44MBBlZWXqba+VuUN5erq6NJHOz+q5uZmnXPOOWpublZTU5Nqa2tnHI8dGRnRG2+8oTfeeCPLnxAobEEEcarfWp90wvtdknZJUnd3t9+0aVMAbw0UtomJCfX29s66CUV/f7+WLl0aNx6bOBb78X/8uMZLxrVe67Vbu7V943b95ZV/af3xACiYIA5L6jztOCSpN4DrAgXt2LFjc25CMTQ0pLa2triu4s7OTq1fvz523NbWpoqKilnfa3nTcr1z+J3Y8fvD78/yagDZFEQQvyzpI865lZJ6JN0k6bMBXBfIS957DQ0NzbkJxYkTJ5KW7qxatUpXX311rDXb0tISyE3aOxs644J4/9H9aV8TQDDSDmLv/ZRz7g5JP1Z0+dI3vfevp10ZkIOmp6d18ODBOWcWV1RUJC3dOdWKPXW8ZMmSrK2P7azvjDt+/ygtYiBXBLKO2Hv/I0k/CuJagJUTJ07EbtI+U2u2r69PS5YsSZpZvGrVqribtNfW1lp/nDiJQRweDiviIypxzH4GrLGzForC6OjonJtQHD58WK2trUk3BVi3bl3ceGxlZaX1x1mwzob4IJ6MTOrg6EG11rYaVQTgFIIYec17ryNHjszZVXz8+PGkgD3nnHO0ZcuW2Plly5YFMh6bi5Y3LE869/7R9wliIAcQxMhZkUhEAwMDswZsOBxWWVlZUlfx2rVrdcMNN8SOly5dWtT7FSd2TUvRCVtrO9YaVAPgdAQxTExOTsbGY2dqzfb19amhoSFpZvHmzZvjWrZ1dXXWHyfnJXZNSyxhAnIFQYzAjY2Nxe6uM9PEp0OHDqmlpSUuYDs6OtTd3R173N7erqqqKuuPUxDqK+tVX1kvTXxwjpnTQG4giDFv3vvYTdpn6yoeHR2Nm0EcCoX0kY98RFdccUXceGxZGX/9sqmzvlMa+OCYFjGQG/gvISRFx2MHBwfn3ITCOafOzs647uI1a9Zo27ZtsePGxsaiHo/NVcsbluv4wPHYMUEM5AaCuAhMTU2pr69v1oDt6+tTbW1tUlfxpk2b4lq29fX11h8HZ6izvlNv6+3YMbtrAbmBIM5z4+Pjs47F9vT0aGBgQM3NzUk7Pa1Zsyb2uL29XYsWLbL+OMigzob4IO4b6dPk9KTKS7lvMGCJIM5hp4/HzhS2IyMjSeOxH/rQh3T55ZfHgre1tZXxWCQtYfLy6h3p1YrFK4wqAiARxCa89xocHJxzE4pIJBLXVRwKhXTBBRfo2muvjQVvU1MTN2nHvMy0hIkgBmwRxAGbmppSf3//rAHb09OjmpqapK7iyy67LGk8lklPCEqqTT1YwgTYI4gXYHx8XL29vbPOLD548KCampqSdno6daP2U+cZj0W2hepDSeeYsAXYI4hPGhkZmXUsNhwOa3h4WO3t7XEB29XVpY0bN8YCtq2tTeXlTH5B7llUvkjVZdXS1AfnWMIE2Cv4IPbe6/Dhw3NuQjE1NZW0dOe8887TJz/5yVjwNjc3Mx6LvNZQ1SAd++CYIAbs5XUQT09Px43HpgrYnp4eLVq0KGk8dsOGDXEt24aGBsZjUfDqK+vjg5gxYsBczgbxxMSEent7Z51Z3N/fr8bGxqSbAqxevToueKurq60/DpATGiob4o5pEQP2TII4EonorbfemnUTiiNHjqi1tTUuUJcvX65LL700bjy2oqLC4iMAeam+Mn5ntMGxQY1Njqm6nH+sAlZMgvjVV1/VddddF9dVfO655+rqq6+OBW9LSwvjsUDAGqoaks6Fh8P6aONHDaoBIBkF8Zo1a7R3716LtwaKWmKLWIqOExPEgB2anEARSRwjlhgnBqwRxEARqausU4mL/7Vn5jRgiyAGikiJK1F7XXvcOXbXAmwRxECRSdxzmq5pwBZBDBSZxLswEcSALYIYKDJJLWLGiAFTBDFQZBKDeOTEiI6OHzWqBgBBDBSZ5Q3Lk87RPQ3YIYiBIpM4RiwxcxqwRBADRSaxa1pinBiwRBADRaa5plkVpfE3S6FrGrBDEANFpsSVKFQfijtHEAN2CGKgCCVO2KJrGrBDEANFKHGcmMlagB2CGChCiUEcHg7Le29UDTBPY2PSww9Ln/60dOed0ptvWlcUCJP7EQOwlbiEaWJ6QgNjA2qpaTGqCJjD8LC0dq0UDkcDuaxM+sY3pCeflK67zrq6tNAiBooQS5iQdx54QNq/PxrCkjQ1FX28fXv0cR4jiIEixO5ayDv/9E/S+Hjy+RMnpNdfz349ASKIgSLE7lrIO/X1qc9PT0t1ddmtJWAEMVCEGiobVFtRG3eOrmnktD/8Q6mmJv5cSYl09tnSWWfZ1BQQghgoQs655Nsh0jWNXPaZz0i/+7tSZWW0BVxXJ61YIf3Lv1hXljaCGChSid3TBDFymnPSgw9K774rPfqo9PTT0ccrVlhXljaWLwFFank9u2shD4VC0o03WlcRKFrEQJFKbBH3jPRoKpLfy0CAfEQQA0UqcYw44iPqG+kzqgYoXgQxUKRSLWFinBjIPoIYKFLsrgXkBoIYKFK0iIHcQBADRaq6vFqNixrjzrG7FpB9BDFQxFhLDNgjiIEilrS7FmPEQNYRxEARY5tLwB5BDBSxxNshHhw9qPGpFLeaA5AxBDFQxFLNnA4Phw0qAYoXQQwUMdYSA/YIYqCIsZYYsEcQWxgYkHbulJqbpY4O6c/+TBpnXA7Z11HXIScXd44WMZBd3AYx28bGpLVrpd5eaXIyeu6++6T//E/p+edta0PRKS8tV1tdm3pHemPnaBED2UWLONuefFIaHPwghKVoa/ill6S9e+3qQtFKHCdmdy0guwjibPuP/5BGR5PPey/99KfZrwdFj921AFsEcbadc460aFHy+dJSaeXK7NeDosfuWoAtgjjbtm+Xysvjz5WVSa2t0ubNJiWhuCUG8dGJoxqZGDGqBig+BHG2NTVJ//7v0oUXRgO5vFy68krp3/5NKuH/DmRf4u5aEt3TQDYxa9rC+edL+/ZJR49GW8M1NdYVoYilWku8/+h+rWpeZVANUHwIYksNDdYVAOyuBRijLxQocstql6m8JH7eAl3TQPYQxECRK3El6qjviDtHEAPZQxADSJqwRdc0kD0EMQB21wIMEcQAkjf1GH5f3nujaoDiQhADSFrCND41rkPHDxlVAxQXghgAS5gAQwQxAHbXAgwRxABm3F0LQOYRxAC0pGqJqsur487RNQ1kB0EMQM65lDOnAWQeQQxAUnL3NEEMZAdBjMLW3y+9+64UiVhXkvOW17O7FmAhrSB2zv2Nc+5N59zPnXPfc84tDqguID0HD0qbN0srVkgXXCC1t0tPP21dVU5LbBGHh8OajkwbVQMUj3RbxM9JWu29P1/S25K+lH5JQJq8l37t16Q9e6SJCWl0NNoy/q3fkl5/3bq6nJU4Rjztp3Xg2AGjaoDikVYQe+9/4r2fOnn4kqRQ+iUBaXr1Vemdd6TJyfjzExPS3/2dSUn5INUSJsaJgcwLcox4h6RnZnrSObfTObfXObd3YGAgwLcFEvT2SqWlyeenp6Vf/jL79eQJdtcCbJTN9QLn3POSWlM8da/3/vsnX3OvpClJj890He/9Lkm7JKm7u5vd5JE5a9ZEW7+JFi2Srrwy+/XkCVrEgI05g9h7v2W2551zt0i6VtKVntu1IBe0tUk7d0rf/GZ0fFiSysulpUulW2+1rS2H1VbUaknVEg2ND8XOsbsWkHnpzpreKul/S9rmvR8LpiQgAA8+KH3ta9KFF0orV0p/8AfSvn3S4sXWleU01hID2Tdni3gOX5VUKek555wkveS9/19pVwWkyznpc5+L/mDeOus79fP+n8eOGSMGMi+tIPbefzioQgDYY5tLIPvYWQtATOLtEA8cO6CJqRQT3wAEhiAGEJNq5nTPSI9BJUDxIIgBxLCWGMg+ghhADGuJgewjiAHEdNR1JJ2jRQxkFkEMIKayrFKttfEb6dEiBjKLIAYQJ3GcmN21gMwiiAHEYXctILsIYgBxkjb1YIwYyCiCGECcxCAeGh/S6IlRo2qAwkcQY1727N+jm5+6Wa33tar0/5Sq9b5W3fzUzdqzf491aQhY4u5aEt3TQCYRxJjV5PSkdv7rTl32D5fpyf9+Uv2j/Yr4iPpH+/Xkfz+py/7hMu38152anJ60LhUBSbWWmAlbQOake/clFLjbf3S7Htn3yKyveWTfI3Jyevi6h7NUFTKJ3bWA7KJFjBnt2b9nzhA+Zde+XXpx/4sZrgjZ0FrbqrKS+H+j0zUNZA5BjBk99PJDC3r9V1/+aoYqQTaVlpSqva497hwtYiBzCGLM6IVfvrCg1+9+b3dmCkHWcV9iIHsIYsxoYGxgQa8/OHowQ5Ug2xJnTjNZC8gcghgzaq5uXtDrW2paMlQJsi1Vi9h7b1QNUNgIYszoipVXLOj1m7o2ZaYQZF3iEqaxyTENjQ8ZVQMUNoIYM7p97e0Lev0da+/IUCXINpYwAdlDEGNGG5dv1O+v+f15vXbnmp3asHxDhitCtqTa1IMJW0BmEMSY1UPXPDRnGO9cs1NfvYalS4Uk1TaXTNgCMoMgxqzKS8u167pd2vP5Pbpp9U1qrW1ViStRa22rblp9k/Z8fo8evu5hlZeWW5eKADUualRVWVXcObqmgcxgi0vMy4blG+h6LiLOOXXWd+qdw+/EztE1DWQGLWIAKSWOExPEQGYQxABSSlpLTNc0kBEEMYCUEidshYfDiviIUTVA4SKIAaSU2CKejEyq/1i/UTVA4SKIAaTEWmIgOwhiACmxuxaQHQQxgJRoEQPZQRADSKm+sl4NlQ1x52gRA8EjiAHMKLFVvH+YbS6BoBHEAGbEWmIg8whiADNKCmLGiIHAEcQAZpTYNd030qfJ6UmjaoDCRBADmFHi7lpeXr0jvUbVAIWJIAYwo1RribkvMRAsghjAjFhLDGQeQQxgRqH6UNI5Zk4DwSKIAcyoqqxKzdXNcedoEQPBIogBzCpxwhZBDASLIAYwq6TdtZisBQSKIAYwK3bXAjKLIAYwq8QgPnT8kMYmx4yqAQoPQQxgVqmWMIWHwwaVAIWJIAYwq8TJWhLd00CQCGIAs2J3LSCzCGIAs2qra1OJi/9PBUuYgOAQxABmVVZSpva69rhzdE0DwSGIAcyJ+xIDmUMQA5gTu2sBmUMQA5hTYot4/9H98t4bVQMUFoIYwJwS1xIfO3FMRyeOGlUDFBaCGMCcUi1hYsIWEAyCGMCcUu2uxTgxEAyCGMCc2F0LyByCGMCcmqubVVlaGXeO3bWAYBDEAObknFOoPhR3jq5pIBgEMYB5SRwnJoiBYBDEAOYlaXctxoiBQBDEAOYlccJWeDisiI8YVQMUDoIYwLwktognpic0MDpgVA1QOAhiAPPCWmIgMwhiAPPC7lpAZhDEAOaFFjGQGQQxgHlpqGxQXUVd3DlaxED6CGIA8+KcS2oV7x9mdy0gXQQxgHljLTEQPIIYwLwlBTFjxEDaCGIA85bYNd070qupyJRRNUBhIIgBzFvi7loRH1HfSJ9RNUBhIIgBzFuqtcTcDhFID0EMYN5YSwwEjyAGMG+J9ySWmDkNpIsgBjBv1eXValzUGHeOFjGQHoIYwIIkTtgiiIH0EMQAFiRpd63Dv5Ree00aGTGqCMhvgQSxc+4LzjnvnGsK4noAclfSph6//Jm0YYPU0iLdfbcUiRhVBuSntIPYOdcp6SpJrGEAikBiEA/USOPHR6TxcelrX5O+8hWbwoA8FUSL+AFJfyrJB3AtADku1RKmcP3JB2Nj0n33ZbcgIM+lFcTOuW2Serz3P5vHa3c65/Y65/YODAyk87YADCVO1pKk9+tPOzh0KHvFAAWgbK4XOOeel9Sa4ql7Jd0j6er5vJH3fpekXZLU3d1N6xnIUyl312r44LG/aI2Gx4+qoaoh6XUAks0ZxN77LanOO+fOk7RS0s+cc5IUkrTPObfOe38g0CoB5ITpyLRO/r7Huf8S6VsXSuEGp3DjT7XmH6/RizteNKgQ+WpyclLhcFjj4+PWpaSlqqpKoVBI5eXl8/4zcwbxTLz3r0lqOXXsnHtPUrf3fvBMrwkg97zW/5pu/eGt6hnpmfFuSz+P9Zl5KTKh9R3rs1oj8l84HFZdXZ26urpS/mMvH3jvdejQIYXDYa1cuXLef451xABmdW7LuTp8/LD2H90/71seXtJ5SYarQqEZHx9XY2Nj3oawJDnn1NjYuOBWfWBB7L3vojUMFJ4SV6Ivbvzigv7M+hAtYixcPofwKWfyGWgRA5jTZ8/7bMpJWql01HWkvDkEgNQIYgBzqiit0Bcu/cK8Xku3NLAwBDGAefm9Nb+npuq5d7FlohYK2Y4dO9TS0qLVq1cHdk2CGMC8VJdX666L75rzdYwPIwitrZJzwf20ptoN4wxs375dzz77bDAXO4kgBjBvt6+7XXUVdTM+X1ZSpjVta7JYEQpVf39uXu/yyy/X0qVLg7nYSQQxgHlbXLVYt3XfNuPzF7ZeqEXli7JYEZD/CGIAC/LHl/yxKksrUz5HtzTy3ZYtW7R69eqkn+9///sZe88z3lkLQHFqrW3Vjgt36O/3/n3ScwQx8t3zzz+f9fekRQxgwe6+9G6VutKk85eEWLoELBRBDGDBVi5ZqZtW3xR3rqWmRV2Lu2wKArLk5ptv1iWXXKK33npLoVBIjz76aNrXpGsawBn54sYv6vHXHo8drw+tL4gtCpEbli0Ldub0smXBXOeJJ54I5kKnoUUM4IysblmtbWdvix3TLY0gHTggeR/cz4EcvjkvQQzgjH1p45dij5moBZwZghjAGVsfWq9NXZtU4krU3d5tXQ6QlxgjBpCWezbeoyPjR1RbUWtdCpCXaBEDSMuWs7bojrV3WJcB5C2CGEBanHPaceEO6zKAvEUQA0gby5aAM0cQAwBgiCAGAOCkHTt2qKWlRatXr87aexLEAIDc09oqORfcT2vrvN52+/btevbZZzP84eIRxACA3BPk/pYLuN7ll1+upUuXBvvecyCIAQAwRBADAGCIIAYAwBBBDACAIYIYAICTbr75Zl1yySV66623FAqF9Oijj2b8PbnpAwAg9yxbFuzM6WXL5vWyJ554Irj3nCeCGACQew4csK4ga+iaBgDAEEEMAIAhghgAkBO899YlpO1MPgNBDAAwV1VVpUOHDuV1GHvvdejQIVVVVS3ozzFZCwBgLhQKKRwOa2BgwLqUtFRVVSkUCi3ozxDEAABz5eXlWrlypXUZJuiaBgDAEEEMAIAhghgAAEPOYoaac25A0q+y/sbpaZI0aF1EgeM7zjy+48zjO86OfPueV3jvm1M9YRLE+cg5t9d7321dRyHjO848vuPM4zvOjkL6numaBgDAEEEMAIAhgnj+dlkXUAT4jjOP7zjz+I6zo2C+Z8aIAQAwRIsYAABDBPECOee+4Jzzzrkm61oKkXPub5xzbzrnfu6c+55zbrF1TYXCObfVOfeWc+5d59wXrespNM65TufcC865N5xzrzvn7rSuqVA550qdcz91zv3QupYgEMQL4JzrlHSVpP3WtRSw5ySt9t6fL+ltSV8yrqcgOOdKJT0k6ZOSVkm62Tm3yraqgjMl6U+89x+TtF7S7XzHGXOnpDesiwgKQbwwD0j6U0kMrGeI9/4n3vupk4cvSVrYbUwwk3WS3vXe/4/3/oSkJyVdb1xTQfHe93nv9518PKJoUHTYVlV4nHMhSZ+S9A3rWoJCEM+Tc26bpB7v/c+saykiOyQ9Y11EgeiQ9P5px2EREhnjnOuSdKGk/zIupRB9RdEGUcS4jsBwG8TTOOeel9Sa4ql7Jd0j6ersVlSYZvuevfffP/maexXt6ns8m7UVMJfiHD07GeCcq5X0lKS7vPfD1vUUEufctZIOeu9fcc5tMi4nMATxabz3W1Kdd86dJ2mlpJ8556Rod+k+59w67/2BLJZYEGb6nk9xzt0i6VpJV3rW1wUlLKnztOOQpF6jWgqWc65c0RB+3Hv/z9b1FKANkrY5566RVCWp3jn3mPf+t43rSgvriM+Ac+49Sd3e+3zacDwvOOe2Srpf0ie89wPW9RQK51yZopPfrpTUI+llSZ/13r9uWlgBcdF/pf9fSYe993cZl1PwTraIv+C9v9a4lLQxRoxc81VJdZKec8696pz7unVBheDkBLg7JP1Y0UlE3yWEA7dB0u9I2nzy7+6rJ1tuwKxoEQMAYIgWMQAAhghiAAAMEcQAABgiiAEAMEQQAwBgiCAGAMAQQQwAgCGCGAAAQ/8f7m4mpdkjQB4AAAAASUVORK5CYII=\n",
          "text/plain": "<Figure size 576x576 with 1 Axes>"
         },
         "metadata": {
          "needs_background": "light"
         },
         "output_type": "display_data"
        }
       ]
      }
     },
     "ee191df75c654ae5bb837f3b67845923": {
      "model_module": "@jupyter-widgets/base",
      "model_module_version": "1.2.0",
      "model_name": "LayoutModel",
      "state": {}
     },
     "f009bef75f1940258ddd84fa35670e43": {
      "model_module": "@jupyter-widgets/base",
      "model_module_version": "1.2.0",
      "model_name": "LayoutModel",
      "state": {}
     },
     "f140470165ae4f9285e09fa670cbb02e": {
      "model_module": "@jupyter-widgets/controls",
      "model_module_version": "1.5.0",
      "model_name": "DescriptionStyleModel",
      "state": {
       "description_width": ""
      }
     },
     "f16d5acc58c544d29b78aa08ac677afc": {
      "model_module": "@jupyter-widgets/controls",
      "model_module_version": "1.5.0",
      "model_name": "VBoxModel",
      "state": {
       "_dom_classes": [
        "widget-interact"
       ],
       "children": [
        "IPY_MODEL_a669df88d40c4a1a90c15b6a739bb2c1",
        "IPY_MODEL_8fc6f7034b8a46a8bf1ca875299af692",
        "IPY_MODEL_c2c408fcea544bf29545ac5eaaacab9f"
       ],
       "layout": "IPY_MODEL_596bb76baf244a95832c44a0b8089ad4"
      }
     },
     "f1c535c9d90341ffa33a1ffaf97b5c32": {
      "model_module": "@jupyter-widgets/base",
      "model_module_version": "1.2.0",
      "model_name": "LayoutModel",
      "state": {}
     },
     "f2a1d24132cc427c8265402d6b137627": {
      "model_module": "@jupyter-widgets/controls",
      "model_module_version": "1.5.0",
      "model_name": "IntSliderModel",
      "state": {
       "description": "step",
       "layout": "IPY_MODEL_12350271694845b8a1f9ed0e26887e76",
       "max": 10,
       "style": "IPY_MODEL_835a8fcec71e40f7b4ea11c04beeed8a",
       "value": 10
      }
     },
     "f35ae07e882b458f80cdd4912f3b5e01": {
      "model_module": "@jupyter-widgets/controls",
      "model_module_version": "1.5.0",
      "model_name": "VBoxModel",
      "state": {
       "_dom_classes": [
        "widget-interact"
       ],
       "children": [
        "IPY_MODEL_580e0002c8604034827acb71997f9ace",
        "IPY_MODEL_6271fbc816444b8abc30f5e5170f7df9"
       ],
       "layout": "IPY_MODEL_5bc75b87ea1544d4aa042913484f6805"
      }
     },
     "f38392396ff74be49c182456774beb1c": {
      "model_module": "@jupyter-widgets/controls",
      "model_module_version": "1.5.0",
      "model_name": "DescriptionStyleModel",
      "state": {
       "description_width": ""
      }
     },
     "f3930bbc4b894b4eb15fd6789c973230": {
      "model_module": "@jupyter-widgets/controls",
      "model_module_version": "1.5.0",
      "model_name": "VBoxModel",
      "state": {
       "_dom_classes": [
        "widget-interact"
       ],
       "children": [
        "IPY_MODEL_3123f1ae155a44c488d42cab949d7346",
        "IPY_MODEL_5a4c22e9b65647db89aec527ead2a61c",
        "IPY_MODEL_49e466926ab643658a4c61b486f8af84"
       ],
       "layout": "IPY_MODEL_b4c80925a62f494da45a75b555e06475"
      }
     },
     "f54da6e952a44039ab5860674ad63a9c": {
      "model_module": "@jupyter-widgets/controls",
      "model_module_version": "1.5.0",
      "model_name": "SliderStyleModel",
      "state": {
       "description_width": ""
      }
     },
     "f6adf732bff748c787be519ca4eaccf3": {
      "model_module": "@jupyter-widgets/base",
      "model_module_version": "1.2.0",
      "model_name": "LayoutModel",
      "state": {}
     },
     "f7f56438e13a410b815d5b3c499f8c79": {
      "model_module": "@jupyter-widgets/controls",
      "model_module_version": "1.5.0",
      "model_name": "VBoxModel",
      "state": {
       "_dom_classes": [
        "widget-interact"
       ],
       "children": [
        "IPY_MODEL_f2a1d24132cc427c8265402d6b137627",
        "IPY_MODEL_8afe4fa8d1814d4bac2da7c77a450c3e"
       ],
       "layout": "IPY_MODEL_ad861088139e4f89b3725ac2b6f432b1"
      }
     },
     "f947c42a79ad42868100c4419a05d1d8": {
      "model_module": "@jupyter-widgets/output",
      "model_module_version": "1.0.0",
      "model_name": "OutputModel",
      "state": {
       "layout": "IPY_MODEL_7a32776bc0e246a2804931c527e1e061",
       "outputs": [
        {
         "name": "stdout",
         "output_type": "stream",
         "text": "Petal_Width = 0.0 Petal_Length + 0.0\n"
        },
        {
         "data": {
          "image/png": "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\n",
          "text/plain": "<Figure size 576x360 with 1 Axes>"
         },
         "metadata": {
          "needs_background": "light"
         },
         "output_type": "display_data"
        }
       ]
      }
     },
     "fbc0d8e24c244f5ca78d3f403459d7cd": {
      "model_module": "@jupyter-widgets/controls",
      "model_module_version": "1.5.0",
      "model_name": "DescriptionStyleModel",
      "state": {
       "description_width": ""
      }
     },
     "ff86511454004bcab80e898c3c322b52": {
      "model_module": "@jupyter-widgets/output",
      "model_module_version": "1.0.0",
      "model_name": "OutputModel",
      "state": {
       "layout": "IPY_MODEL_173ee6a42fcc4f64a3210da82e020848",
       "outputs": [
        {
         "ename": "ValueError",
         "evalue": "s must be a scalar, or float array-like with the same size as x and y",
         "output_type": "error",
         "traceback": [
          "\u001b[0;31m---------------------------------------------------------------------------\u001b[0m",
          "\u001b[0;31mValueError\u001b[0m                                Traceback (most recent call last)",
          "File \u001b[0;32m/opt/conda/lib/python3.9/site-packages/ipywidgets/widgets/interaction.py:257\u001b[0m, in \u001b[0;36minteractive.update\u001b[0;34m(self, *args)\u001b[0m\n\u001b[1;32m    255\u001b[0m     value \u001b[38;5;241m=\u001b[39m widget\u001b[38;5;241m.\u001b[39mget_interact_value()\n\u001b[1;32m    256\u001b[0m     \u001b[38;5;28mself\u001b[39m\u001b[38;5;241m.\u001b[39mkwargs[widget\u001b[38;5;241m.\u001b[39m_kwarg] \u001b[38;5;241m=\u001b[39m value\n\u001b[0;32m--> 257\u001b[0m \u001b[38;5;28mself\u001b[39m\u001b[38;5;241m.\u001b[39mresult \u001b[38;5;241m=\u001b[39m \u001b[38;5;28;43mself\u001b[39;49m\u001b[38;5;241;43m.\u001b[39;49m\u001b[43mf\u001b[49m\u001b[43m(\u001b[49m\u001b[38;5;241;43m*\u001b[39;49m\u001b[38;5;241;43m*\u001b[39;49m\u001b[38;5;28;43mself\u001b[39;49m\u001b[38;5;241;43m.\u001b[39;49m\u001b[43mkwargs\u001b[49m\u001b[43m)\u001b[49m\n\u001b[1;32m    258\u001b[0m show_inline_matplotlib_plots()\n\u001b[1;32m    259\u001b[0m \u001b[38;5;28;01mif\u001b[39;00m \u001b[38;5;28mself\u001b[39m\u001b[38;5;241m.\u001b[39mauto_display \u001b[38;5;129;01mand\u001b[39;00m \u001b[38;5;28mself\u001b[39m\u001b[38;5;241m.\u001b[39mresult \u001b[38;5;129;01mis\u001b[39;00m \u001b[38;5;129;01mnot\u001b[39;00m \u001b[38;5;28;01mNone\u001b[39;00m:\n",
          "File \u001b[0;32m/tmp/ipykernel_40/2827455564.py:15\u001b[0m, in \u001b[0;36mguiPerceptron.<locals>.f\u001b[0;34m(updates)\u001b[0m\n\u001b[1;32m     13\u001b[0m plt\u001b[38;5;241m.\u001b[39maxhline(\u001b[38;5;241m0\u001b[39m, color\u001b[38;5;241m=\u001b[39m\u001b[38;5;124m\"\u001b[39m\u001b[38;5;124mgray\u001b[39m\u001b[38;5;124m\"\u001b[39m, linewidth\u001b[38;5;241m=\u001b[39m\u001b[38;5;241m.5\u001b[39m)\n\u001b[1;32m     14\u001b[0m plt\u001b[38;5;241m.\u001b[39maxvline(\u001b[38;5;241m0\u001b[39m, color\u001b[38;5;241m=\u001b[39m\u001b[38;5;124m'\u001b[39m\u001b[38;5;124mgray\u001b[39m\u001b[38;5;124m'\u001b[39m, linewidth\u001b[38;5;241m=\u001b[39m\u001b[38;5;241m.5\u001b[39m)\n\u001b[0;32m---> 15\u001b[0m \u001b[43mplt\u001b[49m\u001b[38;5;241;43m.\u001b[39;49m\u001b[43mscatter\u001b[49m\u001b[43m(\u001b[49m\u001b[43m \u001b[49m\u001b[43mx\u001b[49m\u001b[43m[\u001b[49m\u001b[43m:\u001b[49m\u001b[43m,\u001b[49m\u001b[38;5;241;43m0\u001b[39;49m\u001b[43m]\u001b[49m\u001b[43m,\u001b[49m\u001b[43m \u001b[49m\u001b[43mx\u001b[49m\u001b[43m[\u001b[49m\u001b[43m:\u001b[49m\u001b[43m,\u001b[49m\u001b[38;5;241;43m1\u001b[39;49m\u001b[43m]\u001b[49m\u001b[43m,\u001b[49m\u001b[43m \u001b[49m\u001b[43mc\u001b[49m\u001b[38;5;241;43m=\u001b[39;49m\u001b[43my\u001b[49m\u001b[43m,\u001b[49m\u001b[43m \u001b[49m\u001b[43mcmap\u001b[49m\u001b[38;5;241;43m=\u001b[39;49m\u001b[38;5;124;43m\"\u001b[39;49m\u001b[38;5;124;43mbwr\u001b[39;49m\u001b[38;5;124;43m\"\u001b[39;49m\u001b[43m)\u001b[49m         \u001b[38;5;66;03m# Create scatter plot of data\u001b[39;00m\n\u001b[1;32m     16\u001b[0m plt\u001b[38;5;241m.\u001b[39mlegend( [Patch(\u001b[38;5;124m\"\u001b[39m\u001b[38;5;124mb\u001b[39m\u001b[38;5;124m\"\u001b[39m,\u001b[38;5;124m\"\u001b[39m\u001b[38;5;124mb\u001b[39m\u001b[38;5;124m\"\u001b[39m),Patch(\u001b[38;5;124m\"\u001b[39m\u001b[38;5;124mr\u001b[39m\u001b[38;5;124m\"\u001b[39m,\u001b[38;5;124m\"\u001b[39m\u001b[38;5;124mr\u001b[39m\u001b[38;5;124m\"\u001b[39m)], [\u001b[38;5;124m\"\u001b[39m\u001b[38;5;124m$-1$\u001b[39m\u001b[38;5;124m\"\u001b[39m,\u001b[38;5;124m\"\u001b[39m\u001b[38;5;124m$1$\u001b[39m\u001b[38;5;124m\"\u001b[39m], loc\u001b[38;5;241m=\u001b[39m\u001b[38;5;124m\"\u001b[39m\u001b[38;5;124mlower right\u001b[39m\u001b[38;5;124m\"\u001b[39m)       \u001b[38;5;66;03m# Add legend\u001b[39;00m\n\u001b[1;32m     17\u001b[0m plt\u001b[38;5;241m.\u001b[39maxis([\u001b[38;5;241m-\u001b[39m\u001b[38;5;241m5\u001b[39m, \u001b[38;5;241m5\u001b[39m, \u001b[38;5;241m-\u001b[39m\u001b[38;5;241m5\u001b[39m, \u001b[38;5;241m5\u001b[39m])                             \u001b[38;5;66;03m# Set x and y axis\u001b[39;00m\n",
          "File \u001b[0;32m/opt/conda/lib/python3.9/site-packages/matplotlib/pyplot.py:2807\u001b[0m, in \u001b[0;36mscatter\u001b[0;34m(x, y, s, c, marker, cmap, norm, vmin, vmax, alpha, linewidths, edgecolors, plotnonfinite, data, **kwargs)\u001b[0m\n\u001b[1;32m   2802\u001b[0m \u001b[38;5;129m@_copy_docstring_and_deprecators\u001b[39m(Axes\u001b[38;5;241m.\u001b[39mscatter)\n\u001b[1;32m   2803\u001b[0m \u001b[38;5;28;01mdef\u001b[39;00m \u001b[38;5;21mscatter\u001b[39m(\n\u001b[1;32m   2804\u001b[0m         x, y, s\u001b[38;5;241m=\u001b[39m\u001b[38;5;28;01mNone\u001b[39;00m, c\u001b[38;5;241m=\u001b[39m\u001b[38;5;28;01mNone\u001b[39;00m, marker\u001b[38;5;241m=\u001b[39m\u001b[38;5;28;01mNone\u001b[39;00m, cmap\u001b[38;5;241m=\u001b[39m\u001b[38;5;28;01mNone\u001b[39;00m, norm\u001b[38;5;241m=\u001b[39m\u001b[38;5;28;01mNone\u001b[39;00m,\n\u001b[1;32m   2805\u001b[0m         vmin\u001b[38;5;241m=\u001b[39m\u001b[38;5;28;01mNone\u001b[39;00m, vmax\u001b[38;5;241m=\u001b[39m\u001b[38;5;28;01mNone\u001b[39;00m, alpha\u001b[38;5;241m=\u001b[39m\u001b[38;5;28;01mNone\u001b[39;00m, linewidths\u001b[38;5;241m=\u001b[39m\u001b[38;5;28;01mNone\u001b[39;00m, \u001b[38;5;241m*\u001b[39m,\n\u001b[1;32m   2806\u001b[0m         edgecolors\u001b[38;5;241m=\u001b[39m\u001b[38;5;28;01mNone\u001b[39;00m, plotnonfinite\u001b[38;5;241m=\u001b[39m\u001b[38;5;28;01mFalse\u001b[39;00m, data\u001b[38;5;241m=\u001b[39m\u001b[38;5;28;01mNone\u001b[39;00m, \u001b[38;5;241m*\u001b[39m\u001b[38;5;241m*\u001b[39mkwargs):\n\u001b[0;32m-> 2807\u001b[0m     __ret \u001b[38;5;241m=\u001b[39m \u001b[43mgca\u001b[49m\u001b[43m(\u001b[49m\u001b[43m)\u001b[49m\u001b[38;5;241;43m.\u001b[39;49m\u001b[43mscatter\u001b[49m\u001b[43m(\u001b[49m\n\u001b[1;32m   2808\u001b[0m \u001b[43m        \u001b[49m\u001b[43mx\u001b[49m\u001b[43m,\u001b[49m\u001b[43m \u001b[49m\u001b[43my\u001b[49m\u001b[43m,\u001b[49m\u001b[43m \u001b[49m\u001b[43ms\u001b[49m\u001b[38;5;241;43m=\u001b[39;49m\u001b[43ms\u001b[49m\u001b[43m,\u001b[49m\u001b[43m \u001b[49m\u001b[43mc\u001b[49m\u001b[38;5;241;43m=\u001b[39;49m\u001b[43mc\u001b[49m\u001b[43m,\u001b[49m\u001b[43m \u001b[49m\u001b[43mmarker\u001b[49m\u001b[38;5;241;43m=\u001b[39;49m\u001b[43mmarker\u001b[49m\u001b[43m,\u001b[49m\u001b[43m \u001b[49m\u001b[43mcmap\u001b[49m\u001b[38;5;241;43m=\u001b[39;49m\u001b[43mcmap\u001b[49m\u001b[43m,\u001b[49m\u001b[43m \u001b[49m\u001b[43mnorm\u001b[49m\u001b[38;5;241;43m=\u001b[39;49m\u001b[43mnorm\u001b[49m\u001b[43m,\u001b[49m\n\u001b[1;32m   2809\u001b[0m \u001b[43m        \u001b[49m\u001b[43mvmin\u001b[49m\u001b[38;5;241;43m=\u001b[39;49m\u001b[43mvmin\u001b[49m\u001b[43m,\u001b[49m\u001b[43m \u001b[49m\u001b[43mvmax\u001b[49m\u001b[38;5;241;43m=\u001b[39;49m\u001b[43mvmax\u001b[49m\u001b[43m,\u001b[49m\u001b[43m \u001b[49m\u001b[43malpha\u001b[49m\u001b[38;5;241;43m=\u001b[39;49m\u001b[43malpha\u001b[49m\u001b[43m,\u001b[49m\u001b[43m \u001b[49m\u001b[43mlinewidths\u001b[49m\u001b[38;5;241;43m=\u001b[39;49m\u001b[43mlinewidths\u001b[49m\u001b[43m,\u001b[49m\n\u001b[1;32m   2810\u001b[0m \u001b[43m        \u001b[49m\u001b[43medgecolors\u001b[49m\u001b[38;5;241;43m=\u001b[39;49m\u001b[43medgecolors\u001b[49m\u001b[43m,\u001b[49m\u001b[43m \u001b[49m\u001b[43mplotnonfinite\u001b[49m\u001b[38;5;241;43m=\u001b[39;49m\u001b[43mplotnonfinite\u001b[49m\u001b[43m,\u001b[49m\n\u001b[1;32m   2811\u001b[0m \u001b[43m        \u001b[49m\u001b[38;5;241;43m*\u001b[39;49m\u001b[38;5;241;43m*\u001b[39;49m\u001b[43m(\u001b[49m\u001b[43m{\u001b[49m\u001b[38;5;124;43m\"\u001b[39;49m\u001b[38;5;124;43mdata\u001b[39;49m\u001b[38;5;124;43m\"\u001b[39;49m\u001b[43m:\u001b[49m\u001b[43m \u001b[49m\u001b[43mdata\u001b[49m\u001b[43m}\u001b[49m\u001b[43m \u001b[49m\u001b[38;5;28;43;01mif\u001b[39;49;00m\u001b[43m \u001b[49m\u001b[43mdata\u001b[49m\u001b[43m \u001b[49m\u001b[38;5;129;43;01mis\u001b[39;49;00m\u001b[43m \u001b[49m\u001b[38;5;129;43;01mnot\u001b[39;49;00m\u001b[43m \u001b[49m\u001b[38;5;28;43;01mNone\u001b[39;49;00m\u001b[43m \u001b[49m\u001b[38;5;28;43;01melse\u001b[39;49;00m\u001b[43m \u001b[49m\u001b[43m{\u001b[49m\u001b[43m}\u001b[49m\u001b[43m)\u001b[49m\u001b[43m,\u001b[49m\u001b[43m \u001b[49m\u001b[38;5;241;43m*\u001b[39;49m\u001b[38;5;241;43m*\u001b[39;49m\u001b[43mkwargs\u001b[49m\u001b[43m)\u001b[49m\n\u001b[1;32m   2812\u001b[0m     sci(__ret)\n\u001b[1;32m   2813\u001b[0m     \u001b[38;5;28;01mreturn\u001b[39;00m __ret\n",
          "File \u001b[0;32m/opt/conda/lib/python3.9/site-packages/matplotlib/__init__.py:1412\u001b[0m, in \u001b[0;36m_preprocess_data.<locals>.inner\u001b[0;34m(ax, data, *args, **kwargs)\u001b[0m\n\u001b[1;32m   1409\u001b[0m \u001b[38;5;129m@functools\u001b[39m\u001b[38;5;241m.\u001b[39mwraps(func)\n\u001b[1;32m   1410\u001b[0m \u001b[38;5;28;01mdef\u001b[39;00m \u001b[38;5;21minner\u001b[39m(ax, \u001b[38;5;241m*\u001b[39margs, data\u001b[38;5;241m=\u001b[39m\u001b[38;5;28;01mNone\u001b[39;00m, \u001b[38;5;241m*\u001b[39m\u001b[38;5;241m*\u001b[39mkwargs):\n\u001b[1;32m   1411\u001b[0m     \u001b[38;5;28;01mif\u001b[39;00m data \u001b[38;5;129;01mis\u001b[39;00m \u001b[38;5;28;01mNone\u001b[39;00m:\n\u001b[0;32m-> 1412\u001b[0m         \u001b[38;5;28;01mreturn\u001b[39;00m \u001b[43mfunc\u001b[49m\u001b[43m(\u001b[49m\u001b[43max\u001b[49m\u001b[43m,\u001b[49m\u001b[43m \u001b[49m\u001b[38;5;241;43m*\u001b[39;49m\u001b[38;5;28;43mmap\u001b[39;49m\u001b[43m(\u001b[49m\u001b[43msanitize_sequence\u001b[49m\u001b[43m,\u001b[49m\u001b[43m \u001b[49m\u001b[43margs\u001b[49m\u001b[43m)\u001b[49m\u001b[43m,\u001b[49m\u001b[43m \u001b[49m\u001b[38;5;241;43m*\u001b[39;49m\u001b[38;5;241;43m*\u001b[39;49m\u001b[43mkwargs\u001b[49m\u001b[43m)\u001b[49m\n\u001b[1;32m   1414\u001b[0m     bound \u001b[38;5;241m=\u001b[39m new_sig\u001b[38;5;241m.\u001b[39mbind(ax, \u001b[38;5;241m*\u001b[39margs, \u001b[38;5;241m*\u001b[39m\u001b[38;5;241m*\u001b[39mkwargs)\n\u001b[1;32m   1415\u001b[0m     auto_label \u001b[38;5;241m=\u001b[39m (bound\u001b[38;5;241m.\u001b[39marguments\u001b[38;5;241m.\u001b[39mget(label_namer)\n\u001b[1;32m   1416\u001b[0m                   \u001b[38;5;129;01mor\u001b[39;00m bound\u001b[38;5;241m.\u001b[39mkwargs\u001b[38;5;241m.\u001b[39mget(label_namer))\n",
          "File \u001b[0;32m/opt/conda/lib/python3.9/site-packages/mpl_toolkits/mplot3d/axes3d.py:2389\u001b[0m, in \u001b[0;36mAxes3D.scatter\u001b[0;34m(self, xs, ys, zs, zdir, s, c, depthshade, *args, **kwargs)\u001b[0m\n\u001b[1;32m   2386\u001b[0m \u001b[38;5;28;01mif\u001b[39;00m np\u001b[38;5;241m.\u001b[39mmay_share_memory(zs_orig, zs):  \u001b[38;5;66;03m# Avoid unnecessary copies.\u001b[39;00m\n\u001b[1;32m   2387\u001b[0m     zs \u001b[38;5;241m=\u001b[39m zs\u001b[38;5;241m.\u001b[39mcopy()\n\u001b[0;32m-> 2389\u001b[0m patches \u001b[38;5;241m=\u001b[39m \u001b[38;5;28;43msuper\u001b[39;49m\u001b[43m(\u001b[49m\u001b[43m)\u001b[49m\u001b[38;5;241;43m.\u001b[39;49m\u001b[43mscatter\u001b[49m\u001b[43m(\u001b[49m\u001b[43mxs\u001b[49m\u001b[43m,\u001b[49m\u001b[43m \u001b[49m\u001b[43mys\u001b[49m\u001b[43m,\u001b[49m\u001b[43m \u001b[49m\u001b[43ms\u001b[49m\u001b[38;5;241;43m=\u001b[39;49m\u001b[43ms\u001b[49m\u001b[43m,\u001b[49m\u001b[43m \u001b[49m\u001b[43mc\u001b[49m\u001b[38;5;241;43m=\u001b[39;49m\u001b[43mc\u001b[49m\u001b[43m,\u001b[49m\u001b[43m \u001b[49m\u001b[38;5;241;43m*\u001b[39;49m\u001b[43margs\u001b[49m\u001b[43m,\u001b[49m\u001b[43m \u001b[49m\u001b[38;5;241;43m*\u001b[39;49m\u001b[38;5;241;43m*\u001b[39;49m\u001b[43mkwargs\u001b[49m\u001b[43m)\u001b[49m\n\u001b[1;32m   2390\u001b[0m art3d\u001b[38;5;241m.\u001b[39mpatch_collection_2d_to_3d(patches, zs\u001b[38;5;241m=\u001b[39mzs, zdir\u001b[38;5;241m=\u001b[39mzdir,\n\u001b[1;32m   2391\u001b[0m                                 depthshade\u001b[38;5;241m=\u001b[39mdepthshade)\n\u001b[1;32m   2393\u001b[0m \u001b[38;5;28;01mif\u001b[39;00m \u001b[38;5;28mself\u001b[39m\u001b[38;5;241m.\u001b[39m_zmargin \u001b[38;5;241m<\u001b[39m \u001b[38;5;241m0.05\u001b[39m \u001b[38;5;129;01mand\u001b[39;00m xs\u001b[38;5;241m.\u001b[39msize \u001b[38;5;241m>\u001b[39m \u001b[38;5;241m0\u001b[39m:\n",
          "File \u001b[0;32m/opt/conda/lib/python3.9/site-packages/matplotlib/__init__.py:1412\u001b[0m, in \u001b[0;36m_preprocess_data.<locals>.inner\u001b[0;34m(ax, data, *args, **kwargs)\u001b[0m\n\u001b[1;32m   1409\u001b[0m \u001b[38;5;129m@functools\u001b[39m\u001b[38;5;241m.\u001b[39mwraps(func)\n\u001b[1;32m   1410\u001b[0m \u001b[38;5;28;01mdef\u001b[39;00m \u001b[38;5;21minner\u001b[39m(ax, \u001b[38;5;241m*\u001b[39margs, data\u001b[38;5;241m=\u001b[39m\u001b[38;5;28;01mNone\u001b[39;00m, \u001b[38;5;241m*\u001b[39m\u001b[38;5;241m*\u001b[39mkwargs):\n\u001b[1;32m   1411\u001b[0m     \u001b[38;5;28;01mif\u001b[39;00m data \u001b[38;5;129;01mis\u001b[39;00m \u001b[38;5;28;01mNone\u001b[39;00m:\n\u001b[0;32m-> 1412\u001b[0m         \u001b[38;5;28;01mreturn\u001b[39;00m \u001b[43mfunc\u001b[49m\u001b[43m(\u001b[49m\u001b[43max\u001b[49m\u001b[43m,\u001b[49m\u001b[43m \u001b[49m\u001b[38;5;241;43m*\u001b[39;49m\u001b[38;5;28;43mmap\u001b[39;49m\u001b[43m(\u001b[49m\u001b[43msanitize_sequence\u001b[49m\u001b[43m,\u001b[49m\u001b[43m \u001b[49m\u001b[43margs\u001b[49m\u001b[43m)\u001b[49m\u001b[43m,\u001b[49m\u001b[43m \u001b[49m\u001b[38;5;241;43m*\u001b[39;49m\u001b[38;5;241;43m*\u001b[39;49m\u001b[43mkwargs\u001b[49m\u001b[43m)\u001b[49m\n\u001b[1;32m   1414\u001b[0m     bound \u001b[38;5;241m=\u001b[39m new_sig\u001b[38;5;241m.\u001b[39mbind(ax, \u001b[38;5;241m*\u001b[39margs, \u001b[38;5;241m*\u001b[39m\u001b[38;5;241m*\u001b[39mkwargs)\n\u001b[1;32m   1415\u001b[0m     auto_label \u001b[38;5;241m=\u001b[39m (bound\u001b[38;5;241m.\u001b[39marguments\u001b[38;5;241m.\u001b[39mget(label_namer)\n\u001b[1;32m   1416\u001b[0m                   \u001b[38;5;129;01mor\u001b[39;00m bound\u001b[38;5;241m.\u001b[39mkwargs\u001b[38;5;241m.\u001b[39mget(label_namer))\n",
          "File \u001b[0;32m/opt/conda/lib/python3.9/site-packages/matplotlib/axes/_axes.py:4378\u001b[0m, in \u001b[0;36mAxes.scatter\u001b[0;34m(self, x, y, s, c, marker, cmap, norm, vmin, vmax, alpha, linewidths, edgecolors, plotnonfinite, **kwargs)\u001b[0m\n\u001b[1;32m   4374\u001b[0m s \u001b[38;5;241m=\u001b[39m np\u001b[38;5;241m.\u001b[39mma\u001b[38;5;241m.\u001b[39mravel(s)\n\u001b[1;32m   4375\u001b[0m \u001b[38;5;28;01mif\u001b[39;00m (\u001b[38;5;28mlen\u001b[39m(s) \u001b[38;5;129;01mnot\u001b[39;00m \u001b[38;5;129;01min\u001b[39;00m (\u001b[38;5;241m1\u001b[39m, x\u001b[38;5;241m.\u001b[39msize) \u001b[38;5;129;01mor\u001b[39;00m\n\u001b[1;32m   4376\u001b[0m         (\u001b[38;5;129;01mnot\u001b[39;00m np\u001b[38;5;241m.\u001b[39missubdtype(s\u001b[38;5;241m.\u001b[39mdtype, np\u001b[38;5;241m.\u001b[39mfloating) \u001b[38;5;129;01mand\u001b[39;00m\n\u001b[1;32m   4377\u001b[0m          \u001b[38;5;129;01mnot\u001b[39;00m np\u001b[38;5;241m.\u001b[39missubdtype(s\u001b[38;5;241m.\u001b[39mdtype, np\u001b[38;5;241m.\u001b[39minteger))):\n\u001b[0;32m-> 4378\u001b[0m     \u001b[38;5;28;01mraise\u001b[39;00m \u001b[38;5;167;01mValueError\u001b[39;00m(\n\u001b[1;32m   4379\u001b[0m         \u001b[38;5;124m\"\u001b[39m\u001b[38;5;124ms must be a scalar, \u001b[39m\u001b[38;5;124m\"\u001b[39m\n\u001b[1;32m   4380\u001b[0m         \u001b[38;5;124m\"\u001b[39m\u001b[38;5;124mor float array-like with the same size as x and y\u001b[39m\u001b[38;5;124m\"\u001b[39m)\n\u001b[1;32m   4382\u001b[0m \u001b[38;5;66;03m# get the original edgecolor the user passed before we normalize\u001b[39;00m\n\u001b[1;32m   4383\u001b[0m orig_edgecolor \u001b[38;5;241m=\u001b[39m edgecolors\n",
          "\u001b[0;31mValueError\u001b[0m: s must be a scalar, or float array-like with the same size as x and y"
         ]
        }
       ]
      }
     }
    },
    "version_major": 2,
    "version_minor": 0
   }
  }
 },
 "nbformat": 4,
 "nbformat_minor": 5
}
